{
 "cells": [
  {
   "cell_type": "markdown",
   "metadata": {},
   "source": [
    "# Home depot competition solution\n",
    "In this competition, Home Depot is asking Kagglers to help them improve their customers' shopping experience by developing a model that can accurately predict the relevance of search results.\n",
    "\n",
    "Search relevancy is an implicit measure Home Depot uses to gauge how quickly they can get customers to the right products. Currently, human raters evaluate the impact of potential changes to their search algorithms, which is a slow and subjective process. By removing or minimizing human input in search relevance evaluation, Home Depot hopes to increase the number of iterations their team can perform on the current search algorithms."
   ]
  },
  {
   "cell_type": "code",
   "execution_count": 1,
   "metadata": {
    "ExecuteTime": {
     "end_time": "2019-08-02T09:47:55.848203Z",
     "start_time": "2019-08-02T09:47:46.504638Z"
    },
    "_cell_guid": "b1076dfc-b9ad-4769-8c92-a6c4dae69d19",
    "_uuid": "8f2839f25d086af736a60e9eeb907d3b93b6e0e5"
   },
   "outputs": [],
   "source": [
    "import numpy as np  # linear algebra\n",
    "import pandas as pd  # data processing, CSV file I/O (e.g. pd.read_csv)\n",
    "import re  # preprocess\n",
    "\n",
    "from difflib import SequenceMatcher  # for LCS\n",
    "\n",
    "\n",
    "# Different models\n",
    "from sklearn.tree import DecisionTreeRegressor\n",
    "from sklearn.ensemble import RandomForestRegressor\n",
    "from sklearn.linear_model import LinearRegression\n",
    "\n",
    "# Evaluation\n",
    "from sklearn.metrics import mean_squared_error\n",
    "from sklearn.model_selection import train_test_split\n",
    "\n",
    "# Visualization\n",
    "import matplotlib.pyplot as plt\n",
    "from IPython.display import display\n",
    "%matplotlib inline"
   ]
  },
  {
   "cell_type": "code",
   "execution_count": 2,
   "metadata": {
    "ExecuteTime": {
     "end_time": "2019-08-02T09:47:55.864093Z",
     "start_time": "2019-08-02T09:47:55.861011Z"
    }
   },
   "outputs": [],
   "source": [
    "raw_data_path = \"../data/raw/\"\n",
    "preprocessed_data_path = \"../data/processed/\""
   ]
  },
  {
   "cell_type": "markdown",
   "metadata": {
    "heading_collapsed": true
   },
   "source": [
    "# LOAD RAW DATA"
   ]
  },
  {
   "cell_type": "code",
   "execution_count": 3,
   "metadata": {
    "ExecuteTime": {
     "end_time": "2019-07-25T10:02:37.059224Z",
     "start_time": "2019-07-25T10:02:34.308419Z"
    },
    "hidden": true,
    "scrolled": true
   },
   "outputs": [],
   "source": [
    "train = pd.read_csv(raw_data_path + \"train.csv\", encoding=\"ISO-8859-1\")\n",
    "attributes = pd.read_csv(\n",
    "    raw_data_path + \"attributes.csv\", encoding=\"ISO-8859-1\")\n",
    "descriptions = pd.read_csv(\n",
    "    raw_data_path + \"product_descriptions.csv\", encoding=\"ISO-8859-1\")\n",
    "\n",
    "display(\"Train:\", train.head(), train.shape)\n",
    "display(\"Attributes:\", attributes.head(), attributes.shape)\n",
    "display(\"Product descriptions:\", descriptions.head(), descriptions.shape)"
   ]
  },
  {
   "cell_type": "markdown",
   "metadata": {
    "heading_collapsed": true
   },
   "source": [
    "# EDA"
   ]
  },
  {
   "cell_type": "markdown",
   "metadata": {
    "heading_collapsed": true,
    "hidden": true
   },
   "source": [
    "## MIssing values"
   ]
  },
  {
   "cell_type": "code",
   "execution_count": 6,
   "metadata": {
    "hidden": true
   },
   "outputs": [
    {
     "name": "stdout",
     "output_type": "stream",
     "text": [
      "None values count:\n",
      "\n",
      "Train:\n",
      "id               0\n",
      "product_uid      0\n",
      "product_title    0\n",
      "search_term      0\n",
      "relevance        0\n",
      "dtype: int64\n",
      "\n",
      "Attributes:\n",
      "product_uid     155\n",
      "name            155\n",
      "value          2284\n",
      "dtype: int64\n",
      "\n",
      "Descriptions:\n",
      "product_uid            0\n",
      "product_description    0\n",
      "dtype: int64\n"
     ]
    }
   ],
   "source": [
    "print(\"None values count:\")\n",
    "print(\"\\nTrain:\", train.isna().sum(), \"\\nAttributes:\", attributes.isna().sum(),\n",
    "                                \"\\nDescriptions:\", descriptions.isna().sum(), sep='\\n')"
   ]
  },
  {
   "cell_type": "markdown",
   "metadata": {
    "hidden": true
   },
   "source": [
    "#### Conclusion: \n",
    "* No missing values in train.csv and product_descriptions.csv datasets, hence no treatment needed\n",
    "* There are missing values in attributes.csv, additional research required"
   ]
  },
  {
   "cell_type": "code",
   "execution_count": 7,
   "metadata": {
    "hidden": true
   },
   "outputs": [
    {
     "data": {
      "text/html": [
       "<div>\n",
       "<style scoped>\n",
       "    .dataframe tbody tr th:only-of-type {\n",
       "        vertical-align: middle;\n",
       "    }\n",
       "\n",
       "    .dataframe tbody tr th {\n",
       "        vertical-align: top;\n",
       "    }\n",
       "\n",
       "    .dataframe thead th {\n",
       "        text-align: right;\n",
       "    }\n",
       "</style>\n",
       "<table border=\"1\" class=\"dataframe\">\n",
       "  <thead>\n",
       "    <tr style=\"text-align: right;\">\n",
       "      <th></th>\n",
       "      <th>product_uid</th>\n",
       "      <th>name</th>\n",
       "      <th>value</th>\n",
       "    </tr>\n",
       "  </thead>\n",
       "  <tbody>\n",
       "    <tr>\n",
       "      <th>1022</th>\n",
       "      <td>100044.0</td>\n",
       "      <td>Collection Name</td>\n",
       "      <td>NaN</td>\n",
       "    </tr>\n",
       "    <tr>\n",
       "      <th>1349</th>\n",
       "      <td>100058.0</td>\n",
       "      <td>Battery Size</td>\n",
       "      <td>NaN</td>\n",
       "    </tr>\n",
       "    <tr>\n",
       "      <th>1929</th>\n",
       "      <td>NaN</td>\n",
       "      <td>NaN</td>\n",
       "      <td>NaN</td>\n",
       "    </tr>\n",
       "    <tr>\n",
       "      <th>4094</th>\n",
       "      <td>NaN</td>\n",
       "      <td>NaN</td>\n",
       "      <td>NaN</td>\n",
       "    </tr>\n",
       "    <tr>\n",
       "      <th>4100</th>\n",
       "      <td>NaN</td>\n",
       "      <td>NaN</td>\n",
       "      <td>NaN</td>\n",
       "    </tr>\n",
       "    <tr>\n",
       "      <th>5909</th>\n",
       "      <td>100248.0</td>\n",
       "      <td>Fastener Thread Type</td>\n",
       "      <td>NaN</td>\n",
       "    </tr>\n",
       "    <tr>\n",
       "      <th>6367</th>\n",
       "      <td>100266.0</td>\n",
       "      <td>Drive Style</td>\n",
       "      <td>NaN</td>\n",
       "    </tr>\n",
       "    <tr>\n",
       "      <th>6823</th>\n",
       "      <td>NaN</td>\n",
       "      <td>NaN</td>\n",
       "      <td>NaN</td>\n",
       "    </tr>\n",
       "    <tr>\n",
       "      <th>7898</th>\n",
       "      <td>100329.0</td>\n",
       "      <td>Fastener recommendation</td>\n",
       "      <td>NaN</td>\n",
       "    </tr>\n",
       "    <tr>\n",
       "      <th>7901</th>\n",
       "      <td>100329.0</td>\n",
       "      <td>MFG Brand Name</td>\n",
       "      <td>NaN</td>\n",
       "    </tr>\n",
       "  </tbody>\n",
       "</table>\n",
       "</div>"
      ],
      "text/plain": [
       "      product_uid                     name value\n",
       "1022     100044.0          Collection Name   NaN\n",
       "1349     100058.0             Battery Size   NaN\n",
       "1929          NaN                      NaN   NaN\n",
       "4094          NaN                      NaN   NaN\n",
       "4100          NaN                      NaN   NaN\n",
       "5909     100248.0     Fastener Thread Type   NaN\n",
       "6367     100266.0              Drive Style   NaN\n",
       "6823          NaN                      NaN   NaN\n",
       "7898     100329.0  Fastener recommendation   NaN\n",
       "7901     100329.0           MFG Brand Name   NaN"
      ]
     },
     "execution_count": 7,
     "metadata": {},
     "output_type": "execute_result"
    }
   ],
   "source": [
    "attributes[attributes.isnull().any(axis=1)].head(10)"
   ]
  },
  {
   "cell_type": "markdown",
   "metadata": {
    "hidden": true
   },
   "source": [
    "#### Conclusion:\n",
    "* All NaN rows cans be simply thrown away without hesitation\n",
    "* It appears that attribute's name is meaningless without value. Also, this type of missing value comprises only ~2% of the whole dataset. Let's try to throw away this too"
   ]
  },
  {
   "cell_type": "markdown",
   "metadata": {
    "heading_collapsed": true,
    "hidden": true
   },
   "source": [
    "## Class balance"
   ]
  },
  {
   "cell_type": "code",
   "execution_count": 28,
   "metadata": {
    "hidden": true
   },
   "outputs": [
    {
     "data": {
      "text/plain": [
       "2.0    34614\n",
       "3.0    34338\n",
       "1.0     5115\n",
       "Name: relevance, dtype: int64"
      ]
     },
     "execution_count": 28,
     "metadata": {},
     "output_type": "execute_result"
    }
   ],
   "source": [
    "scores = train.iloc[:, 4].round(0)\n",
    "scores.value_counts()"
   ]
  },
  {
   "cell_type": "code",
   "execution_count": 29,
   "metadata": {
    "hidden": true
   },
   "outputs": [
    {
     "data": {
      "text/plain": [
       "<matplotlib.axes._subplots.AxesSubplot at 0x7fd7bb74f2b0>"
      ]
     },
     "execution_count": 29,
     "metadata": {},
     "output_type": "execute_result"
    },
    {
     "data": {
      "image/png": "[encoded data removed]",
      "text/plain": [
       "<Figure size 432x288 with 1 Axes>"
      ]
     },
     "metadata": {
      "needs_background": "light"
     },
     "output_type": "display_data"
    }
   ],
   "source": [
    "scores = train.iloc[:, 4]\n",
    "scores.hist()"
   ]
  },
  {
   "cell_type": "markdown",
   "metadata": {
    "hidden": true
   },
   "source": [
    "#### Conclusion: distribution is heavily shifted towards higher scores, hence accuracy may suffer"
   ]
  },
  {
   "cell_type": "markdown",
   "metadata": {
    "heading_collapsed": true,
    "hidden": true
   },
   "source": [
    "## Outliers"
   ]
  },
  {
   "cell_type": "code",
   "execution_count": null,
   "metadata": {
    "hidden": true
   },
   "outputs": [],
   "source": [
    "# TODO"
   ]
  },
  {
   "cell_type": "markdown",
   "metadata": {
    "heading_collapsed": true
   },
   "source": [
    "# MANUAL DATA INSPECTION"
   ]
  },
  {
   "cell_type": "markdown",
   "metadata": {
    "hidden": true
   },
   "source": [
    "## Train.csv\n",
    "### Observations:\n",
    "* Dictionary word correction and lemmatization are needed for search_term column\n",
    "* Lemmatization should be enough for product title, but it probably fine to play it safe and apply dictionary word correction too\n",
    "* Standart text preprocessing is needed: remove stop words (have to do it first, to get rid from \"in\" **but not \"in.\"**), dots, semicolons and any funny non-letter non-digit (might be exceptions, like measurment units and fractions) symbols etc. \n",
    "* **Symbols to remove**\n",
    "    * `.`\n",
    "    * `,`\n",
    "    * `&`\n",
    "    * `#`\n",
    "    * `()`\n",
    "    * `-`\n",
    "    \n",
    "* **Some measurment units are essentially same**, but written differently, like \"in.\" and \"inch\", or \"ft.\" and \"feet\", gonna deal with it somehow\n",
    "    * Inches synonyms: \n",
    "        * \\'\\' (they follow immediately after the number)\n",
    "        * in.\n",
    "        * inches\n",
    "    * Feet synonyms: \n",
    "        * \\' (they follow immediately after the number) \n",
    "        * ft.\n",
    "        * feet\n",
    "    * Pound synonyms:\n",
    "        * \\#  (?) unsure\n",
    "        * lb\n",
    "        * lbs\n",
    "        * pound\n",
    "    * Cubic inch:\n",
    "        * cu. in.\n",
    "        * cubic inch\n",
    "    * Cubic feet:\n",
    "        * cu. ft.\n",
    "        * cubic feet\n",
    "        * cubic foot\n",
    "    * Gallons synonyms:\n",
    "        * gal.\n",
    "        * gallon\n",
    "    * Yards synonyms:\n",
    "        * yds. \n",
    "        * yards\n",
    "    * Angstrom, synonyms:\n",
    "        * å¡\n",
    "        * å\n",
    "* `4x6` - these should look like this: `4 x 6`\n",
    "* Have to split words by capital letter, digits (if they contain them inside)\n",
    "* There are a lot of `*number* in./ft. x *number* in./ft.` **but query contains only `*number* x *number*`**; have to deal with this one somehow\n",
    "* `by` is synonym to `x`  \n",
    "* Some words are written by all caps, should convert it to usual word with on capital letter\n",
    "\n",
    "\n",
    "\n",
    "\n",
    "\n",
    "#  Train.csv text preprocessing summarization:\n",
    "\n",
    "\n",
    "1. Remove all in list: `[',', '(', ')', '#', '&']`, replace `['-', '+']` by whitespace\n",
    "1. Replace equivalent measurments by their common synonym\n",
    "1. Split words by capital letter or/and digits (if they contain them inside)\n",
    "1. To lowercase everything\n",
    "1. Remove all double/triple/etc whitespaces\n",
    "1. Replace `by` by `x`\n",
    "1. For each word compute the closest word from our dictionary; of the word is too far leave it as it is\n",
    "1. Lemmatize each word \n",
    "1. Create another dictionary of all words from dataset and replace words by tokens"
   ]
  },
  {
   "cell_type": "code",
   "execution_count": 47,
   "metadata": {
    "hidden": true,
    "scrolled": true
   },
   "outputs": [
    {
     "data": {
      "text/html": [
       "<div>\n",
       "<style scoped>\n",
       "    .dataframe tbody tr th:only-of-type {\n",
       "        vertical-align: middle;\n",
       "    }\n",
       "\n",
       "    .dataframe tbody tr th {\n",
       "        vertical-align: top;\n",
       "    }\n",
       "\n",
       "    .dataframe thead th {\n",
       "        text-align: right;\n",
       "    }\n",
       "</style>\n",
       "<table border=\"1\" class=\"dataframe\">\n",
       "  <thead>\n",
       "    <tr style=\"text-align: right;\">\n",
       "      <th></th>\n",
       "      <th>id</th>\n",
       "      <th>product_uid</th>\n",
       "      <th>product_title</th>\n",
       "      <th>search_term</th>\n",
       "      <th>relevance</th>\n",
       "    </tr>\n",
       "  </thead>\n",
       "  <tbody>\n",
       "    <tr>\n",
       "      <th>323</th>\n",
       "      <td>1060</td>\n",
       "      <td>100179</td>\n",
       "      <td>Paslode 3 in. x 0.120-Gauge 30å¡ Galvanized Ri...</td>\n",
       "      <td>galvanized framing nails</td>\n",
       "      <td>2.67</td>\n",
       "    </tr>\n",
       "    <tr>\n",
       "      <th>324</th>\n",
       "      <td>1062</td>\n",
       "      <td>100179</td>\n",
       "      <td>Paslode 3 in. x 0.120-Gauge 30å¡ Galvanized Ri...</td>\n",
       "      <td>paslode framing nails</td>\n",
       "      <td>3.00</td>\n",
       "    </tr>\n",
       "    <tr>\n",
       "      <th>2304</th>\n",
       "      <td>7065</td>\n",
       "      <td>101205</td>\n",
       "      <td>Grip-Rite #8 x 3 in. 16å¡ Bright Steel Duplex ...</td>\n",
       "      <td>framing nails</td>\n",
       "      <td>2.33</td>\n",
       "    </tr>\n",
       "    <tr>\n",
       "      <th>2620</th>\n",
       "      <td>8092</td>\n",
       "      <td>101367</td>\n",
       "      <td>DEWALT 20-Volt Max XR Lithium-Ion Cordless Bru...</td>\n",
       "      <td>dewalt xr</td>\n",
       "      <td>3.00</td>\n",
       "    </tr>\n",
       "    <tr>\n",
       "      <th>2621</th>\n",
       "      <td>8094</td>\n",
       "      <td>101367</td>\n",
       "      <td>DEWALT 20-Volt Max XR Lithium-Ion Cordless Bru...</td>\n",
       "      <td>lithium 20 dewalt</td>\n",
       "      <td>2.67</td>\n",
       "    </tr>\n",
       "  </tbody>\n",
       "</table>\n",
       "</div>"
      ],
      "text/plain": [
       "        id  product_uid                                      product_title  \\\n",
       "323   1060       100179  Paslode 3 in. x 0.120-Gauge 30å¡ Galvanized Ri...   \n",
       "324   1062       100179  Paslode 3 in. x 0.120-Gauge 30å¡ Galvanized Ri...   \n",
       "2304  7065       101205  Grip-Rite #8 x 3 in. 16å¡ Bright Steel Duplex ...   \n",
       "2620  8092       101367  DEWALT 20-Volt Max XR Lithium-Ion Cordless Bru...   \n",
       "2621  8094       101367  DEWALT 20-Volt Max XR Lithium-Ion Cordless Bru...   \n",
       "\n",
       "                   search_term  relevance  \n",
       "323   galvanized framing nails       2.67  \n",
       "324      paslode framing nails       3.00  \n",
       "2304             framing nails       2.33  \n",
       "2620                 dewalt xr       3.00  \n",
       "2621         lithium 20 dewalt       2.67  "
      ]
     },
     "execution_count": 47,
     "metadata": {},
     "output_type": "execute_result"
    }
   ],
   "source": [
    "train.loc[train['product_title'].str.contains(\"å¡\")].head() # excuse me what the fuck"
   ]
  },
  {
   "cell_type": "markdown",
   "metadata": {
    "hidden": true
   },
   "source": [
    "## Attributes.csv\n",
    "### Observations:\n",
    "* Bullet*somenumber* is meaningless. It's value is what matters\n",
    "* If value is missing or is equal to \"No\", the row probaly should be ignored\n",
    "\n",
    "### Preprocessing summarization:\n",
    "1. Throw away rows with missing values or \"no\" in it\n",
    "2. Join attributes for each product into one like this: `first_attribute_name + \" \" + first_attribute_value + \" \" second_attribute_name + second_attribute_value + ` and so on (but be sure not to include `bullet*somenumber*`)\n",
    "3. Apply same tranformation as to train.csv\n"
   ]
  },
  {
   "cell_type": "markdown",
   "metadata": {
    "hidden": true
   },
   "source": [
    "## Product descriptions\n",
    "### Preprocessing summarization:\n",
    "1. Apply same transormations as to train.csv"
   ]
  },
  {
   "cell_type": "markdown",
   "metadata": {
    "heading_collapsed": true
   },
   "source": [
    "# TEXT PREPROCESSING"
   ]
  },
  {
   "cell_type": "markdown",
   "metadata": {
    "heading_collapsed": true,
    "hidden": true
   },
   "source": [
    "### Preprocessing helpers"
   ]
  },
  {
   "cell_type": "code",
   "execution_count": 4,
   "metadata": {
    "ExecuteTime": {
     "end_time": "2019-07-25T10:02:42.877784Z",
     "start_time": "2019-07-25T10:02:42.870915Z"
    },
    "hidden": true
   },
   "outputs": [],
   "source": [
    "# remove and replace unnecessary chars\n",
    "\n",
    "chars_to_remove = [',', '\\(', '\\)', '#', '\\&', ';']\n",
    "chars_to_replace = ['-', '\\+']\n",
    "\n",
    "str_rem = \"|\".join(chars_to_remove)\n",
    "str_rep = \"|\".join(chars_to_replace)\n",
    "\n",
    "\n",
    "def remove_amp(s):\n",
    "    return s.replace('&amp;', ' ')\n",
    "\n",
    "\n",
    "def remove_chars(s):\n",
    "    return re.sub(str_rem, \"\", s)\n",
    "\n",
    "\n",
    "def replace_chars(s):\n",
    "    return re.sub(str_rep, \" \", s)\n",
    "\n",
    "\n",
    "def string_punctuation_prep(s):\n",
    "    s = remove_amp(s)\n",
    "    s = remove_chars(s)\n",
    "    s = replace_chars(s)\n",
    "    return s"
   ]
  },
  {
   "cell_type": "code",
   "execution_count": 5,
   "metadata": {
    "ExecuteTime": {
     "end_time": "2019-07-25T10:02:43.474319Z",
     "start_time": "2019-07-25T10:02:43.467010Z"
    },
    "hidden": true
   },
   "outputs": [],
   "source": [
    "# Split words by capital letter or/and digits (if they contain them inside)\n",
    "\n",
    "capitals_regex = re.compile('[A-Z]+[^A-Z]*|[^A-Z]+')\n",
    "digits_regex = re.compile('\\d+|\\D+')\n",
    "\n",
    "\n",
    "def split_by_capital(s):\n",
    "    if re.match(\"[A-Z]+\", s) is not None:  # If s contains capital letters\n",
    "        words = capitals_regex.findall(s)\n",
    "        words = map(str.strip, words)\n",
    "        s = \" \".join(words)\n",
    "    return s\n",
    "\n",
    "\n",
    "def split_by_digit(s):\n",
    "    if re.search(\"[0-9]+\", s) is not None:  # If s contains digits\n",
    "        # potential troublemaker!!!! might be None\n",
    "        words = digits_regex.findall(s)\n",
    "        words = map(str.strip, words)\n",
    "        s = \" \".join(words)\n",
    "    return s\n",
    "\n",
    "\n",
    "def string_cap_dig_split(s):\n",
    "    s = split_by_capital(s)\n",
    "    s = split_by_digit(s)\n",
    "    return s"
   ]
  },
  {
   "cell_type": "code",
   "execution_count": 6,
   "metadata": {
    "ExecuteTime": {
     "end_time": "2019-07-25T10:02:44.008449Z",
     "start_time": "2019-07-25T10:02:43.998446Z"
    },
    "hidden": true
   },
   "outputs": [],
   "source": [
    "def replace_inches(s):\n",
    "    s = s.replace('\\'\\'', ' inches')\n",
    "    s = s.replace('in.', 'inches')\n",
    "    s = s.replace('in', 'inches')\n",
    "    return s\n",
    "\n",
    "\n",
    "def replace_feet(s):\n",
    "    s = s.replace('\\'', ' feet')\n",
    "    s = s.replace('ft.', 'feet')\n",
    "    s = s.replace('ft', 'feet')\n",
    "    return s\n",
    "\n",
    "\n",
    "def replace_pound(s):\n",
    "    s = s.replace(' lb.', ' pound')\n",
    "    s = s.replace(' lbs.', ' pound')\n",
    "    return s\n",
    "\n",
    "\n",
    "def replace_cubic(s):\n",
    "    s = s.replace(' cu.', ' cubic')\n",
    "    return s\n",
    "\n",
    "\n",
    "def replace_gallon(s):\n",
    "    s = s.replace(' gal.', ' gallon')\n",
    "    return s\n",
    "\n",
    "\n",
    "def replace_pound(s):\n",
    "    s = s.replace(' lb', ' pound')\n",
    "    s = s.replace(' lbs.', ' pound')\n",
    "    return s\n",
    "\n",
    "\n",
    "def replace_yards(s):\n",
    "    s = s.replace(' yds.', ' yards')\n",
    "    return s\n",
    "\n",
    "\n",
    "def replace_angstrom(s):  # just in case\n",
    "    s = s.replace('å¡', ' angstrom')\n",
    "    s = s.replace('å', ' angstrom')\n",
    "    return s\n",
    "\n",
    "\n",
    "def string_replace_units(s):\n",
    "    s = replace_inches(s)  # BEFORE FEET!\n",
    "    s = replace_feet(s)\n",
    "    s = replace_pound(s)\n",
    "    s = replace_cubic(s)\n",
    "    s = replace_gallon(s)\n",
    "    s = replace_yards(s)\n",
    "    s = replace_angstrom(s)\n",
    "    return s\n",
    "\n"
   ]
  },
  {
   "cell_type": "code",
   "execution_count": 7,
   "metadata": {
    "ExecuteTime": {
     "end_time": "2019-07-25T10:02:44.767596Z",
     "start_time": "2019-07-25T10:02:44.760854Z"
    },
    "hidden": true
   },
   "outputs": [],
   "source": [
    "# lower text\n",
    "def lower(s):\n",
    "    return s.lower()\n",
    "\n",
    "\n",
    "# remove text\n",
    "def remove_mult_spaces(s):\n",
    "    return re.sub(' +', ' ', s).strip()\n",
    "\n",
    "\n",
    "# replace 'by' by 'x'\n",
    "def by_to_x(s):\n",
    "    return s.replace(' by ', ' x ')\n",
    "\n",
    "def remove_at(i, s):\n",
    "    return s[:i] + s[i+1:]\n",
    "\n",
    "# remove dots on the end of the word\n",
    "def remove_dots(s):\n",
    "    if re.search(r'[a-zA-Z]\\.', s) is not None:\n",
    "        s = s.replace('.', '')\n",
    "    return s\n",
    "\n",
    "        \n",
    "def string_other_preprocessing(s):\n",
    "    s = lower(s)\n",
    "    s = remove_mult_spaces(s)\n",
    "    s = by_to_x(s)\n",
    "    s = remove_dots(s)\n",
    "    return s\n",
    "\n"
   ]
  },
  {
   "cell_type": "code",
   "execution_count": 8,
   "metadata": {
    "ExecuteTime": {
     "end_time": "2019-07-25T10:02:47.417455Z",
     "start_time": "2019-07-25T10:02:45.894311Z"
    },
    "hidden": true
   },
   "outputs": [],
   "source": [
    "import nltk\n",
    "from nltk.stem.wordnet import WordNetLemmatizer\n",
    "\n",
    "Lem = WordNetLemmatizer()\n",
    "\n",
    "\n",
    "def string_lemmatize(s):\n",
    "    words = [Lem.lemmatize(w) for w in s.split(' ')]\n",
    "    s = ' '.join(words)\n",
    "    return s"
   ]
  },
  {
   "cell_type": "markdown",
   "metadata": {
    "heading_collapsed": true,
    "hidden": true
   },
   "source": [
    "### Main helpers"
   ]
  },
  {
   "cell_type": "code",
   "execution_count": 15,
   "metadata": {
    "ExecuteTime": {
     "end_time": "2019-07-25T10:04:01.825211Z",
     "start_time": "2019-07-25T10:04:01.818563Z"
    },
    "hidden": true
   },
   "outputs": [],
   "source": [
    "# main helpers\n",
    "\n",
    "def process_row(row, func):\n",
    "    new_row = []\n",
    "    for s in row:\n",
    "        s = func(s)\n",
    "        new_row.append(s)\n",
    "    return pd.Series(new_row)\n",
    "\n",
    "def punctuation_prep(row):\n",
    "    return process_row(row, string_punctuation_prep)\n",
    "\n",
    "\n",
    "def replace_units(row):\n",
    "    return process_row(row, string_replace_units)\n",
    "\n",
    "\n",
    "def cap_dig_split(row):\n",
    "    return process_row(row, string_cap_dig_split)\n",
    "\n",
    "\n",
    "def other_preprocessing(row):\n",
    "    return process_row(row, string_other_preprocessing)\n",
    "\n",
    "\n",
    "def lemmatize(row):\n",
    "    return process_row(row, string_lemmatize)\n"
   ]
  },
  {
   "cell_type": "code",
   "execution_count": 9,
   "metadata": {
    "ExecuteTime": {
     "end_time": "2019-07-25T10:02:47.487951Z",
     "start_time": "2019-07-25T10:02:47.478234Z"
    },
    "hidden": true,
    "scrolled": true
   },
   "outputs": [],
   "source": [
    "def prepare_dataset(dataset):    \n",
    "    \n",
    "    # 1 Remove all in list: [',', '(', ')', '#', '&'], replace ['-', '+'] by whitespace\n",
    "    dataset = dataset.apply(punctuation_prep, axis=1)\n",
    "    print(\"#1 Punctuation removed\")\n",
    "    gc.collect()\n",
    "    \n",
    "    # 2 Replace units\n",
    "    dataset = dataset.apply(replace_units, axis=1)\n",
    "    print(\"#2 Units replaced\")\n",
    "    gc.collect()\n",
    "    \n",
    "    # 3 Split by capitals and digits\n",
    "    dataset = dataset.apply(cap_dig_split, axis=1)\n",
    "    print(\"#3 Capitals and digits done\")\n",
    "    gc.collect()\n",
    "    \n",
    "    # 4 Lower, remove whitespaces and by to x replacement\n",
    "    dataset = dataset.apply(other_preprocessing, axis=1)\n",
    "    print(\"#4 Lower, remove whitespaces and by to x replacement\")\n",
    "    gc.collect()\n",
    "    \n",
    "    # 5 Lemmatize\n",
    "    dataset = dataset.apply(lemmatize, axis=1)\n",
    "    print(\"#5 Lemmatize\")\n",
    "    \n",
    "    return(dataset)\n"
   ]
  },
  {
   "cell_type": "markdown",
   "metadata": {
    "heading_collapsed": true,
    "hidden": true
   },
   "source": [
    "### Train.csv"
   ]
  },
  {
   "cell_type": "code",
   "execution_count": 48,
   "metadata": {
    "ExecuteTime": {
     "end_time": "2019-07-25T09:43:03.696583Z",
     "start_time": "2019-07-25T09:42:32.046824Z"
    },
    "hidden": true
   },
   "outputs": [
    {
     "name": "stdout",
     "output_type": "stream",
     "text": [
      "#1 Punctuation removed\n",
      "#1 Punctuation removed\n",
      "#1 Punctuation removed\n",
      "#1 Punctuation removed\n",
      "#1 Punctuation removed\n",
      "#1 Punctuation removed\n",
      "#1 Punctuation removed\n",
      "#1 Punctuation removed\n",
      "#2 Units replaced\n",
      "#2 Units replaced\n",
      "#2 Units replaced\n",
      "#2 Units replaced\n",
      "#2 Units replaced\n",
      "#2 Units replaced\n",
      "#2 Units replaced\n",
      "#2 Units replaced\n",
      "#3 Capitals and digits done\n",
      "#3 Capitals and digits done\n",
      "#3 Capitals and digits done\n",
      "#3 Capitals and digits done\n",
      "#3 Capitals and digits done\n",
      "#3 Capitals and digits done\n",
      "#3 Capitals and digits done\n",
      "#3 Capitals and digits done\n",
      "#4 Lower, remove whitespaces and by to x replacement\n",
      "#4 Lower, remove whitespaces and by to x replacement\n",
      "#4 Lower, remove whitespaces and by to x replacement\n",
      "#4 Lower, remove whitespaces and by to x replacement\n",
      "#4 Lower, remove whitespaces and by to x replacement\n",
      "#4 Lower, remove whitespaces and by to x replacement\n",
      "#4 Lower, remove whitespaces and by to x replacement\n",
      "#4 Lower, remove whitespaces and by to x replacement\n",
      "#5 Lemmatize\n",
      "#5 Lemmatize\n",
      "#5 Lemmatize\n",
      "#5 Lemmatize\n",
      "#5 Lemmatize\n",
      "#5 Lemmatize\n",
      "#5 Lemmatize\n",
      "#5 Lemmatize\n"
     ]
    },
    {
     "data": {
      "text/html": [
       "<div>\n",
       "<style scoped>\n",
       "    .dataframe tbody tr th:only-of-type {\n",
       "        vertical-align: middle;\n",
       "    }\n",
       "\n",
       "    .dataframe tbody tr th {\n",
       "        vertical-align: top;\n",
       "    }\n",
       "\n",
       "    .dataframe thead th {\n",
       "        text-align: right;\n",
       "    }\n",
       "</style>\n",
       "<table border=\"1\" class=\"dataframe\">\n",
       "  <thead>\n",
       "    <tr style=\"text-align: right;\">\n",
       "      <th></th>\n",
       "      <th>product_title</th>\n",
       "      <th>search_term</th>\n",
       "    </tr>\n",
       "  </thead>\n",
       "  <tbody>\n",
       "    <tr>\n",
       "      <th>0</th>\n",
       "      <td>simpson strong tie 12 gauge angle</td>\n",
       "      <td>angle bracket</td>\n",
       "    </tr>\n",
       "    <tr>\n",
       "      <th>1</th>\n",
       "      <td>simpson strong tie 12 gauge angle</td>\n",
       "      <td>l bracket</td>\n",
       "    </tr>\n",
       "    <tr>\n",
       "      <th>2</th>\n",
       "      <td>behr premium textured deck over 1 gallon sc 14...</td>\n",
       "      <td>deck over</td>\n",
       "    </tr>\n",
       "    <tr>\n",
       "      <th>3</th>\n",
       "      <td>delta vero 1 handle shower only faucet trim ki...</td>\n",
       "      <td>rain shower head</td>\n",
       "    </tr>\n",
       "    <tr>\n",
       "      <th>4</th>\n",
       "      <td>delta vero 1 handle shower only faucet trim ki...</td>\n",
       "      <td>shower only faucet</td>\n",
       "    </tr>\n",
       "    <tr>\n",
       "      <th>5</th>\n",
       "      <td>whirlpool 1 . 9 cubic foot over the range conv...</td>\n",
       "      <td>convection otr</td>\n",
       "    </tr>\n",
       "    <tr>\n",
       "      <th>6</th>\n",
       "      <td>whirlpool 1 . 9 cubic foot over the range conv...</td>\n",
       "      <td>microwave over stove</td>\n",
       "    </tr>\n",
       "    <tr>\n",
       "      <th>7</th>\n",
       "      <td>whirlpool 1 . 9 cubic foot over the range conv...</td>\n",
       "      <td>microwave</td>\n",
       "    </tr>\n",
       "    <tr>\n",
       "      <th>8</th>\n",
       "      <td>lithonia lighting quantum 2 light black led em...</td>\n",
       "      <td>emergency light</td>\n",
       "    </tr>\n",
       "    <tr>\n",
       "      <th>9</th>\n",
       "      <td>house of fara 3 / 4 inch x 3 inch x 8 foot mdf...</td>\n",
       "      <td>mdf 3 / 4</td>\n",
       "    </tr>\n",
       "  </tbody>\n",
       "</table>\n",
       "</div>"
      ],
      "text/plain": [
       "                                       product_title           search_term\n",
       "0                  simpson strong tie 12 gauge angle         angle bracket\n",
       "1                  simpson strong tie 12 gauge angle             l bracket\n",
       "2  behr premium textured deck over 1 gallon sc 14...             deck over\n",
       "3  delta vero 1 handle shower only faucet trim ki...      rain shower head\n",
       "4  delta vero 1 handle shower only faucet trim ki...    shower only faucet\n",
       "5  whirlpool 1 . 9 cubic foot over the range conv...        convection otr\n",
       "6  whirlpool 1 . 9 cubic foot over the range conv...  microwave over stove\n",
       "7  whirlpool 1 . 9 cubic foot over the range conv...             microwave\n",
       "8  lithonia lighting quantum 2 light black led em...       emergency light\n",
       "9  house of fara 3 / 4 inch x 3 inch x 8 foot mdf...             mdf 3 / 4"
      ]
     },
     "metadata": {},
     "output_type": "display_data"
    },
    {
     "data": {
      "text/plain": [
       "(74067, 5)"
      ]
     },
     "metadata": {},
     "output_type": "display_data"
    }
   ],
   "source": [
    "prep_train = train.copy()\n",
    "\n",
    "\n",
    "dataset = prep_train[[\"product_title\", \"search_term\"]]\n",
    "prep_train[[\"product_title\", \"search_term\"]] = parallelize(dataset, prepare_dataset)\n",
    "\n",
    "\n",
    "prep_train.to_csv(preprocessed_data_path + \"train.csv\", index=False) \n",
    "display(prep_train[[\"product_title\", \"search_term\"]].head(10), prep_train.shape)"
   ]
  },
  {
   "cell_type": "markdown",
   "metadata": {
    "heading_collapsed": true,
    "hidden": true
   },
   "source": [
    "### Product_descriptions.csv"
   ]
  },
  {
   "cell_type": "code",
   "execution_count": 60,
   "metadata": {
    "ExecuteTime": {
     "end_time": "2019-07-24T12:33:11.393238Z",
     "start_time": "2019-07-24T12:32:00.094754Z"
    },
    "hidden": true
   },
   "outputs": [
    {
     "name": "stdout",
     "output_type": "stream",
     "text": [
      "#1 Punctuation removed\n",
      "#1 Punctuation removed\n",
      "#1 Punctuation removed\n",
      "#1 Punctuation removed\n",
      "#1 Punctuation removed\n",
      "#1 Punctuation removed\n",
      "#1 Punctuation removed\n",
      "#1 Punctuation removed\n",
      "#2 Units replaced\n",
      "#2 Units replaced\n",
      "#2 Units replaced\n",
      "#2 Units replaced\n",
      "#2 Units replaced\n",
      "#2 Units replaced\n",
      "#2 Units replaced\n",
      "#2 Units replaced\n",
      "#3 Capitals and digits done\n",
      "#3 Capitals and digits done\n",
      "#3 Capitals and digits done\n",
      "#3 Capitals and digits done\n",
      "#3 Capitals and digits done\n",
      "#3 Capitals and digits done\n",
      "#3 Capitals and digits done\n",
      "#3 Capitals and digits done\n",
      "#4 Lower, remove whitespaces and by to x replacement\n",
      "#4 Lower, remove whitespaces and by to x replacement\n",
      "#4 Lower, remove whitespaces and by to x replacement\n",
      "#4 Lower, remove whitespaces and by to x replacement\n",
      "#4 Lower, remove whitespaces and by to x replacement\n",
      "#4 Lower, remove whitespaces and by to x replacement\n",
      "#4 Lower, remove whitespaces and by to x replacement\n",
      "#4 Lower, remove whitespaces and by to x replacement\n",
      "#5 Lemmatize\n",
      "#5 Lemmatize\n",
      "#5 Lemmatize\n",
      "#5 Lemmatize\n",
      "#5 Lemmatize\n",
      "#5 Lemmatize\n",
      "#5 Lemmatize\n",
      "#5 Lemmatize\n"
     ]
    },
    {
     "data": {
      "text/html": [
       "<div>\n",
       "<style scoped>\n",
       "    .dataframe tbody tr th:only-of-type {\n",
       "        vertical-align: middle;\n",
       "    }\n",
       "\n",
       "    .dataframe tbody tr th {\n",
       "        vertical-align: top;\n",
       "    }\n",
       "\n",
       "    .dataframe thead th {\n",
       "        text-align: right;\n",
       "    }\n",
       "</style>\n",
       "<table border=\"1\" class=\"dataframe\">\n",
       "  <thead>\n",
       "    <tr style=\"text-align: right;\">\n",
       "      <th></th>\n",
       "      <th>product_uid</th>\n",
       "      <th>product_description</th>\n",
       "    </tr>\n",
       "  </thead>\n",
       "  <tbody>\n",
       "    <tr>\n",
       "      <th>0</th>\n",
       "      <td>100001</td>\n",
       "      <td>not only do angle make joint stronger they als...</td>\n",
       "    </tr>\n",
       "    <tr>\n",
       "      <th>1</th>\n",
       "      <td>100002</td>\n",
       "      <td>behr premium textured deckover is an innovativ...</td>\n",
       "    </tr>\n",
       "    <tr>\n",
       "      <th>2</th>\n",
       "      <td>100003</td>\n",
       "      <td>classic architecture meet contemporary design ...</td>\n",
       "    </tr>\n",
       "    <tr>\n",
       "      <th>3</th>\n",
       "      <td>100004</td>\n",
       "      <td>the grape solar 265 watt polycrystalline pv so...</td>\n",
       "    </tr>\n",
       "    <tr>\n",
       "      <th>4</th>\n",
       "      <td>100005</td>\n",
       "      <td>update your bathroom with the delta vero singl...</td>\n",
       "    </tr>\n",
       "    <tr>\n",
       "      <th>5</th>\n",
       "      <td>100006</td>\n",
       "      <td>achieving delicious result is almost effortles...</td>\n",
       "    </tr>\n",
       "    <tr>\n",
       "      <th>6</th>\n",
       "      <td>100007</td>\n",
       "      <td>the quantum adjustable 2 light led black emerg...</td>\n",
       "    </tr>\n",
       "    <tr>\n",
       "      <th>7</th>\n",
       "      <td>100008</td>\n",
       "      <td>the teks 10 x 1 1 / 2 inch zinc plated steel w...</td>\n",
       "    </tr>\n",
       "    <tr>\n",
       "      <th>8</th>\n",
       "      <td>100009</td>\n",
       "      <td>get the house of fara 3 / 4 inch x 3 inch x 8 ...</td>\n",
       "    </tr>\n",
       "    <tr>\n",
       "      <th>9</th>\n",
       "      <td>100010</td>\n",
       "      <td>valley view industry metal stake 4 pack are 9 ...</td>\n",
       "    </tr>\n",
       "  </tbody>\n",
       "</table>\n",
       "</div>"
      ],
      "text/plain": [
       "   product_uid                                product_description\n",
       "0       100001  not only do angle make joint stronger they als...\n",
       "1       100002  behr premium textured deckover is an innovativ...\n",
       "2       100003  classic architecture meet contemporary design ...\n",
       "3       100004  the grape solar 265 watt polycrystalline pv so...\n",
       "4       100005  update your bathroom with the delta vero singl...\n",
       "5       100006  achieving delicious result is almost effortles...\n",
       "6       100007  the quantum adjustable 2 light led black emerg...\n",
       "7       100008  the teks 10 x 1 1 / 2 inch zinc plated steel w...\n",
       "8       100009  get the house of fara 3 / 4 inch x 3 inch x 8 ...\n",
       "9       100010  valley view industry metal stake 4 pack are 9 ..."
      ]
     },
     "metadata": {},
     "output_type": "display_data"
    },
    {
     "data": {
      "text/plain": [
       "(124428, 2)"
      ]
     },
     "metadata": {},
     "output_type": "display_data"
    }
   ],
   "source": [
    "prep_desc = descriptions.copy()\n",
    "\n",
    "\n",
    "dataset = prep_desc[[\"product_description\"]]\n",
    "prep_desc[[\"product_description\"]] = parallelize(dataset, prepare_dataset)\n",
    "\n",
    "\n",
    "prep_desc.to_csv(preprocessed_data_path + \"product_descriptions.csv\", index=False) \n",
    "display(prep_desc.head(10), prep_desc.shape)"
   ]
  },
  {
   "cell_type": "markdown",
   "metadata": {
    "heading_collapsed": true,
    "hidden": true
   },
   "source": [
    "### Attributes.csv"
   ]
  },
  {
   "cell_type": "code",
   "execution_count": 10,
   "metadata": {
    "ExecuteTime": {
     "end_time": "2019-07-25T10:03:00.915135Z",
     "start_time": "2019-07-25T10:03:00.229157Z"
    },
    "hidden": true
   },
   "outputs": [
    {
     "data": {
      "text/plain": [
       "(2042519, 3)"
      ]
     },
     "execution_count": 10,
     "metadata": {},
     "output_type": "execute_result"
    }
   ],
   "source": [
    "prep_attr = attributes.copy()\n",
    "prep_attr = prep_attr.dropna()\n",
    "prep_attr.shape"
   ]
  },
  {
   "cell_type": "code",
   "execution_count": null,
   "metadata": {
    "ExecuteTime": {
     "start_time": "2019-07-25T10:04:13.163Z"
    },
    "hidden": true
   },
   "outputs": [],
   "source": [
    "# warning: wants additional ram, around 4 gb\n",
    "dataset = prep_attr[[\"name\", \"value\"]]\n",
    "prep_attr[[\"name\", \"value\"]] = parallelize(dataset, prepare_dataset, num_of_processes=7)\n",
    "prep_attr.to_csv(preprocessed_data_path + \"attributes.csv\") \n",
    "display(prep_attr.head(10), prep_attr.shape)"
   ]
  },
  {
   "cell_type": "code",
   "execution_count": 20,
   "metadata": {
    "ExecuteTime": {
     "end_time": "2019-07-25T11:55:05.892363Z",
     "start_time": "2019-07-25T11:54:58.284557Z"
    },
    "hidden": true
   },
   "outputs": [
    {
     "data": {
      "text/html": [
       "<div>\n",
       "<style scoped>\n",
       "    .dataframe tbody tr th:only-of-type {\n",
       "        vertical-align: middle;\n",
       "    }\n",
       "\n",
       "    .dataframe tbody tr th {\n",
       "        vertical-align: top;\n",
       "    }\n",
       "\n",
       "    .dataframe thead th {\n",
       "        text-align: right;\n",
       "    }\n",
       "</style>\n",
       "<table border=\"1\" class=\"dataframe\">\n",
       "  <thead>\n",
       "    <tr style=\"text-align: right;\">\n",
       "      <th></th>\n",
       "      <th>product_uid</th>\n",
       "      <th>name</th>\n",
       "      <th>value</th>\n",
       "    </tr>\n",
       "  </thead>\n",
       "  <tbody>\n",
       "    <tr>\n",
       "      <th>0</th>\n",
       "      <td>100001.0</td>\n",
       "      <td>bullet 01</td>\n",
       "      <td>versatile connector for various 90 â° connecti...</td>\n",
       "    </tr>\n",
       "    <tr>\n",
       "      <th>1</th>\n",
       "      <td>100001.0</td>\n",
       "      <td>bullet 02</td>\n",
       "      <td>stronger than angled nailing or screw fastenin...</td>\n",
       "    </tr>\n",
       "    <tr>\n",
       "      <th>2</th>\n",
       "      <td>100001.0</td>\n",
       "      <td>bullet 03</td>\n",
       "      <td>help ensure joint are consistently straight an...</td>\n",
       "    </tr>\n",
       "    <tr>\n",
       "      <th>3</th>\n",
       "      <td>100001.0</td>\n",
       "      <td>bullet 04</td>\n",
       "      <td>dimensions: 3 inch x 3 inch x 1 1 / 2 inch</td>\n",
       "    </tr>\n",
       "    <tr>\n",
       "      <th>4</th>\n",
       "      <td>100001.0</td>\n",
       "      <td>bullet 05</td>\n",
       "      <td>made from 12 gauge steel</td>\n",
       "    </tr>\n",
       "    <tr>\n",
       "      <th>5</th>\n",
       "      <td>100001.0</td>\n",
       "      <td>bullet 06</td>\n",
       "      <td>galvanized for extra corrosion resistance</td>\n",
       "    </tr>\n",
       "    <tr>\n",
       "      <th>6</th>\n",
       "      <td>100001.0</td>\n",
       "      <td>bullet 07</td>\n",
       "      <td>install with 10 d common nail or 9 x 1 1 / 2 i...</td>\n",
       "    </tr>\n",
       "    <tr>\n",
       "      <th>7</th>\n",
       "      <td>100001.0</td>\n",
       "      <td>gauge</td>\n",
       "      <td>12</td>\n",
       "    </tr>\n",
       "    <tr>\n",
       "      <th>8</th>\n",
       "      <td>100001.0</td>\n",
       "      <td>material</td>\n",
       "      <td>galvanized steel</td>\n",
       "    </tr>\n",
       "    <tr>\n",
       "      <th>9</th>\n",
       "      <td>100001.0</td>\n",
       "      <td>mfg brand name</td>\n",
       "      <td>simpson strong tie</td>\n",
       "    </tr>\n",
       "    <tr>\n",
       "      <th>10</th>\n",
       "      <td>100001.0</td>\n",
       "      <td>number of piece</td>\n",
       "      <td>1</td>\n",
       "    </tr>\n",
       "    <tr>\n",
       "      <th>11</th>\n",
       "      <td>100001.0</td>\n",
       "      <td>product depth inch</td>\n",
       "      <td>1 . 5</td>\n",
       "    </tr>\n",
       "    <tr>\n",
       "      <th>12</th>\n",
       "      <td>100001.0</td>\n",
       "      <td>product height inch</td>\n",
       "      <td>3</td>\n",
       "    </tr>\n",
       "    <tr>\n",
       "      <th>13</th>\n",
       "      <td>100001.0</td>\n",
       "      <td>product weight pound</td>\n",
       "      <td>0 . 26</td>\n",
       "    </tr>\n",
       "    <tr>\n",
       "      <th>14</th>\n",
       "      <td>100001.0</td>\n",
       "      <td>product width inch</td>\n",
       "      <td>3</td>\n",
       "    </tr>\n",
       "    <tr>\n",
       "      <th>15</th>\n",
       "      <td>100002.0</td>\n",
       "      <td>application method</td>\n",
       "      <td>brush roller spray</td>\n",
       "    </tr>\n",
       "    <tr>\n",
       "      <th>16</th>\n",
       "      <td>100002.0</td>\n",
       "      <td>assembled depth inch</td>\n",
       "      <td>6 . 63 in</td>\n",
       "    </tr>\n",
       "    <tr>\n",
       "      <th>17</th>\n",
       "      <td>100002.0</td>\n",
       "      <td>assembled height inch</td>\n",
       "      <td>7 . 76 in</td>\n",
       "    </tr>\n",
       "    <tr>\n",
       "      <th>18</th>\n",
       "      <td>100002.0</td>\n",
       "      <td>assembled width inch</td>\n",
       "      <td>6 . 63 in</td>\n",
       "    </tr>\n",
       "    <tr>\n",
       "      <th>19</th>\n",
       "      <td>100002.0</td>\n",
       "      <td>bullet 01</td>\n",
       "      <td>revives wood and composite deck railing porch ...</td>\n",
       "    </tr>\n",
       "    <tr>\n",
       "      <th>20</th>\n",
       "      <td>100002.0</td>\n",
       "      <td>bullet 02</td>\n",
       "      <td>100 % acrylic solid color coating</td>\n",
       "    </tr>\n",
       "    <tr>\n",
       "      <th>21</th>\n",
       "      <td>100002.0</td>\n",
       "      <td>bullet 03</td>\n",
       "      <td>resists cracking and peeling and conceals spli...</td>\n",
       "    </tr>\n",
       "    <tr>\n",
       "      <th>22</th>\n",
       "      <td>100002.0</td>\n",
       "      <td>bullet 04</td>\n",
       "      <td>provides a durable mildew resistant finish</td>\n",
       "    </tr>\n",
       "    <tr>\n",
       "      <th>23</th>\n",
       "      <td>100002.0</td>\n",
       "      <td>bullet 05</td>\n",
       "      <td>cover up to 75 sq foot in 2 coat per gallon</td>\n",
       "    </tr>\n",
       "    <tr>\n",
       "      <th>24</th>\n",
       "      <td>100002.0</td>\n",
       "      <td>bullet 06</td>\n",
       "      <td>creates a textured slip resistant finish</td>\n",
       "    </tr>\n",
       "    <tr>\n",
       "      <th>25</th>\n",
       "      <td>100002.0</td>\n",
       "      <td>bullet 07</td>\n",
       "      <td>for best result prepare with the appropriate b...</td>\n",
       "    </tr>\n",
       "    <tr>\n",
       "      <th>26</th>\n",
       "      <td>100002.0</td>\n",
       "      <td>bullet 08</td>\n",
       "      <td>actual paint color may vary from on screen and...</td>\n",
       "    </tr>\n",
       "    <tr>\n",
       "      <th>27</th>\n",
       "      <td>100002.0</td>\n",
       "      <td>bullet 10</td>\n",
       "      <td>color available to be tinted in most store</td>\n",
       "    </tr>\n",
       "    <tr>\n",
       "      <th>28</th>\n",
       "      <td>100002.0</td>\n",
       "      <td>bullet 18</td>\n",
       "      <td>online price includes paint care fee in the fo...</td>\n",
       "    </tr>\n",
       "    <tr>\n",
       "      <th>29</th>\n",
       "      <td>100002.0</td>\n",
       "      <td>cleanup</td>\n",
       "      <td>soap and water</td>\n",
       "    </tr>\n",
       "    <tr>\n",
       "      <th>...</th>\n",
       "      <td>...</td>\n",
       "      <td>...</td>\n",
       "      <td>...</td>\n",
       "    </tr>\n",
       "    <tr>\n",
       "      <th>76</th>\n",
       "      <td>100003.0</td>\n",
       "      <td>tub depth inch</td>\n",
       "      <td>20</td>\n",
       "    </tr>\n",
       "    <tr>\n",
       "      <th>77</th>\n",
       "      <td>100003.0</td>\n",
       "      <td>tub height inch</td>\n",
       "      <td>18</td>\n",
       "    </tr>\n",
       "    <tr>\n",
       "      <th>78</th>\n",
       "      <td>100003.0</td>\n",
       "      <td>tub length inch</td>\n",
       "      <td>60</td>\n",
       "    </tr>\n",
       "    <tr>\n",
       "      <th>79</th>\n",
       "      <td>100003.0</td>\n",
       "      <td>tub width inch</td>\n",
       "      <td>33 . 25</td>\n",
       "    </tr>\n",
       "    <tr>\n",
       "      <th>80</th>\n",
       "      <td>100003.0</td>\n",
       "      <td>wall height inch</td>\n",
       "      <td>54</td>\n",
       "    </tr>\n",
       "    <tr>\n",
       "      <th>81</th>\n",
       "      <td>100003.0</td>\n",
       "      <td>water capacity gallon</td>\n",
       "      <td>55</td>\n",
       "    </tr>\n",
       "    <tr>\n",
       "      <th>82</th>\n",
       "      <td>100004.0</td>\n",
       "      <td>amperage amp</td>\n",
       "      <td>8 . 56</td>\n",
       "    </tr>\n",
       "    <tr>\n",
       "      <th>83</th>\n",
       "      <td>100004.0</td>\n",
       "      <td>bullet 01</td>\n",
       "      <td>positive power tolerance 0 to 5 watt</td>\n",
       "    </tr>\n",
       "    <tr>\n",
       "      <th>84</th>\n",
       "      <td>100004.0</td>\n",
       "      <td>bullet 02</td>\n",
       "      <td>anti reflective and anti soiling surface reduc...</td>\n",
       "    </tr>\n",
       "    <tr>\n",
       "      <th>85</th>\n",
       "      <td>100004.0</td>\n",
       "      <td>bullet 03</td>\n",
       "      <td>outstanding performance in low light irradianc...</td>\n",
       "    </tr>\n",
       "    <tr>\n",
       "      <th>86</th>\n",
       "      <td>100004.0</td>\n",
       "      <td>bullet 04</td>\n",
       "      <td>certified to withstand high wind and snow load</td>\n",
       "    </tr>\n",
       "    <tr>\n",
       "      <th>87</th>\n",
       "      <td>100004.0</td>\n",
       "      <td>bullet 05</td>\n",
       "      <td>100 % electroluminescence inspection ensures m...</td>\n",
       "    </tr>\n",
       "    <tr>\n",
       "      <th>88</th>\n",
       "      <td>100004.0</td>\n",
       "      <td>bullet 06</td>\n",
       "      <td>positive and negative lead quipped with mc 4 c...</td>\n",
       "    </tr>\n",
       "    <tr>\n",
       "      <th>90</th>\n",
       "      <td>100004.0</td>\n",
       "      <td>electrical product type</td>\n",
       "      <td>solar power panel</td>\n",
       "    </tr>\n",
       "    <tr>\n",
       "      <th>93</th>\n",
       "      <td>100004.0</td>\n",
       "      <td>mfg brand name</td>\n",
       "      <td>grape solar</td>\n",
       "    </tr>\n",
       "    <tr>\n",
       "      <th>95</th>\n",
       "      <td>100004.0</td>\n",
       "      <td>number of panel</td>\n",
       "      <td>4</td>\n",
       "    </tr>\n",
       "    <tr>\n",
       "      <th>96</th>\n",
       "      <td>100004.0</td>\n",
       "      <td>panel height inch</td>\n",
       "      <td>1 . 57</td>\n",
       "    </tr>\n",
       "    <tr>\n",
       "      <th>97</th>\n",
       "      <td>100004.0</td>\n",
       "      <td>panel length inch</td>\n",
       "      <td>64 . 96</td>\n",
       "    </tr>\n",
       "    <tr>\n",
       "      <th>98</th>\n",
       "      <td>100004.0</td>\n",
       "      <td>panel weight pound</td>\n",
       "      <td>40</td>\n",
       "    </tr>\n",
       "    <tr>\n",
       "      <th>99</th>\n",
       "      <td>100004.0</td>\n",
       "      <td>panel width inch</td>\n",
       "      <td>39</td>\n",
       "    </tr>\n",
       "    <tr>\n",
       "      <th>101</th>\n",
       "      <td>100004.0</td>\n",
       "      <td>product depth inch</td>\n",
       "      <td>64 . 96</td>\n",
       "    </tr>\n",
       "    <tr>\n",
       "      <th>102</th>\n",
       "      <td>100004.0</td>\n",
       "      <td>product height inch</td>\n",
       "      <td>1 . 57</td>\n",
       "    </tr>\n",
       "    <tr>\n",
       "      <th>103</th>\n",
       "      <td>100004.0</td>\n",
       "      <td>product width inch</td>\n",
       "      <td>39</td>\n",
       "    </tr>\n",
       "    <tr>\n",
       "      <th>104</th>\n",
       "      <td>100004.0</td>\n",
       "      <td>solar panel type</td>\n",
       "      <td>polycrystalline silicon panel</td>\n",
       "    </tr>\n",
       "    <tr>\n",
       "      <th>105</th>\n",
       "      <td>100004.0</td>\n",
       "      <td>voltage volt</td>\n",
       "      <td>30 . 96</td>\n",
       "    </tr>\n",
       "    <tr>\n",
       "      <th>106</th>\n",
       "      <td>100004.0</td>\n",
       "      <td>wattage watt</td>\n",
       "      <td>265</td>\n",
       "    </tr>\n",
       "    <tr>\n",
       "      <th>107</th>\n",
       "      <td>100005.0</td>\n",
       "      <td>bath faucet type</td>\n",
       "      <td>combo tub and shower</td>\n",
       "    </tr>\n",
       "    <tr>\n",
       "      <th>109</th>\n",
       "      <td>100005.0</td>\n",
       "      <td>bullet 01</td>\n",
       "      <td>includes the trim kit only the rough in kit r ...</td>\n",
       "    </tr>\n",
       "    <tr>\n",
       "      <th>110</th>\n",
       "      <td>100005.0</td>\n",
       "      <td>bullet 02</td>\n",
       "      <td>includes the handle</td>\n",
       "    </tr>\n",
       "    <tr>\n",
       "      <th>111</th>\n",
       "      <td>100005.0</td>\n",
       "      <td>bullet 03</td>\n",
       "      <td>maintains a balanced pressure of hot and cold ...</td>\n",
       "    </tr>\n",
       "  </tbody>\n",
       "</table>\n",
       "<p>100 rows × 3 columns</p>\n",
       "</div>"
      ],
      "text/plain": [
       "     product_uid                     name  \\\n",
       "0       100001.0                bullet 01   \n",
       "1       100001.0                bullet 02   \n",
       "2       100001.0                bullet 03   \n",
       "3       100001.0                bullet 04   \n",
       "4       100001.0                bullet 05   \n",
       "5       100001.0                bullet 06   \n",
       "6       100001.0                bullet 07   \n",
       "7       100001.0                    gauge   \n",
       "8       100001.0                 material   \n",
       "9       100001.0           mfg brand name   \n",
       "10      100001.0          number of piece   \n",
       "11      100001.0       product depth inch   \n",
       "12      100001.0      product height inch   \n",
       "13      100001.0     product weight pound   \n",
       "14      100001.0       product width inch   \n",
       "15      100002.0       application method   \n",
       "16      100002.0     assembled depth inch   \n",
       "17      100002.0    assembled height inch   \n",
       "18      100002.0     assembled width inch   \n",
       "19      100002.0                bullet 01   \n",
       "20      100002.0                bullet 02   \n",
       "21      100002.0                bullet 03   \n",
       "22      100002.0                bullet 04   \n",
       "23      100002.0                bullet 05   \n",
       "24      100002.0                bullet 06   \n",
       "25      100002.0                bullet 07   \n",
       "26      100002.0                bullet 08   \n",
       "27      100002.0                bullet 10   \n",
       "28      100002.0                bullet 18   \n",
       "29      100002.0                  cleanup   \n",
       "..           ...                      ...   \n",
       "76      100003.0           tub depth inch   \n",
       "77      100003.0          tub height inch   \n",
       "78      100003.0          tub length inch   \n",
       "79      100003.0           tub width inch   \n",
       "80      100003.0         wall height inch   \n",
       "81      100003.0    water capacity gallon   \n",
       "82      100004.0             amperage amp   \n",
       "83      100004.0                bullet 01   \n",
       "84      100004.0                bullet 02   \n",
       "85      100004.0                bullet 03   \n",
       "86      100004.0                bullet 04   \n",
       "87      100004.0                bullet 05   \n",
       "88      100004.0                bullet 06   \n",
       "90      100004.0  electrical product type   \n",
       "93      100004.0           mfg brand name   \n",
       "95      100004.0          number of panel   \n",
       "96      100004.0        panel height inch   \n",
       "97      100004.0        panel length inch   \n",
       "98      100004.0       panel weight pound   \n",
       "99      100004.0         panel width inch   \n",
       "101     100004.0       product depth inch   \n",
       "102     100004.0      product height inch   \n",
       "103     100004.0       product width inch   \n",
       "104     100004.0         solar panel type   \n",
       "105     100004.0             voltage volt   \n",
       "106     100004.0             wattage watt   \n",
       "107     100005.0         bath faucet type   \n",
       "109     100005.0                bullet 01   \n",
       "110     100005.0                bullet 02   \n",
       "111     100005.0                bullet 03   \n",
       "\n",
       "                                                 value  \n",
       "0    versatile connector for various 90 â° connecti...  \n",
       "1    stronger than angled nailing or screw fastenin...  \n",
       "2    help ensure joint are consistently straight an...  \n",
       "3           dimensions: 3 inch x 3 inch x 1 1 / 2 inch  \n",
       "4                             made from 12 gauge steel  \n",
       "5            galvanized for extra corrosion resistance  \n",
       "6    install with 10 d common nail or 9 x 1 1 / 2 i...  \n",
       "7                                                   12  \n",
       "8                                     galvanized steel  \n",
       "9                                   simpson strong tie  \n",
       "10                                                   1  \n",
       "11                                               1 . 5  \n",
       "12                                                   3  \n",
       "13                                              0 . 26  \n",
       "14                                                   3  \n",
       "15                                  brush roller spray  \n",
       "16                                           6 . 63 in  \n",
       "17                                           7 . 76 in  \n",
       "18                                           6 . 63 in  \n",
       "19   revives wood and composite deck railing porch ...  \n",
       "20                   100 % acrylic solid color coating  \n",
       "21   resists cracking and peeling and conceals spli...  \n",
       "22          provides a durable mildew resistant finish  \n",
       "23         cover up to 75 sq foot in 2 coat per gallon  \n",
       "24            creates a textured slip resistant finish  \n",
       "25   for best result prepare with the appropriate b...  \n",
       "26   actual paint color may vary from on screen and...  \n",
       "27          color available to be tinted in most store  \n",
       "28   online price includes paint care fee in the fo...  \n",
       "29                                      soap and water  \n",
       "..                                                 ...  \n",
       "76                                                  20  \n",
       "77                                                  18  \n",
       "78                                                  60  \n",
       "79                                             33 . 25  \n",
       "80                                                  54  \n",
       "81                                                  55  \n",
       "82                                              8 . 56  \n",
       "83                positive power tolerance 0 to 5 watt  \n",
       "84   anti reflective and anti soiling surface reduc...  \n",
       "85   outstanding performance in low light irradianc...  \n",
       "86      certified to withstand high wind and snow load  \n",
       "87   100 % electroluminescence inspection ensures m...  \n",
       "88   positive and negative lead quipped with mc 4 c...  \n",
       "90                                   solar power panel  \n",
       "93                                         grape solar  \n",
       "95                                                   4  \n",
       "96                                              1 . 57  \n",
       "97                                             64 . 96  \n",
       "98                                                  40  \n",
       "99                                                  39  \n",
       "101                                            64 . 96  \n",
       "102                                             1 . 57  \n",
       "103                                                 39  \n",
       "104                      polycrystalline silicon panel  \n",
       "105                                            30 . 96  \n",
       "106                                                265  \n",
       "107                               combo tub and shower  \n",
       "109  includes the trim kit only the rough in kit r ...  \n",
       "110                                includes the handle  \n",
       "111  maintains a balanced pressure of hot and cold ...  \n",
       "\n",
       "[100 rows x 3 columns]"
      ]
     },
     "metadata": {},
     "output_type": "display_data"
    },
    {
     "data": {
      "text/plain": [
       "(1906911, 3)"
      ]
     },
     "metadata": {},
     "output_type": "display_data"
    }
   ],
   "source": [
    "prep_attr = prep_attr[prep_attr.value.str[0:2] != 'no']\n",
    "prep_attr.to_csv(preprocessed_data_path + \"attributes.csv\", index=False) \n",
    "display(prep_attr.head(100), prep_attr.shape)"
   ]
  },
  {
   "cell_type": "code",
   "execution_count": 16,
   "metadata": {
    "ExecuteTime": {
     "end_time": "2019-07-25T10:04:10.532197Z",
     "start_time": "2019-07-25T10:04:10.461119Z"
    },
    "hidden": true
   },
   "outputs": [
    {
     "data": {
      "text/plain": [
       "115"
      ]
     },
     "execution_count": 16,
     "metadata": {},
     "output_type": "execute_result"
    }
   ],
   "source": [
    "import gc\n",
    "gc.collect()"
   ]
  },
  {
   "cell_type": "code",
   "execution_count": 64,
   "metadata": {
    "ExecuteTime": {
     "end_time": "2019-07-25T09:46:20.627968Z",
     "start_time": "2019-07-25T09:46:20.624647Z"
    },
    "hidden": true
   },
   "outputs": [],
   "source": [
    " "
   ]
  },
  {
   "cell_type": "markdown",
   "metadata": {
    "heading_collapsed": true
   },
   "source": [
    "# HELPERS"
   ]
  },
  {
   "cell_type": "code",
   "execution_count": 158,
   "metadata": {
    "ExecuteTime": {
     "end_time": "2019-08-02T16:16:49.695101Z",
     "start_time": "2019-08-02T16:16:49.691292Z"
    },
    "hidden": true
   },
   "outputs": [],
   "source": [
    "# LONGEST COMMON SUBSTRING\n",
    "def lcs(m, n):\n",
    "    seqMatch = SequenceMatcher(None, m, n)\n",
    "    match = seqMatch.find_longest_match(0, len(m), 0, len(n))\n",
    "    return m[match.a: match.a + match.size]"
   ]
  },
  {
   "cell_type": "code",
   "execution_count": 12,
   "metadata": {
    "ExecuteTime": {
     "end_time": "2019-07-25T10:03:34.505518Z",
     "start_time": "2019-07-25T10:03:34.499112Z"
    },
    "hidden": true
   },
   "outputs": [],
   "source": [
    "from multiprocessing import Pool\n",
    "from functools import partial\n",
    "\n",
    "\n",
    "def parallelize(data, func, num_of_processes=8):\n",
    "    data_split = np.array_split(data, num_of_processes)\n",
    "    pool = Pool(num_of_processes)\n",
    "    data = pd.concat(pool.map(func, data_split))\n",
    "    pool.close()\n",
    "    pool.join()\n",
    "    return data\n",
    "\n",
    "\n",
    "def run_on_subset(func, data_subset):\n",
    "    return data_subset.apply(func, axis=1)\n",
    "\n",
    "\n",
    "def parallelize_on_rows(data, func, num_of_processes=8):\n",
    "    return parallelize(data, partial(run_on_subset, func), num_of_processes)"
   ]
  },
  {
   "cell_type": "markdown",
   "metadata": {
    "heading_collapsed": true
   },
   "source": [
    "# LOAD PREPROCESSED DATA"
   ]
  },
  {
   "cell_type": "code",
   "execution_count": 17,
   "metadata": {
    "ExecuteTime": {
     "end_time": "2019-08-02T11:11:02.504918Z",
     "start_time": "2019-08-02T11:10:57.126469Z"
    },
    "hidden": true
   },
   "outputs": [
    {
     "data": {
      "text/plain": [
       "'Train:'"
      ]
     },
     "metadata": {},
     "output_type": "display_data"
    },
    {
     "data": {
      "text/html": [
       "<div>\n",
       "<style scoped>\n",
       "    .dataframe tbody tr th:only-of-type {\n",
       "        vertical-align: middle;\n",
       "    }\n",
       "\n",
       "    .dataframe tbody tr th {\n",
       "        vertical-align: top;\n",
       "    }\n",
       "\n",
       "    .dataframe thead th {\n",
       "        text-align: right;\n",
       "    }\n",
       "</style>\n",
       "<table border=\"1\" class=\"dataframe\">\n",
       "  <thead>\n",
       "    <tr style=\"text-align: right;\">\n",
       "      <th></th>\n",
       "      <th>Unnamed: 0</th>\n",
       "      <th>id</th>\n",
       "      <th>product_uid</th>\n",
       "      <th>product_title</th>\n",
       "      <th>search_term</th>\n",
       "      <th>relevance</th>\n",
       "    </tr>\n",
       "  </thead>\n",
       "  <tbody>\n",
       "    <tr>\n",
       "      <th>0</th>\n",
       "      <td>0</td>\n",
       "      <td>2</td>\n",
       "      <td>100001</td>\n",
       "      <td>simpson strong tie 12 gauge angle</td>\n",
       "      <td>angle bracket</td>\n",
       "      <td>3.00</td>\n",
       "    </tr>\n",
       "    <tr>\n",
       "      <th>1</th>\n",
       "      <td>1</td>\n",
       "      <td>3</td>\n",
       "      <td>100001</td>\n",
       "      <td>simpson strong tie 12 gauge angle</td>\n",
       "      <td>l bracket</td>\n",
       "      <td>2.50</td>\n",
       "    </tr>\n",
       "    <tr>\n",
       "      <th>2</th>\n",
       "      <td>2</td>\n",
       "      <td>9</td>\n",
       "      <td>100002</td>\n",
       "      <td>behr premium textured deck over 1 gallon sc 14...</td>\n",
       "      <td>deck over</td>\n",
       "      <td>3.00</td>\n",
       "    </tr>\n",
       "    <tr>\n",
       "      <th>3</th>\n",
       "      <td>3</td>\n",
       "      <td>16</td>\n",
       "      <td>100005</td>\n",
       "      <td>delta vero 1 handle shower only faucet trim ki...</td>\n",
       "      <td>rain shower head</td>\n",
       "      <td>2.33</td>\n",
       "    </tr>\n",
       "    <tr>\n",
       "      <th>4</th>\n",
       "      <td>4</td>\n",
       "      <td>17</td>\n",
       "      <td>100005</td>\n",
       "      <td>delta vero 1 handle shower only faucet trim ki...</td>\n",
       "      <td>shower only faucet</td>\n",
       "      <td>2.67</td>\n",
       "    </tr>\n",
       "  </tbody>\n",
       "</table>\n",
       "</div>"
      ],
      "text/plain": [
       "   Unnamed: 0  id  product_uid  \\\n",
       "0           0   2       100001   \n",
       "1           1   3       100001   \n",
       "2           2   9       100002   \n",
       "3           3  16       100005   \n",
       "4           4  17       100005   \n",
       "\n",
       "                                       product_title         search_term  \\\n",
       "0                  simpson strong tie 12 gauge angle       angle bracket   \n",
       "1                  simpson strong tie 12 gauge angle           l bracket   \n",
       "2  behr premium textured deck over 1 gallon sc 14...           deck over   \n",
       "3  delta vero 1 handle shower only faucet trim ki...    rain shower head   \n",
       "4  delta vero 1 handle shower only faucet trim ki...  shower only faucet   \n",
       "\n",
       "   relevance  \n",
       "0       3.00  \n",
       "1       2.50  \n",
       "2       3.00  \n",
       "3       2.33  \n",
       "4       2.67  "
      ]
     },
     "metadata": {},
     "output_type": "display_data"
    },
    {
     "data": {
      "text/plain": [
       "(74067, 6)"
      ]
     },
     "metadata": {},
     "output_type": "display_data"
    },
    {
     "data": {
      "text/plain": [
       "'Attributes:'"
      ]
     },
     "metadata": {},
     "output_type": "display_data"
    },
    {
     "data": {
      "text/html": [
       "<div>\n",
       "<style scoped>\n",
       "    .dataframe tbody tr th:only-of-type {\n",
       "        vertical-align: middle;\n",
       "    }\n",
       "\n",
       "    .dataframe tbody tr th {\n",
       "        vertical-align: top;\n",
       "    }\n",
       "\n",
       "    .dataframe thead th {\n",
       "        text-align: right;\n",
       "    }\n",
       "</style>\n",
       "<table border=\"1\" class=\"dataframe\">\n",
       "  <thead>\n",
       "    <tr style=\"text-align: right;\">\n",
       "      <th></th>\n",
       "      <th>Unnamed: 0</th>\n",
       "      <th>product_uid</th>\n",
       "      <th>name</th>\n",
       "      <th>value</th>\n",
       "    </tr>\n",
       "  </thead>\n",
       "  <tbody>\n",
       "    <tr>\n",
       "      <th>0</th>\n",
       "      <td>0</td>\n",
       "      <td>100001.0</td>\n",
       "      <td>bullet 01</td>\n",
       "      <td>versatile connector for various 90 Ã¢Â° connec...</td>\n",
       "    </tr>\n",
       "    <tr>\n",
       "      <th>1</th>\n",
       "      <td>1</td>\n",
       "      <td>100001.0</td>\n",
       "      <td>bullet 02</td>\n",
       "      <td>stronger than angled nailing or screw fastenin...</td>\n",
       "    </tr>\n",
       "    <tr>\n",
       "      <th>2</th>\n",
       "      <td>2</td>\n",
       "      <td>100001.0</td>\n",
       "      <td>bullet 03</td>\n",
       "      <td>help ensure joint are consistently straight an...</td>\n",
       "    </tr>\n",
       "    <tr>\n",
       "      <th>3</th>\n",
       "      <td>3</td>\n",
       "      <td>100001.0</td>\n",
       "      <td>bullet 04</td>\n",
       "      <td>dimensions: 3 inch x 3 inch x 1 1 / 2 inch</td>\n",
       "    </tr>\n",
       "    <tr>\n",
       "      <th>4</th>\n",
       "      <td>4</td>\n",
       "      <td>100001.0</td>\n",
       "      <td>bullet 05</td>\n",
       "      <td>made from 12 gauge steel</td>\n",
       "    </tr>\n",
       "  </tbody>\n",
       "</table>\n",
       "</div>"
      ],
      "text/plain": [
       "   Unnamed: 0  product_uid       name  \\\n",
       "0           0     100001.0  bullet 01   \n",
       "1           1     100001.0  bullet 02   \n",
       "2           2     100001.0  bullet 03   \n",
       "3           3     100001.0  bullet 04   \n",
       "4           4     100001.0  bullet 05   \n",
       "\n",
       "                                               value  \n",
       "0  versatile connector for various 90 Ã¢Â° connec...  \n",
       "1  stronger than angled nailing or screw fastenin...  \n",
       "2  help ensure joint are consistently straight an...  \n",
       "3         dimensions: 3 inch x 3 inch x 1 1 / 2 inch  \n",
       "4                           made from 12 gauge steel  "
      ]
     },
     "metadata": {},
     "output_type": "display_data"
    },
    {
     "data": {
      "text/plain": [
       "(1906911, 4)"
      ]
     },
     "metadata": {},
     "output_type": "display_data"
    },
    {
     "data": {
      "text/plain": [
       "'Product descriptions:'"
      ]
     },
     "metadata": {},
     "output_type": "display_data"
    },
    {
     "data": {
      "text/html": [
       "<div>\n",
       "<style scoped>\n",
       "    .dataframe tbody tr th:only-of-type {\n",
       "        vertical-align: middle;\n",
       "    }\n",
       "\n",
       "    .dataframe tbody tr th {\n",
       "        vertical-align: top;\n",
       "    }\n",
       "\n",
       "    .dataframe thead th {\n",
       "        text-align: right;\n",
       "    }\n",
       "</style>\n",
       "<table border=\"1\" class=\"dataframe\">\n",
       "  <thead>\n",
       "    <tr style=\"text-align: right;\">\n",
       "      <th></th>\n",
       "      <th>Unnamed: 0</th>\n",
       "      <th>product_uid</th>\n",
       "      <th>product_description</th>\n",
       "    </tr>\n",
       "  </thead>\n",
       "  <tbody>\n",
       "    <tr>\n",
       "      <th>0</th>\n",
       "      <td>0</td>\n",
       "      <td>100001</td>\n",
       "      <td>not only do angle make joint stronger they als...</td>\n",
       "    </tr>\n",
       "    <tr>\n",
       "      <th>1</th>\n",
       "      <td>1</td>\n",
       "      <td>100002</td>\n",
       "      <td>behr premium textured deckover is an innovativ...</td>\n",
       "    </tr>\n",
       "    <tr>\n",
       "      <th>2</th>\n",
       "      <td>2</td>\n",
       "      <td>100003</td>\n",
       "      <td>classic architecture meet contemporary design ...</td>\n",
       "    </tr>\n",
       "    <tr>\n",
       "      <th>3</th>\n",
       "      <td>3</td>\n",
       "      <td>100004</td>\n",
       "      <td>the grape solar 265 watt polycrystalline pv so...</td>\n",
       "    </tr>\n",
       "    <tr>\n",
       "      <th>4</th>\n",
       "      <td>4</td>\n",
       "      <td>100005</td>\n",
       "      <td>update your bathroom with the delta vero singl...</td>\n",
       "    </tr>\n",
       "  </tbody>\n",
       "</table>\n",
       "</div>"
      ],
      "text/plain": [
       "   Unnamed: 0  product_uid                                product_description\n",
       "0           0       100001  not only do angle make joint stronger they als...\n",
       "1           1       100002  behr premium textured deckover is an innovativ...\n",
       "2           2       100003  classic architecture meet contemporary design ...\n",
       "3           3       100004  the grape solar 265 watt polycrystalline pv so...\n",
       "4           4       100005  update your bathroom with the delta vero singl..."
      ]
     },
     "metadata": {},
     "output_type": "display_data"
    },
    {
     "data": {
      "text/plain": [
       "(124428, 3)"
      ]
     },
     "metadata": {},
     "output_type": "display_data"
    }
   ],
   "source": [
    "train = pd.read_csv(preprocessed_data_path +\n",
    "                    \"train.csv\", encoding=\"ISO-8859-1\")\n",
    "attributes = pd.read_csv(\n",
    "    preprocessed_data_path + \"attributes.csv\", encoding=\"ISO-8859-1\")\n",
    "descriptions = pd.read_csv(\n",
    "    preprocessed_data_path + \"product_descriptions.csv\", encoding=\"ISO-8859-1\")\n",
    "\n",
    "display(\"Train:\", train.head(), train.shape)\n",
    "display(\"Attributes:\", attributes.head(), attributes.shape)\n",
    "display(\"Product descriptions:\", descriptions.head(), descriptions.shape)"
   ]
  },
  {
   "cell_type": "markdown",
   "metadata": {},
   "source": [
    "# FEATURE ENGINEERING"
   ]
  },
  {
   "cell_type": "markdown",
   "metadata": {
    "heading_collapsed": true
   },
   "source": [
    "## Plan for feature engineering\n",
    "1. Merge attributes by uid\n",
    "1. Create new dataset, that comprises:\n",
    "    * Train\n",
    "    * Merged attributes\n",
    "    * Product descriptions\n",
    "1. Create new bool feature: 1 when `train['product_title']` has same `*number* inch/feet x *number* inch/feet`  with `train['search_term']` (will also try lcs with it)\n",
    "1. Create new bool feature: 1 when `train['product_title']` and `train['search_term']` have common number `*digit* [./] *digit*`\n",
    "1. Create new int feature: Popularity for each product\n",
    "1. Tokenize and vectorize each text feature\n"
   ]
  },
  {
   "cell_type": "markdown",
   "metadata": {
    "heading_collapsed": true
   },
   "source": [
    "## Merge attributes by its product"
   ]
  },
  {
   "cell_type": "code",
   "execution_count": 18,
   "metadata": {
    "ExecuteTime": {
     "end_time": "2019-08-02T11:11:15.157946Z",
     "start_time": "2019-08-02T11:11:14.189696Z"
    },
    "hidden": true
   },
   "outputs": [],
   "source": [
    "attributes.columns = ['idx', 'product_uid', 'name', 'value'] \n",
    "attributes.sort_values(by=['product_uid', 'idx'], inplace=True)"
   ]
  },
  {
   "cell_type": "code",
   "execution_count": 19,
   "metadata": {
    "ExecuteTime": {
     "end_time": "2019-08-02T11:14:07.199588Z",
     "start_time": "2019-08-02T11:11:15.188940Z"
    },
    "hidden": true,
    "scrolled": false
   },
   "outputs": [
    {
     "data": {
      "text/html": [
       "<div>\n",
       "<style scoped>\n",
       "    .dataframe tbody tr th:only-of-type {\n",
       "        vertical-align: middle;\n",
       "    }\n",
       "\n",
       "    .dataframe tbody tr th {\n",
       "        vertical-align: top;\n",
       "    }\n",
       "\n",
       "    .dataframe thead th {\n",
       "        text-align: right;\n",
       "    }\n",
       "</style>\n",
       "<table border=\"1\" class=\"dataframe\">\n",
       "  <thead>\n",
       "    <tr style=\"text-align: right;\">\n",
       "      <th></th>\n",
       "      <th>product_uid</th>\n",
       "      <th>value</th>\n",
       "    </tr>\n",
       "  </thead>\n",
       "  <tbody>\n",
       "    <tr>\n",
       "      <th>0</th>\n",
       "      <td>100001.0</td>\n",
       "      <td>versatile connector for various 90 Ã¢Â° connec...</td>\n",
       "    </tr>\n",
       "    <tr>\n",
       "      <th>1</th>\n",
       "      <td>100002.0</td>\n",
       "      <td>application method brush roller spray assemble...</td>\n",
       "    </tr>\n",
       "    <tr>\n",
       "      <th>2</th>\n",
       "      <td>100003.0</td>\n",
       "      <td>built in flange yes slightly narrower for tigh...</td>\n",
       "    </tr>\n",
       "    <tr>\n",
       "      <th>3</th>\n",
       "      <td>100004.0</td>\n",
       "      <td>amperage amp 8 . 56 positive power tolerance 0...</td>\n",
       "    </tr>\n",
       "    <tr>\n",
       "      <th>4</th>\n",
       "      <td>100005.0</td>\n",
       "      <td>bath faucet type combo tub and shower includes...</td>\n",
       "    </tr>\n",
       "    <tr>\n",
       "      <th>5</th>\n",
       "      <td>100006.0</td>\n",
       "      <td>appliance type over the range microwave assemb...</td>\n",
       "    </tr>\n",
       "    <tr>\n",
       "      <th>6</th>\n",
       "      <td>100007.0</td>\n",
       "      <td>battery power type ni cad battery size .built ...</td>\n",
       "    </tr>\n",
       "    <tr>\n",
       "      <th>7</th>\n",
       "      <td>100008.0</td>\n",
       "      <td>assembled depth inch . 375 in assembled height...</td>\n",
       "    </tr>\n",
       "    <tr>\n",
       "      <th>8</th>\n",
       "      <td>100009.0</td>\n",
       "      <td>application door window made of primed mdf can...</td>\n",
       "    </tr>\n",
       "    <tr>\n",
       "      <th>9</th>\n",
       "      <td>100010.0</td>\n",
       "      <td>can be used with all valley view lawn edging a...</td>\n",
       "    </tr>\n",
       "  </tbody>\n",
       "</table>\n",
       "</div>"
      ],
      "text/plain": [
       "   product_uid                                              value\n",
       "0     100001.0  versatile connector for various 90 Ã¢Â° connec...\n",
       "1     100002.0  application method brush roller spray assemble...\n",
       "2     100003.0  built in flange yes slightly narrower for tigh...\n",
       "3     100004.0  amperage amp 8 . 56 positive power tolerance 0...\n",
       "4     100005.0  bath faucet type combo tub and shower includes...\n",
       "5     100006.0  appliance type over the range microwave assemb...\n",
       "6     100007.0  battery power type ni cad battery size .built ...\n",
       "7     100008.0  assembled depth inch . 375 in assembled height...\n",
       "8     100009.0  application door window made of primed mdf can...\n",
       "9     100010.0  can be used with all valley view lawn edging a..."
      ]
     },
     "metadata": {},
     "output_type": "display_data"
    }
   ],
   "source": [
    "# join attributes\n",
    "\n",
    "dataset = []\n",
    "prev_uid = None\n",
    "result_attr = ''\n",
    "for i in range(attributes.shape[0]):\n",
    "\n",
    "    cur_uid = attributes['product_uid'][i]\n",
    "    name = attributes['name'][i]\n",
    "    value = attributes['value'][i]\n",
    "    \n",
    "    if prev_uid is not None:\n",
    "        if prev_uid != cur_uid:\n",
    "            dataset.append([prev_uid, result_attr.strip()])\n",
    "            result_attr = ''\n",
    "    \n",
    "    if not 'bullet' in name:\n",
    "        result_attr += name + ' '\n",
    "    result_attr += value + ' '\n",
    "    \n",
    "    prev_uid = cur_uid\n",
    "    \n",
    "if result_attr is not '':\n",
    "    dataset.append([cur_uid, result_attr.strip()])\n",
    "    \n",
    "merged_attributes = pd.DataFrame(dataset, columns=['product_uid', 'value'])\n",
    "merged_attributes.to_csv(preprocessed_data_path + \"merged_attributes.csv\") \n",
    "display(merged_attributes.head(10))"
   ]
  },
  {
   "cell_type": "code",
   "execution_count": 20,
   "metadata": {
    "ExecuteTime": {
     "end_time": "2019-08-02T11:14:07.645140Z",
     "start_time": "2019-08-02T11:14:07.613406Z"
    },
    "hidden": true,
    "scrolled": false
   },
   "outputs": [
    {
     "data": {
      "text/html": [
       "<div>\n",
       "<style scoped>\n",
       "    .dataframe tbody tr th:only-of-type {\n",
       "        vertical-align: middle;\n",
       "    }\n",
       "\n",
       "    .dataframe tbody tr th {\n",
       "        vertical-align: top;\n",
       "    }\n",
       "\n",
       "    .dataframe thead th {\n",
       "        text-align: right;\n",
       "    }\n",
       "</style>\n",
       "<table border=\"1\" class=\"dataframe\">\n",
       "  <thead>\n",
       "    <tr style=\"text-align: right;\">\n",
       "      <th></th>\n",
       "      <th>value</th>\n",
       "    </tr>\n",
       "    <tr>\n",
       "      <th>product_uid</th>\n",
       "      <th></th>\n",
       "    </tr>\n",
       "  </thead>\n",
       "  <tbody>\n",
       "    <tr>\n",
       "      <th>100001</th>\n",
       "      <td>versatile connector for various 90 Ã¢Â° connec...</td>\n",
       "    </tr>\n",
       "    <tr>\n",
       "      <th>100002</th>\n",
       "      <td>application method brush roller spray assemble...</td>\n",
       "    </tr>\n",
       "  </tbody>\n",
       "</table>\n",
       "</div>"
      ],
      "text/plain": [
       "                                                         value\n",
       "product_uid                                                   \n",
       "100001       versatile connector for various 90 Ã¢Â° connec...\n",
       "100002       application method brush roller spray assemble..."
      ]
     },
     "metadata": {},
     "output_type": "display_data"
    },
    {
     "data": {
      "text/html": [
       "<div>\n",
       "<style scoped>\n",
       "    .dataframe tbody tr th:only-of-type {\n",
       "        vertical-align: middle;\n",
       "    }\n",
       "\n",
       "    .dataframe tbody tr th {\n",
       "        vertical-align: top;\n",
       "    }\n",
       "\n",
       "    .dataframe thead th {\n",
       "        text-align: right;\n",
       "    }\n",
       "</style>\n",
       "<table border=\"1\" class=\"dataframe\">\n",
       "  <thead>\n",
       "    <tr style=\"text-align: right;\">\n",
       "      <th></th>\n",
       "      <th>Unnamed: 0</th>\n",
       "      <th>product_description</th>\n",
       "    </tr>\n",
       "    <tr>\n",
       "      <th>product_uid</th>\n",
       "      <th></th>\n",
       "      <th></th>\n",
       "    </tr>\n",
       "  </thead>\n",
       "  <tbody>\n",
       "    <tr>\n",
       "      <th>100001</th>\n",
       "      <td>0</td>\n",
       "      <td>not only do angle make joint stronger they als...</td>\n",
       "    </tr>\n",
       "    <tr>\n",
       "      <th>100002</th>\n",
       "      <td>1</td>\n",
       "      <td>behr premium textured deckover is an innovativ...</td>\n",
       "    </tr>\n",
       "  </tbody>\n",
       "</table>\n",
       "</div>"
      ],
      "text/plain": [
       "             Unnamed: 0                                product_description\n",
       "product_uid                                                               \n",
       "100001                0  not only do angle make joint stronger they als...\n",
       "100002                1  behr premium textured deckover is an innovativ..."
      ]
     },
     "metadata": {},
     "output_type": "display_data"
    }
   ],
   "source": [
    "# set indicies\n",
    "merged_attributes = merged_attributes.set_index('product_uid')\n",
    "merged_attributes.index = merged_attributes.index.astype(int)\n",
    "descriptions = descriptions.set_index('product_uid')\n",
    "display(merged_attributes.head(2))\n",
    "display(descriptions.head(2))"
   ]
  },
  {
   "cell_type": "markdown",
   "metadata": {
    "heading_collapsed": true
   },
   "source": [
    "## Collect 3 datasets into one "
   ]
  },
  {
   "cell_type": "code",
   "execution_count": 21,
   "metadata": {
    "ExecuteTime": {
     "end_time": "2019-08-02T11:14:36.584415Z",
     "start_time": "2019-08-02T11:14:08.040978Z"
    },
    "hidden": true,
    "scrolled": true
   },
   "outputs": [
    {
     "data": {
      "text/html": [
       "<div>\n",
       "<style scoped>\n",
       "    .dataframe tbody tr th:only-of-type {\n",
       "        vertical-align: middle;\n",
       "    }\n",
       "\n",
       "    .dataframe tbody tr th {\n",
       "        vertical-align: top;\n",
       "    }\n",
       "\n",
       "    .dataframe thead th {\n",
       "        text-align: right;\n",
       "    }\n",
       "</style>\n",
       "<table border=\"1\" class=\"dataframe\">\n",
       "  <thead>\n",
       "    <tr style=\"text-align: right;\">\n",
       "      <th></th>\n",
       "      <th>prod_uid</th>\n",
       "      <th>title</th>\n",
       "      <th>search_term</th>\n",
       "      <th>attributes</th>\n",
       "      <th>description</th>\n",
       "      <th>relevance</th>\n",
       "    </tr>\n",
       "  </thead>\n",
       "  <tbody>\n",
       "    <tr>\n",
       "      <th>0</th>\n",
       "      <td>100001</td>\n",
       "      <td>simpson strong tie 12 gauge angle</td>\n",
       "      <td>angle bracket</td>\n",
       "      <td>versatile connector for various 90 Ã¢Â° connec...</td>\n",
       "      <td>not only do angle make joint stronger they als...</td>\n",
       "      <td>3.00</td>\n",
       "    </tr>\n",
       "    <tr>\n",
       "      <th>1</th>\n",
       "      <td>100001</td>\n",
       "      <td>simpson strong tie 12 gauge angle</td>\n",
       "      <td>l bracket</td>\n",
       "      <td>versatile connector for various 90 Ã¢Â° connec...</td>\n",
       "      <td>not only do angle make joint stronger they als...</td>\n",
       "      <td>2.50</td>\n",
       "    </tr>\n",
       "    <tr>\n",
       "      <th>2</th>\n",
       "      <td>100002</td>\n",
       "      <td>behr premium textured deck over 1 gallon sc 14...</td>\n",
       "      <td>deck over</td>\n",
       "      <td>application method brush roller spray assemble...</td>\n",
       "      <td>behr premium textured deckover is an innovativ...</td>\n",
       "      <td>3.00</td>\n",
       "    </tr>\n",
       "    <tr>\n",
       "      <th>3</th>\n",
       "      <td>100005</td>\n",
       "      <td>delta vero 1 handle shower only faucet trim ki...</td>\n",
       "      <td>rain shower head</td>\n",
       "      <td>bath faucet type combo tub and shower includes...</td>\n",
       "      <td>update your bathroom with the delta vero singl...</td>\n",
       "      <td>2.33</td>\n",
       "    </tr>\n",
       "    <tr>\n",
       "      <th>4</th>\n",
       "      <td>100005</td>\n",
       "      <td>delta vero 1 handle shower only faucet trim ki...</td>\n",
       "      <td>shower only faucet</td>\n",
       "      <td>bath faucet type combo tub and shower includes...</td>\n",
       "      <td>update your bathroom with the delta vero singl...</td>\n",
       "      <td>2.67</td>\n",
       "    </tr>\n",
       "  </tbody>\n",
       "</table>\n",
       "</div>"
      ],
      "text/plain": [
       "   prod_uid                                              title  \\\n",
       "0    100001                  simpson strong tie 12 gauge angle   \n",
       "1    100001                  simpson strong tie 12 gauge angle   \n",
       "2    100002  behr premium textured deck over 1 gallon sc 14...   \n",
       "3    100005  delta vero 1 handle shower only faucet trim ki...   \n",
       "4    100005  delta vero 1 handle shower only faucet trim ki...   \n",
       "\n",
       "          search_term                                         attributes  \\\n",
       "0       angle bracket  versatile connector for various 90 Ã¢Â° connec...   \n",
       "1           l bracket  versatile connector for various 90 Ã¢Â° connec...   \n",
       "2           deck over  application method brush roller spray assemble...   \n",
       "3    rain shower head  bath faucet type combo tub and shower includes...   \n",
       "4  shower only faucet  bath faucet type combo tub and shower includes...   \n",
       "\n",
       "                                         description  relevance  \n",
       "0  not only do angle make joint stronger they als...       3.00  \n",
       "1  not only do angle make joint stronger they als...       2.50  \n",
       "2  behr premium textured deckover is an innovativ...       3.00  \n",
       "3  update your bathroom with the delta vero singl...       2.33  \n",
       "4  update your bathroom with the delta vero singl...       2.67  "
      ]
     },
     "execution_count": 21,
     "metadata": {},
     "output_type": "execute_result"
    }
   ],
   "source": [
    "#Join all datasets into one\n",
    "\n",
    "dataset = []\n",
    "for i in range(train.shape[0]):\n",
    "    prod_uid = train['product_uid'][i]    \n",
    "    title = train['product_title'][i]\n",
    "    search_term = train['search_term'][i]\n",
    "    score = train['relevance'][i]\n",
    "    description = descriptions.loc[prod_uid][1] # careful here, 1 is because of unnamed column, will fix later\n",
    "    try:\n",
    "        attributes = merged_attributes.loc[prod_uid][0]\n",
    "    except KeyError:\n",
    "        attributes = ''\n",
    "    \n",
    "    dataset.append([prod_uid, title, search_term, attributes, description, score])\n",
    "\n",
    "joined_train = pd.DataFrame(dataset, columns=['prod_uid', 'title', 'search_term', 'attributes', 'description', 'relevance'])\n",
    "joined_train.head(5)\n"
   ]
  },
  {
   "cell_type": "markdown",
   "metadata": {},
   "source": [
    "## Craft new features: numbers overlap"
   ]
  },
  {
   "cell_type": "code",
   "execution_count": 236,
   "metadata": {
    "ExecuteTime": {
     "end_time": "2019-08-02T17:19:06.103546Z",
     "start_time": "2019-08-02T17:19:06.090915Z"
    }
   },
   "outputs": [
    {
     "name": "stdout",
     "output_type": "stream",
     "text": [
      "Regex: (?:\\d+ [/\\.] )?\\d+(?: inch| foot)? x (?:\\d+ [/\\.] )?\\d+(?: inch| foot)?(?: x (?:\\d+ [/\\.] )?\\d+(?: inch| foot)?)?\n"
     ]
    },
    {
     "data": {
      "text/plain": [
       "0"
      ]
     },
     "execution_count": 236,
     "metadata": {},
     "output_type": "execute_result"
    }
   ],
   "source": [
    "def search_fractions(s):\n",
    "    return re.findall('\\d+ [/\\.] \\d+', s)\n",
    "\n",
    "\n",
    "def fractions_overlap(s1, s2):\n",
    "    frac1 = set(search_fractions(s1))\n",
    "    frac2 = set(search_fractions(s2))\n",
    "    overlap = frac1.intersection(frac2)\n",
    "    if len(overlap) > 0:\n",
    "        return 1\n",
    "    else:\n",
    "        return 0\n",
    "\n",
    "\n",
    "\n",
    "num = '(?:\\d+ [/\\.] )?\\d+' # match numbers like ['8', '3 . 5', '4 / 9']\n",
    "unit = '(?: inch| foot)?' #match optional units\n",
    "regex = num + unit + ' x ' + num + unit + '(?:' + ' x ' + num + unit + ')?'\n",
    "print('Regex: ' + regex)\n",
    "\n",
    "def search_dimensions(s):\n",
    "    return list(map(remove_units, map(str.strip, (re.findall(regex, s)))))\n",
    "\n",
    "def remove_units(s):\n",
    "    return re.sub(' inch| foot', '', s)\n",
    "\n",
    "def dimensions_overlap(s1, s2):\n",
    "    dim1 = set(search_dimensions(s1))\n",
    "    dim2 = set(search_dimensions(s2))\n",
    "    overlap = dim1.intersection(dim2) # how many exact matches\n",
    "\n",
    "    return len(overlap)\n",
    "\n",
    "s1 = '3 / 4 x 2 . 3 foot x 2 . 3'\n",
    "s2 = '3 / 4 x 2 . 3 inch'\n",
    "dimensions_overlap(s1, s2)\n",
    "#search_dimensions(s1)"
   ]
  },
  {
   "cell_type": "code",
   "execution_count": 102,
   "metadata": {
    "ExecuteTime": {
     "end_time": "2019-08-02T14:20:59.713266Z",
     "start_time": "2019-08-02T14:20:59.703863Z"
    }
   },
   "outputs": [
    {
     "data": {
      "text/html": [
       "<div>\n",
       "<style scoped>\n",
       "    .dataframe tbody tr th:only-of-type {\n",
       "        vertical-align: middle;\n",
       "    }\n",
       "\n",
       "    .dataframe tbody tr th {\n",
       "        vertical-align: top;\n",
       "    }\n",
       "\n",
       "    .dataframe thead th {\n",
       "        text-align: right;\n",
       "    }\n",
       "</style>\n",
       "<table border=\"1\" class=\"dataframe\">\n",
       "  <thead>\n",
       "    <tr style=\"text-align: right;\">\n",
       "      <th></th>\n",
       "      <th>prod_uid</th>\n",
       "      <th>title</th>\n",
       "      <th>search_term</th>\n",
       "      <th>attributes</th>\n",
       "      <th>description</th>\n",
       "      <th>relevance</th>\n",
       "    </tr>\n",
       "  </thead>\n",
       "  <tbody>\n",
       "    <tr>\n",
       "      <th>0</th>\n",
       "      <td>100001</td>\n",
       "      <td>simpson strong tie 12 gauge angle</td>\n",
       "      <td>angle bracket</td>\n",
       "      <td>versatile connector for various 90 Ã¢Â° connec...</td>\n",
       "      <td>not only do angle make joint stronger they als...</td>\n",
       "      <td>3.0</td>\n",
       "    </tr>\n",
       "  </tbody>\n",
       "</table>\n",
       "</div>"
      ],
      "text/plain": [
       "   prod_uid                              title    search_term  \\\n",
       "0    100001  simpson strong tie 12 gauge angle  angle bracket   \n",
       "\n",
       "                                          attributes  \\\n",
       "0  versatile connector for various 90 Ã¢Â° connec...   \n",
       "\n",
       "                                         description  relevance  \n",
       "0  not only do angle make joint stronger they als...        3.0  "
      ]
     },
     "metadata": {},
     "output_type": "display_data"
    }
   ],
   "source": [
    "display(joined_train.head(1))"
   ]
  },
  {
   "cell_type": "code",
   "execution_count": 237,
   "metadata": {
    "ExecuteTime": {
     "end_time": "2019-08-02T17:19:12.821727Z",
     "start_time": "2019-08-02T17:19:08.476619Z"
    }
   },
   "outputs": [
    {
     "name": "stdout",
     "output_type": "stream",
     "text": [
      "(array([0, 1]), array([71866,  2201]))\n",
      "(array([0, 1]), array([73229,   838]))\n"
     ]
    }
   ],
   "source": [
    "#popularity\n",
    "def craft_features(joined_train):\n",
    "\n",
    "    frac_overlap = []\n",
    "    dim_overlap = []\n",
    "    for i in range(joined_train.shape[0]):\n",
    "        search = joined_train['search_term'][i]\n",
    "        title = joined_train['title'][i]\n",
    "        \n",
    "        frac_overlap.append(fractions_overlap(search, title))\n",
    "        dim_overlap.append(dimensions_overlap(search, title))\n",
    "        \n",
    "    return [pd.Series(frac_overlap), pd.Series(dim_overlap)]   \n",
    "        \n",
    "        \n",
    "#\n",
    "frac_overlap, dim_overlap = craft_features(joined_train)\n",
    "\n",
    "print(np.unique(frac_overlap, return_counts=True))\n",
    "print(np.unique(dim_overlap, return_counts=True))"
   ]
  },
  {
   "cell_type": "code",
   "execution_count": 179,
   "metadata": {
    "ExecuteTime": {
     "end_time": "2019-08-02T17:03:38.789748Z",
     "start_time": "2019-08-02T17:03:38.786070Z"
    }
   },
   "outputs": [
    {
     "data": {
      "text/plain": [
       "(74067, 1)"
      ]
     },
     "execution_count": 179,
     "metadata": {},
     "output_type": "execute_result"
    }
   ],
   "source": [
    "frac_overlap.shape"
   ]
  },
  {
   "cell_type": "code",
   "execution_count": 155,
   "metadata": {
    "ExecuteTime": {
     "end_time": "2019-08-02T16:07:24.149148Z",
     "start_time": "2019-08-02T16:07:24.141630Z"
    }
   },
   "outputs": [
    {
     "data": {
      "text/plain": [
       "21"
      ]
     },
     "execution_count": 155,
     "metadata": {},
     "output_type": "execute_result"
    }
   ],
   "source": [
    "\n",
    "unique, counts = np.unique(joined_train['prod_uid'].values, return_counts=True)\n",
    "np.max(counts)\n",
    "#counts[0:100]"
   ]
  },
  {
   "cell_type": "markdown",
   "metadata": {
    "heading_collapsed": true
   },
   "source": [
    "## Vectorization"
   ]
  },
  {
   "cell_type": "code",
   "execution_count": 87,
   "metadata": {
    "ExecuteTime": {
     "end_time": "2019-08-02T14:10:11.616903Z",
     "start_time": "2019-08-02T14:09:55.413725Z"
    },
    "hidden": true
   },
   "outputs": [
    {
     "data": {
      "text/plain": [
       "CountVectorizer(analyzer='word', binary=False, decode_error='strict',\n",
       "        dtype=<class 'numpy.int64'>, encoding='utf-8', input='content',\n",
       "        lowercase=True, max_df=1.0, max_features=50000, min_df=1,\n",
       "        ngram_range=(1, 1), preprocessor=None, stop_words=None,\n",
       "        strip_accents=None, token_pattern='(?u)\\\\b\\\\w\\\\w+\\\\b',\n",
       "        tokenizer=None, vocabulary=None)"
      ]
     },
     "execution_count": 87,
     "metadata": {},
     "output_type": "execute_result"
    }
   ],
   "source": [
    "from sklearn.feature_extraction.text import CountVectorizer\n",
    "\n",
    "# Initialize the \"CountVectorizer\" object, which is scikit-learn's\n",
    "# bag of words tool.  \n",
    "vectorizer = CountVectorizer(analyzer = \"word\",   \\\n",
    "                             tokenizer = None,    \\\n",
    "                             preprocessor = None, \\\n",
    "                             stop_words = None,   \\\n",
    "                             max_features = 50000) \n",
    "\n",
    "\n",
    "all_text = [joined_train['title'], joined_train['search_term'],\n",
    "            joined_train['attributes'], joined_train['description']]\n",
    "vectorizer.fit(pd.concat(all_text))"
   ]
  },
  {
   "cell_type": "code",
   "execution_count": 88,
   "metadata": {
    "ExecuteTime": {
     "end_time": "2019-08-02T14:10:23.199994Z",
     "start_time": "2019-08-02T14:10:21.688923Z"
    },
    "hidden": true
   },
   "outputs": [],
   "source": [
    "# vectorize columns\n",
    "titles_vector       = vectorizer.transform(joined_train['title'])\n",
    "search_terms_vector = vectorizer.transform(joined_train['search_term'])\n",
    "#attributes_vector    = vectorizer.transform(joined_train['attributes'])\n",
    "#descriptions_vector = vectorizer.transform(joined_train['description'])"
   ]
  },
  {
   "cell_type": "markdown",
   "metadata": {},
   "source": [
    "## Craft new features: overlap of grams between product data and query"
   ]
  },
  {
   "cell_type": "code",
   "execution_count": 89,
   "metadata": {
    "ExecuteTime": {
     "end_time": "2019-08-02T14:10:24.009272Z",
     "start_time": "2019-08-02T14:10:23.994317Z"
    }
   },
   "outputs": [],
   "source": [
    "titles_search_overlap = titles_vector.multiply(search_terms_vector).sum(axis=1)\n",
    "#descriptions_search_overlap = descriptions_vector.multiply(search_terms_vector).sum(axis=1)\n",
    "#attributes_search_overlap = attributes_vector.multiply(search_terms_vector).sum(axis=1)"
   ]
  },
  {
   "cell_type": "markdown",
   "metadata": {},
   "source": [
    "## Concatenate features into one dataset"
   ]
  },
  {
   "cell_type": "code",
   "execution_count": 238,
   "metadata": {
    "ExecuteTime": {
     "end_time": "2019-08-02T17:19:20.432959Z",
     "start_time": "2019-08-02T17:19:20.427748Z"
    }
   },
   "outputs": [],
   "source": [
    "dataset = np.concatenate([titles_search_overlap, \\\n",
    "                          #descriptions_search_overlap, \n",
    "                          #attributes_search_overlap, \n",
    "                          frac_overlap.values.reshape((-1, 1)),\n",
    "                          dim_overlap.values.reshape((-1, 1)),\n",
    "                          joined_train['relevance'].values.reshape((-1, 1))],\n",
    "                          axis=1)"
   ]
  },
  {
   "cell_type": "markdown",
   "metadata": {},
   "source": [
    "# MODEL"
   ]
  },
  {
   "cell_type": "code",
   "execution_count": 239,
   "metadata": {
    "ExecuteTime": {
     "end_time": "2019-08-02T17:19:25.876079Z",
     "start_time": "2019-08-02T17:19:25.872278Z"
    }
   },
   "outputs": [
    {
     "name": "stdout",
     "output_type": "stream",
     "text": [
      "(74067, 3) (74067, 1) (74067, 4)\n"
     ]
    }
   ],
   "source": [
    "X, y = [dataset[:, 0:-1], dataset[:, -1]]\n",
    "print(X.shape, y.shape, dataset.shape)"
   ]
  },
  {
   "cell_type": "code",
   "execution_count": 218,
   "metadata": {
    "ExecuteTime": {
     "end_time": "2019-08-02T17:08:24.241960Z",
     "start_time": "2019-08-02T17:08:24.239427Z"
    }
   },
   "outputs": [],
   "source": [
    "model = DecisionTreeRegressor()"
   ]
  },
  {
   "cell_type": "code",
   "execution_count": 226,
   "metadata": {
    "ExecuteTime": {
     "end_time": "2019-08-02T17:10:55.183403Z",
     "start_time": "2019-08-02T17:10:55.180744Z"
    }
   },
   "outputs": [],
   "source": [
    "model = RandomForestRegressor(n_estimators = 100)"
   ]
  },
  {
   "cell_type": "code",
   "execution_count": 207,
   "metadata": {
    "ExecuteTime": {
     "end_time": "2019-08-02T17:06:57.131235Z",
     "start_time": "2019-08-02T17:06:57.128835Z"
    }
   },
   "outputs": [],
   "source": [
    "model = LinearRegression()"
   ]
  },
  {
   "cell_type": "code",
   "execution_count": 240,
   "metadata": {
    "ExecuteTime": {
     "end_time": "2019-08-02T17:19:33.451598Z",
     "start_time": "2019-08-02T17:19:32.622664Z"
    },
    "scrolled": true
   },
   "outputs": [
    {
     "data": {
      "text/plain": [
       "<matplotlib.axes._subplots.AxesSubplot at 0x7f26ac656630>"
      ]
     },
     "execution_count": 240,
     "metadata": {},
     "output_type": "execute_result"
    },
    {
     "data": {
      "image/png": "[encoded data removed]",
      "text/plain": [
       "<Figure size 432x288 with 1 Axes>"
      ]
     },
     "metadata": {
      "needs_background": "light"
     },
     "output_type": "display_data"
    }
   ],
   "source": [
    "X_train, X_test, y_train, y_test = train_test_split(X, y, test_size=0.2, random_state=42)\n",
    "model.fit(X_train, np.ravel(y_train))\n",
    "y_preds = model.predict(X_test)\n",
    "y_preds[y_preds<1] = 1\n",
    "y_preds[y_preds>3] = 3\n",
    "values = pd.Series(y_preds.reshape((-1))).value_counts() \n",
    "values.sort_index().plot(kind='line')\n"
   ]
  },
  {
   "cell_type": "markdown",
   "metadata": {},
   "source": [
    "# EVALUATION"
   ]
  },
  {
   "cell_type": "code",
   "execution_count": 220,
   "metadata": {
    "ExecuteTime": {
     "end_time": "2019-08-02T17:08:28.293470Z",
     "start_time": "2019-08-02T17:08:28.290073Z"
    }
   },
   "outputs": [],
   "source": [
    "#RMSE\n",
    "def RMSE(y_preds, y_test):\n",
    "    return np.sqrt(mean_squared_error(y_preds, y_test))\n",
    "\n",
    "#RMSE(y_preds, y_test)"
   ]
  },
  {
   "cell_type": "code",
   "execution_count": 241,
   "metadata": {
    "ExecuteTime": {
     "end_time": "2019-08-02T17:19:49.236182Z",
     "start_time": "2019-08-02T17:19:40.786932Z"
    },
    "scrolled": true
   },
   "outputs": [
    {
     "name": "stdout",
     "output_type": "stream",
     "text": [
      "0.5185717197319498\n"
     ]
    },
    {
     "data": {
      "text/html": [
       "<div>\n",
       "<style scoped>\n",
       "    .dataframe tbody tr th:only-of-type {\n",
       "        vertical-align: middle;\n",
       "    }\n",
       "\n",
       "    .dataframe tbody tr th {\n",
       "        vertical-align: top;\n",
       "    }\n",
       "\n",
       "    .dataframe thead th {\n",
       "        text-align: right;\n",
       "    }\n",
       "</style>\n",
       "<table border=\"1\" class=\"dataframe\">\n",
       "  <thead>\n",
       "    <tr style=\"text-align: right;\">\n",
       "      <th></th>\n",
       "      <th>Score</th>\n",
       "    </tr>\n",
       "  </thead>\n",
       "  <tbody>\n",
       "    <tr>\n",
       "      <th>0</th>\n",
       "      <td>0.517431</td>\n",
       "    </tr>\n",
       "    <tr>\n",
       "      <th>1</th>\n",
       "      <td>0.515467</td>\n",
       "    </tr>\n",
       "    <tr>\n",
       "      <th>2</th>\n",
       "      <td>0.513061</td>\n",
       "    </tr>\n",
       "    <tr>\n",
       "      <th>3</th>\n",
       "      <td>0.521776</td>\n",
       "    </tr>\n",
       "    <tr>\n",
       "      <th>4</th>\n",
       "      <td>0.515613</td>\n",
       "    </tr>\n",
       "    <tr>\n",
       "      <th>5</th>\n",
       "      <td>0.520901</td>\n",
       "    </tr>\n",
       "    <tr>\n",
       "      <th>6</th>\n",
       "      <td>0.521540</td>\n",
       "    </tr>\n",
       "    <tr>\n",
       "      <th>7</th>\n",
       "      <td>0.519208</td>\n",
       "    </tr>\n",
       "    <tr>\n",
       "      <th>8</th>\n",
       "      <td>0.517594</td>\n",
       "    </tr>\n",
       "    <tr>\n",
       "      <th>9</th>\n",
       "      <td>0.523126</td>\n",
       "    </tr>\n",
       "  </tbody>\n",
       "</table>\n",
       "</div>"
      ],
      "text/plain": [
       "      Score\n",
       "0  0.517431\n",
       "1  0.515467\n",
       "2  0.513061\n",
       "3  0.521776\n",
       "4  0.515613\n",
       "5  0.520901\n",
       "6  0.521540\n",
       "7  0.519208\n",
       "8  0.517594\n",
       "9  0.523126"
      ]
     },
     "metadata": {},
     "output_type": "display_data"
    }
   ],
   "source": [
    "# K-FOLD validation\n",
    "from sklearn.model_selection import KFold\n",
    "\n",
    "scores = []\n",
    "cv = KFold(n_splits=10, shuffle=True)\n",
    "for train_index, test_index in cv.split(X):\n",
    "    #print(\"Train Index: \", train_index, \"\\n\")\n",
    "    #print(\"Test Index: \", test_index)\n",
    "\n",
    "    X_train, X_test, y_train, y_test = X[train_index], X[test_index], y[train_index], y[test_index]\n",
    "    model.fit(X_train, np.ravel(y_train))\n",
    "    y_preds = model.predict(X_test)\n",
    "    y_preds[y_preds<1] = 1\n",
    "    y_preds[y_preds>3] = 3\n",
    "    scores.append(RMSE(y_preds, y_test))\n",
    "\n",
    "print(np.mean(scores))\n",
    "display(pd.DataFrame(scores, columns=['Score']))\n",
    "\n"
   ]
  },
  {
   "cell_type": "markdown",
   "metadata": {
    "ExecuteTime": {
     "end_time": "2019-07-31T09:08:22.478510Z",
     "start_time": "2019-07-31T09:08:22.474553Z"
    }
   },
   "source": [
    "# Score without frac and dims: `0.5188139328532811`;  with - `0.5185717197319498`\n",
    "\n",
    "\n",
    "### So by careful feature engineering I won 0.00024 rmse. \n",
    "\n",
    "### yay?"
   ]
  },
  {
   "cell_type": "markdown",
   "metadata": {},
   "source": [
    "![](https://i.ytimg.com/vi/oW_xiyNJg2w/hqdefault.jpg)"
   ]
  },
  {
   "cell_type": "markdown",
   "metadata": {},
   "source": [
    "### Baseline (train - search longest common substring), RMSE - 0.518, while: \n",
    "* best score on lb: 0.431\n",
    "* all 1 submission score: 1.481\n",
    "* all 2 submission score: 0.655\n",
    "* all 3 submission score: 0.815"
   ]
  },
  {
   "cell_type": "markdown",
   "metadata": {},
   "source": [
    "# INFERENCE DATA LOAD"
   ]
  },
  {
   "cell_type": "code",
   "execution_count": 28,
   "metadata": {},
   "outputs": [
    {
     "data": {
      "text/plain": [
       "(166693, 1)"
      ]
     },
     "execution_count": 28,
     "metadata": {},
     "output_type": "execute_result"
    }
   ],
   "source": [
    "submission = pd.read_csv(input_path + \"test.csv\", engine=\"python\")\n",
    "dataset = []\n",
    "for i in range(submission.shape[0]):\n",
    "    desc =  submission.iloc[i, 2]\n",
    "    query = submission.iloc[i, 3]\n",
    "    lcs = matchsubstring(desc.lower(), query.lower()) # longest common substring\n",
    "    overlap = len(lcs)\n",
    "    dataset.append([overlap])\n",
    "dataset = np.array(dataset)\n",
    "dataset.shape"
   ]
  },
  {
   "cell_type": "markdown",
   "metadata": {},
   "source": [
    "# INFERENCE"
   ]
  },
  {
   "cell_type": "code",
   "execution_count": 29,
   "metadata": {},
   "outputs": [
    {
     "data": {
      "text/plain": [
       "2.309699    20207\n",
       "2.366322    19982\n",
       "2.405317    16358\n",
       "2.300432    14843\n",
       "2.440167    12511\n",
       "2.451519    10876\n",
       "2.453807    10558\n",
       "2.462379     9938\n",
       "2.208040     7820\n",
       "2.502626     7213\n",
       "2.001926     7108\n",
       "2.517936     5316\n",
       "2.521558     4793\n",
       "2.080039     4397\n",
       "2.530338     3152\n",
       "2.549126     2385\n",
       "2.540354     2096\n",
       "1.880398     1874\n",
       "2.602454     1293\n",
       "2.600461      914\n",
       "2.661237      745\n",
       "2.558575      555\n",
       "2.620296      368\n",
       "2.653108      286\n",
       "2.679566      262\n",
       "2.614865      163\n",
       "2.511387      156\n",
       "2.677061       92\n",
       "2.631297       81\n",
       "2.446669       60\n",
       "2.577074       46\n",
       "2.242688       42\n",
       "1.863927       30\n",
       "2.506648       24\n",
       "2.704338       21\n",
       "2.741713       21\n",
       "2.751972       19\n",
       "2.683192       13\n",
       "2.620749       12\n",
       "2.786805       12\n",
       "2.773557        9\n",
       "2.687377        9\n",
       "2.791877        7\n",
       "2.452969        4\n",
       "2.340735        4\n",
       "2.378362        4\n",
       "2.712363        4\n",
       "2.725701        4\n",
       "2.337368        2\n",
       "2.542676        2\n",
       "2.623326        2\n",
       "dtype: int64"
      ]
     },
     "execution_count": 29,
     "metadata": {},
     "output_type": "execute_result"
    }
   ],
   "source": [
    "res = model.predict(dataset)\n",
    "pd.Series(res).value_counts() "
   ]
  },
  {
   "cell_type": "markdown",
   "metadata": {},
   "source": [
    "# OUTPUT"
   ]
  },
  {
   "cell_type": "code",
   "execution_count": 30,
   "metadata": {},
   "outputs": [
    {
     "data": {
      "text/html": [
       "<div>\n",
       "<style scoped>\n",
       "    .dataframe tbody tr th:only-of-type {\n",
       "        vertical-align: middle;\n",
       "    }\n",
       "\n",
       "    .dataframe tbody tr th {\n",
       "        vertical-align: top;\n",
       "    }\n",
       "\n",
       "    .dataframe thead th {\n",
       "        text-align: right;\n",
       "    }\n",
       "</style>\n",
       "<table border=\"1\" class=\"dataframe\">\n",
       "  <thead>\n",
       "    <tr style=\"text-align: right;\">\n",
       "      <th></th>\n",
       "      <th>id</th>\n",
       "      <th>relevance</th>\n",
       "    </tr>\n",
       "  </thead>\n",
       "  <tbody>\n",
       "    <tr>\n",
       "      <th>0</th>\n",
       "      <td>1</td>\n",
       "      <td>2.001926</td>\n",
       "    </tr>\n",
       "    <tr>\n",
       "      <th>1</th>\n",
       "      <td>4</td>\n",
       "      <td>1.880398</td>\n",
       "    </tr>\n",
       "    <tr>\n",
       "      <th>2</th>\n",
       "      <td>5</td>\n",
       "      <td>2.440167</td>\n",
       "    </tr>\n",
       "    <tr>\n",
       "      <th>3</th>\n",
       "      <td>6</td>\n",
       "      <td>2.517936</td>\n",
       "    </tr>\n",
       "    <tr>\n",
       "      <th>4</th>\n",
       "      <td>7</td>\n",
       "      <td>2.517936</td>\n",
       "    </tr>\n",
       "  </tbody>\n",
       "</table>\n",
       "</div>"
      ],
      "text/plain": [
       "   id  relevance\n",
       "0   1   2.001926\n",
       "1   4   1.880398\n",
       "2   5   2.440167\n",
       "3   6   2.517936\n",
       "4   7   2.517936"
      ]
     },
     "execution_count": 30,
     "metadata": {},
     "output_type": "execute_result"
    }
   ],
   "source": [
    "res[res>3] = 3\n",
    "res = pd.DataFrame(res, columns=['relevance'])\n",
    "res['id'] = submission['id']\n",
    "res = res[['id', 'relevance']]\n",
    "res.head()"
   ]
  },
  {
   "cell_type": "code",
   "execution_count": 31,
   "metadata": {},
   "outputs": [
    {
     "data": {
      "text/html": [
       "<div>\n",
       "<style scoped>\n",
       "    .dataframe tbody tr th:only-of-type {\n",
       "        vertical-align: middle;\n",
       "    }\n",
       "\n",
       "    .dataframe tbody tr th {\n",
       "        vertical-align: top;\n",
       "    }\n",
       "\n",
       "    .dataframe thead th {\n",
       "        text-align: right;\n",
       "    }\n",
       "</style>\n",
       "<table border=\"1\" class=\"dataframe\">\n",
       "  <thead>\n",
       "    <tr style=\"text-align: right;\">\n",
       "      <th></th>\n",
       "      <th>id</th>\n",
       "      <th>relevance</th>\n",
       "    </tr>\n",
       "  </thead>\n",
       "  <tbody>\n",
       "  </tbody>\n",
       "</table>\n",
       "</div>"
      ],
      "text/plain": [
       "Empty DataFrame\n",
       "Columns: [id, relevance]\n",
       "Index: []"
      ]
     },
     "execution_count": 31,
     "metadata": {},
     "output_type": "execute_result"
    }
   ],
   "source": [
    "res.loc[res['relevance']>=3]"
   ]
  },
  {
   "cell_type": "code",
   "execution_count": 32,
   "metadata": {},
   "outputs": [],
   "source": [
    "res.to_csv('output.csv', index=False)"
   ]
  },
  {
   "cell_type": "code",
   "execution_count": 33,
   "metadata": {},
   "outputs": [
    {
     "data": {
      "text/html": [
       "<div>\n",
       "<style scoped>\n",
       "    .dataframe tbody tr th:only-of-type {\n",
       "        vertical-align: middle;\n",
       "    }\n",
       "\n",
       "    .dataframe tbody tr th {\n",
       "        vertical-align: top;\n",
       "    }\n",
       "\n",
       "    .dataframe thead th {\n",
       "        text-align: right;\n",
       "    }\n",
       "</style>\n",
       "<table border=\"1\" class=\"dataframe\">\n",
       "  <thead>\n",
       "    <tr style=\"text-align: right;\">\n",
       "      <th></th>\n",
       "      <th>id</th>\n",
       "      <th>relevance</th>\n",
       "    </tr>\n",
       "  </thead>\n",
       "  <tbody>\n",
       "  </tbody>\n",
       "</table>\n",
       "</div>"
      ],
      "text/plain": [
       "Empty DataFrame\n",
       "Columns: [id, relevance]\n",
       "Index: []"
      ]
     },
     "execution_count": 33,
     "metadata": {},
     "output_type": "execute_result"
    }
   ],
   "source": [
    "tmp = pd.read_csv(\"output.csv\")\n",
    "tmp.loc[tmp['relevance']>3]"
   ]
  },
  {
   "cell_type": "code",
   "execution_count": 34,
   "metadata": {},
   "outputs": [
    {
     "name": "stdout",
     "output_type": "stream",
     "text": [
      "<class 'pandas.core.frame.DataFrame'>\n",
      "RangeIndex: 166693 entries, 0 to 166692\n",
      "Data columns (total 2 columns):\n",
      "id           166693 non-null int64\n",
      "relevance    166693 non-null float64\n",
      "dtypes: float64(1), int64(1)\n",
      "memory usage: 2.5 MB\n"
     ]
    }
   ],
   "source": [
    "tmp.info()"
   ]
  },
  {
   "cell_type": "code",
   "execution_count": 35,
   "metadata": {},
   "outputs": [
    {
     "name": "stdout",
     "output_type": "stream",
     "text": [
      "id,relevance\r\n",
      "1,2.001926138644444\r\n",
      "4,1.880398441318938\r\n",
      "5,2.4401667969070053\r\n",
      "6,2.517935886475066\r\n",
      "7,2.517935886475066\r\n",
      "8,2.001926138644444\r\n",
      "10,2.6024539827454927\r\n",
      "11,2.366322356378352\r\n",
      "12,2.366322356378352\r\n"
     ]
    }
   ],
   "source": [
    "!head output.csv "
   ]
  },
  {
   "cell_type": "code",
   "execution_count": null,
   "metadata": {},
   "outputs": [],
   "source": []
  }
 ],
 "metadata": {
  "kernelspec": {
   "display_name": "Python 3",
   "language": "python",
   "name": "python3"
  },
  "language_info": {
   "codemirror_mode": {
    "name": "ipython",
    "version": 3
   },
   "file_extension": ".py",
   "mimetype": "text/x-python",
   "name": "python",
   "nbconvert_exporter": "python",
   "pygments_lexer": "ipython3",
   "version": "3.7.3"
  },
  "varInspector": {
   "cols": {
    "lenName": 16,
    "lenType": 16,
    "lenVar": 40
   },
   "kernels_config": {
    "python": {
     "delete_cmd_postfix": "",
     "delete_cmd_prefix": "del ",
     "library": "var_list.py",
     "varRefreshCmd": "print(var_dic_list())"
    },
    "r": {
     "delete_cmd_postfix": ") ",
     "delete_cmd_prefix": "rm(",
     "library": "var_list.r",
     "varRefreshCmd": "cat(var_dic_list()) "
    }
   },
   "position": {
    "height": "359px",
    "left": "929px",
    "right": "20px",
    "top": "120px",
    "width": "350px"
   },
   "types_to_exclude": [
    "module",
    "function",
    "builtin_function_or_method",
    "instance",
    "_Feature"
   ],
   "window_display": false
  }
 },
 "nbformat": 4,
 "nbformat_minor": 1
}
