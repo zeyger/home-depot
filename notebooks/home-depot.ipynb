{
 "cells": [
  {
   "cell_type": "markdown",
   "metadata": {},
   "source": [
    "# Home depot competition solution\n",
    "In this competition, Home Depot is asking Kagglers to help them improve their customers' shopping experience by developing a model that can accurately predict the relevance of search results.\n",
    "\n",
    "Search relevancy is an implicit measure Home Depot uses to gauge how quickly they can get customers to the right products. Currently, human raters evaluate the impact of potential changes to their search algorithms, which is a slow and subjective process. By removing or minimizing human input in search relevance evaluation, Home Depot hopes to increase the number of iterations their team can perform on the current search algorithms."
   ]
  },
  {
   "cell_type": "code",
   "execution_count": 2,
   "metadata": {
    "ExecuteTime": {
     "end_time": "2019-08-20T08:03:30.349884Z",
     "start_time": "2019-08-20T08:03:19.758014Z"
    },
    "_cell_guid": "b1076dfc-b9ad-4769-8c92-a6c4dae69d19",
    "_uuid": "8f2839f25d086af736a60e9eeb907d3b93b6e0e5"
   },
   "outputs": [],
   "source": [
    "import numpy as np  # linear algebra\n",
    "import pandas as pd  # data processing, CSV file I/O (e.g. pd.read_csv)\n",
    "\n",
    "# preprocess\n",
    "import re  \n",
    "#import hunspell\n",
    "import nltk\n",
    "from spellchecker import SpellChecker\n",
    "\n",
    "#Feature engineering\n",
    "from difflib import SequenceMatcher  # for LCS\n",
    "\n",
    "\n",
    "# Different models\n",
    "from sklearn.tree import DecisionTreeRegressor\n",
    "from sklearn.ensemble import RandomForestRegressor\n",
    "from sklearn.linear_model import LinearRegression\n",
    "\n",
    "# Evaluation\n",
    "from sklearn.metrics import mean_squared_error\n",
    "from sklearn.model_selection import train_test_split\n",
    "\n",
    "# Visualization\n",
    "import matplotlib.pyplot as plt\n",
    "from IPython.display import display\n",
    "%matplotlib inline\n",
    "\n",
    "#Validation\n",
    "from sklearn.model_selection import KFold\n",
    "from sklearn.model_selection import train_test_split\n",
    "\n",
    "#other\n",
    "pd.set_option('display.max_rows', 500)\n",
    "pd.set_option('display.max_columns', 500)\n",
    "pd.set_option('display.width', 1000)\n",
    "\n"
   ]
  },
  {
   "cell_type": "code",
   "execution_count": 8,
   "metadata": {
    "ExecuteTime": {
     "end_time": "2019-08-20T08:05:55.384028Z",
     "start_time": "2019-08-20T08:05:55.381526Z"
    }
   },
   "outputs": [],
   "source": [
    "raw_data_path = \"../data/raw/\"\n",
    "preprocessed_data_path = \"../data/processed/\""
   ]
  },
  {
   "cell_type": "markdown",
   "metadata": {},
   "source": [
    "# LOAD RAW DATA"
   ]
  },
  {
   "cell_type": "code",
   "execution_count": null,
   "metadata": {
    "ExecuteTime": {
     "end_time": "2019-08-15T13:57:40.023887Z",
     "start_time": "2019-08-15T13:57:38.333968Z"
    },
    "scrolled": false
   },
   "outputs": [],
   "source": [
    "train = pd.read_csv(raw_data_path + \"train.csv\", encoding=\"ISO-8859-1\")\n",
    "attributes = pd.read_csv(\n",
    "    raw_data_path + \"attributes.csv\", encoding=\"ISO-8859-1\")\n",
    "descriptions = pd.read_csv(\n",
    "    #raw_data_path + \"product_descriptions.csv\", encoding=\"ISO-8859-1\")\n",
    "\n",
    "display(\"Train:\", train.head(), train.shape)\n",
    "display(\"Attributes:\", attributes.head(), attributes.shape)\n",
    "display(\"Product descriptions:\", descriptions.head(), descriptions.shape)"
   ]
  },
  {
   "cell_type": "markdown",
   "metadata": {
    "heading_collapsed": true
   },
   "source": [
    "# EDA"
   ]
  },
  {
   "cell_type": "markdown",
   "metadata": {
    "heading_collapsed": true,
    "hidden": true
   },
   "source": [
    "## MIssing values"
   ]
  },
  {
   "cell_type": "code",
   "execution_count": 6,
   "metadata": {
    "hidden": true
   },
   "outputs": [
    {
     "name": "stdout",
     "output_type": "stream",
     "text": [
      "None values count:\n",
      "\n",
      "Train:\n",
      "id               0\n",
      "product_uid      0\n",
      "product_title    0\n",
      "search_term      0\n",
      "relevance        0\n",
      "dtype: int64\n",
      "\n",
      "Attributes:\n",
      "product_uid     155\n",
      "name            155\n",
      "value          2284\n",
      "dtype: int64\n",
      "\n",
      "Descriptions:\n",
      "product_uid            0\n",
      "product_description    0\n",
      "dtype: int64\n"
     ]
    }
   ],
   "source": [
    "print(\"None values count:\")\n",
    "print(\"\\nTrain:\", train.isna().sum(), \"\\nAttributes:\", attributes.isna().sum(),\n",
    "                                \"\\nDescriptions:\", descriptions.isna().sum(), sep='\\n')"
   ]
  },
  {
   "cell_type": "markdown",
   "metadata": {
    "hidden": true
   },
   "source": [
    "#### Conclusion: \n",
    "* No missing values in train.csv and product_descriptions.csv datasets, hence no treatment needed\n",
    "* There are missing values in attributes.csv, additional research required"
   ]
  },
  {
   "cell_type": "code",
   "execution_count": 7,
   "metadata": {
    "hidden": true
   },
   "outputs": [
    {
     "data": {
      "text/html": [
       "<div>\n",
       "<style scoped>\n",
       "    .dataframe tbody tr th:only-of-type {\n",
       "        vertical-align: middle;\n",
       "    }\n",
       "\n",
       "    .dataframe tbody tr th {\n",
       "        vertical-align: top;\n",
       "    }\n",
       "\n",
       "    .dataframe thead th {\n",
       "        text-align: right;\n",
       "    }\n",
       "</style>\n",
       "<table border=\"1\" class=\"dataframe\">\n",
       "  <thead>\n",
       "    <tr style=\"text-align: right;\">\n",
       "      <th></th>\n",
       "      <th>product_uid</th>\n",
       "      <th>name</th>\n",
       "      <th>value</th>\n",
       "    </tr>\n",
       "  </thead>\n",
       "  <tbody>\n",
       "    <tr>\n",
       "      <th>1022</th>\n",
       "      <td>100044.0</td>\n",
       "      <td>Collection Name</td>\n",
       "      <td>NaN</td>\n",
       "    </tr>\n",
       "    <tr>\n",
       "      <th>1349</th>\n",
       "      <td>100058.0</td>\n",
       "      <td>Battery Size</td>\n",
       "      <td>NaN</td>\n",
       "    </tr>\n",
       "    <tr>\n",
       "      <th>1929</th>\n",
       "      <td>NaN</td>\n",
       "      <td>NaN</td>\n",
       "      <td>NaN</td>\n",
       "    </tr>\n",
       "    <tr>\n",
       "      <th>4094</th>\n",
       "      <td>NaN</td>\n",
       "      <td>NaN</td>\n",
       "      <td>NaN</td>\n",
       "    </tr>\n",
       "    <tr>\n",
       "      <th>4100</th>\n",
       "      <td>NaN</td>\n",
       "      <td>NaN</td>\n",
       "      <td>NaN</td>\n",
       "    </tr>\n",
       "    <tr>\n",
       "      <th>5909</th>\n",
       "      <td>100248.0</td>\n",
       "      <td>Fastener Thread Type</td>\n",
       "      <td>NaN</td>\n",
       "    </tr>\n",
       "    <tr>\n",
       "      <th>6367</th>\n",
       "      <td>100266.0</td>\n",
       "      <td>Drive Style</td>\n",
       "      <td>NaN</td>\n",
       "    </tr>\n",
       "    <tr>\n",
       "      <th>6823</th>\n",
       "      <td>NaN</td>\n",
       "      <td>NaN</td>\n",
       "      <td>NaN</td>\n",
       "    </tr>\n",
       "    <tr>\n",
       "      <th>7898</th>\n",
       "      <td>100329.0</td>\n",
       "      <td>Fastener recommendation</td>\n",
       "      <td>NaN</td>\n",
       "    </tr>\n",
       "    <tr>\n",
       "      <th>7901</th>\n",
       "      <td>100329.0</td>\n",
       "      <td>MFG Brand Name</td>\n",
       "      <td>NaN</td>\n",
       "    </tr>\n",
       "  </tbody>\n",
       "</table>\n",
       "</div>"
      ],
      "text/plain": [
       "      product_uid                     name value\n",
       "1022     100044.0          Collection Name   NaN\n",
       "1349     100058.0             Battery Size   NaN\n",
       "1929          NaN                      NaN   NaN\n",
       "4094          NaN                      NaN   NaN\n",
       "4100          NaN                      NaN   NaN\n",
       "5909     100248.0     Fastener Thread Type   NaN\n",
       "6367     100266.0              Drive Style   NaN\n",
       "6823          NaN                      NaN   NaN\n",
       "7898     100329.0  Fastener recommendation   NaN\n",
       "7901     100329.0           MFG Brand Name   NaN"
      ]
     },
     "execution_count": 7,
     "metadata": {},
     "output_type": "execute_result"
    }
   ],
   "source": [
    "attributes[attributes.isnull().any(axis=1)].head(10)"
   ]
  },
  {
   "cell_type": "markdown",
   "metadata": {
    "hidden": true
   },
   "source": [
    "#### Conclusion:\n",
    "* All NaN rows cans be simply thrown away without hesitation\n",
    "* It appears that attribute's name is meaningless without value. Also, this type of missing value comprises only ~2% of the whole dataset. Let's try to throw away this too"
   ]
  },
  {
   "cell_type": "markdown",
   "metadata": {
    "heading_collapsed": true,
    "hidden": true
   },
   "source": [
    "## Class balance"
   ]
  },
  {
   "cell_type": "code",
   "execution_count": 28,
   "metadata": {
    "hidden": true
   },
   "outputs": [
    {
     "data": {
      "text/plain": [
       "2.0    34614\n",
       "3.0    34338\n",
       "1.0     5115\n",
       "Name: relevance, dtype: int64"
      ]
     },
     "execution_count": 28,
     "metadata": {},
     "output_type": "execute_result"
    }
   ],
   "source": [
    "scores = train.iloc[:, 4].round(0)\n",
    "scores.value_counts()"
   ]
  },
  {
   "cell_type": "code",
   "execution_count": 29,
   "metadata": {
    "hidden": true
   },
   "outputs": [
    {
     "data": {
      "text/plain": [
       "<matplotlib.axes._subplots.AxesSubplot at 0x7fd7bb74f2b0>"
      ]
     },
     "execution_count": 29,
     "metadata": {},
     "output_type": "execute_result"
    },
    {
     "data": {
      "image/png": "[encoded data removed]",
      "text/plain": [
       "<Figure size 432x288 with 1 Axes>"
      ]
     },
     "metadata": {
      "needs_background": "light"
     },
     "output_type": "display_data"
    }
   ],
   "source": [
    "scores = train.iloc[:, 4]\n",
    "scores.hist()"
   ]
  },
  {
   "cell_type": "markdown",
   "metadata": {
    "hidden": true
   },
   "source": [
    "#### Conclusion: distribution is heavily shifted towards higher scores, hence accuracy may suffer"
   ]
  },
  {
   "cell_type": "markdown",
   "metadata": {
    "heading_collapsed": true,
    "hidden": true
   },
   "source": [
    "## Outliers"
   ]
  },
  {
   "cell_type": "code",
   "execution_count": null,
   "metadata": {
    "hidden": true
   },
   "outputs": [],
   "source": [
    "# TODO"
   ]
  },
  {
   "cell_type": "markdown",
   "metadata": {
    "hidden": true
   },
   "source": [
    "## Other"
   ]
  },
  {
   "cell_type": "code",
   "execution_count": 49,
   "metadata": {
    "ExecuteTime": {
     "end_time": "2019-08-12T08:38:58.909390Z",
     "start_time": "2019-08-12T08:38:57.876545Z"
    },
    "hidden": true
   },
   "outputs": [
    {
     "data": {
      "text/plain": [
       "MFG Brand Name                 86250\n",
       "Product Width (in.)            61137\n",
       "Product Height (in.)           54698\n",
       "Product Depth (in.)            53652\n",
       "Product Weight (lb.)           45175\n",
       "Color Family                   41508\n",
       "Material                       31500\n",
       "Color/Finish                   28564\n",
       "Certifications and Listings    24583\n",
       "Assembled Height (in.)         18299\n",
       "Assembled Width (in.)          18263\n",
       "Assembled Depth (in.)          18198\n",
       "Product Length (in.)           16705\n",
       "Indoor/Outdoor                 12939\n",
       "Commercial / Residential        9530\n",
       "ENERGY STAR Certified           8420\n",
       "Hardware Included               7462\n",
       "Package Quantity                6904\n",
       "Flooring Product Type           6256\n",
       "Color                           6222\n",
       "Tools Product Type              6169\n",
       "Included                        6079\n",
       "Voltage (volts)                 6068\n",
       "Assembly Required               5718\n",
       "Features                        5562\n",
       "Wattage (watts)                 5107\n",
       "Finish                          4997\n",
       "Shape                           4892\n",
       "Color/Finish Family             4630\n",
       "Electrical Product Type         4409\n",
       "Name: name, dtype: int64"
      ]
     },
     "execution_count": 49,
     "metadata": {},
     "output_type": "execute_result"
    }
   ],
   "source": [
    "attributes['name'][~attributes['name'].str.contains('Bullet', na=False)].value_counts().head(30)"
   ]
  },
  {
   "cell_type": "markdown",
   "metadata": {
    "hidden": true
   },
   "source": [
    "**Conclusion: Brand name, color-like-attributes can be used like features**"
   ]
  },
  {
   "cell_type": "markdown",
   "metadata": {
    "heading_collapsed": true
   },
   "source": [
    "# MANUAL DATA INSPECTION"
   ]
  },
  {
   "cell_type": "markdown",
   "metadata": {
    "hidden": true
   },
   "source": [
    "## Train.csv\n",
    "### Observations:\n",
    "* Dictionary word correction and lemmatization are needed for search_term column\n",
    "* Lemmatization should be enough for product title, but it probably fine to play it safe and apply dictionary word correction too\n",
    "* Standart text preprocessing is needed: remove stop words (have to do it first, to get rid from \"in\" **but not \"in.\"**), dots, semicolons and any funny non-letter non-digit (might be exceptions, like measurment units and fractions) symbols etc. \n",
    "* **Symbols to remove**\n",
    "    * `.`\n",
    "    * `,`\n",
    "    * `&`\n",
    "    * `#`\n",
    "    * `()`\n",
    "    * `-`\n",
    "    \n",
    "* **Some measurment units are essentially same**, but written differently, like \"in.\" and \"inch\", or \"ft.\" and \"feet\", gonna deal with it somehow\n",
    "    * Inches synonyms: \n",
    "        * \\'\\' (they follow immediately after the number)\n",
    "        * in.\n",
    "        * inches\n",
    "    * Feet synonyms: \n",
    "        * \\' (they follow immediately after the number) \n",
    "        * ft.\n",
    "        * feet\n",
    "    * Pound synonyms:\n",
    "        * \\#  (?) unsure\n",
    "        * lb\n",
    "        * lbs\n",
    "        * pound\n",
    "    * Cubic inch:\n",
    "        * cu. in.\n",
    "        * cubic inch\n",
    "    * Cubic feet:\n",
    "        * cu. ft.\n",
    "        * cubic feet\n",
    "        * cubic foot\n",
    "    * Gallons synonyms:\n",
    "        * gal.\n",
    "        * gallon\n",
    "    * Yards synonyms:\n",
    "        * yds. \n",
    "        * yards\n",
    "    * Angstrom, synonyms:\n",
    "        * å¡\n",
    "        * å\n",
    "* `4x6` - these should look like this: `4 x 6`\n",
    "* Have to split words by capital letter, digits (if they contain them inside)\n",
    "* There are a lot of `*number* in./ft. x *number* in./ft.` **but query contains only `*number* x *number*`**; have to deal with this one somehow\n",
    "* `by` is synonym to `x`  \n",
    "* Some words are written by all caps, should convert it to usual word with on capital letter\n",
    "\n",
    "\n",
    "\n",
    "\n",
    "\n",
    "#  Train.csv text preprocessing summarization:\n",
    "\n",
    "\n",
    "1. Remove all in list: `[',', '(', ')', '#', '&']`, replace `['-', '+']` by whitespace\n",
    "1. Replace equivalent measurments by their common synonym\n",
    "1. Split words by capital letter or/and digits (if they contain them inside)\n",
    "1. To lowercase everything\n",
    "1. Remove all double/triple/etc whitespaces\n",
    "1. Replace `by` by `x`\n",
    "1. For each word compute the closest word from our dictionary; of the word is too far leave it as it is\n",
    "1. Lemmatize each word \n",
    "1. Create another dictionary of all words from dataset and replace words by tokens"
   ]
  },
  {
   "cell_type": "code",
   "execution_count": 47,
   "metadata": {
    "hidden": true,
    "scrolled": true
   },
   "outputs": [
    {
     "data": {
      "text/html": [
       "<div>\n",
       "<style scoped>\n",
       "    .dataframe tbody tr th:only-of-type {\n",
       "        vertical-align: middle;\n",
       "    }\n",
       "\n",
       "    .dataframe tbody tr th {\n",
       "        vertical-align: top;\n",
       "    }\n",
       "\n",
       "    .dataframe thead th {\n",
       "        text-align: right;\n",
       "    }\n",
       "</style>\n",
       "<table border=\"1\" class=\"dataframe\">\n",
       "  <thead>\n",
       "    <tr style=\"text-align: right;\">\n",
       "      <th></th>\n",
       "      <th>id</th>\n",
       "      <th>product_uid</th>\n",
       "      <th>product_title</th>\n",
       "      <th>search_term</th>\n",
       "      <th>relevance</th>\n",
       "    </tr>\n",
       "  </thead>\n",
       "  <tbody>\n",
       "    <tr>\n",
       "      <th>323</th>\n",
       "      <td>1060</td>\n",
       "      <td>100179</td>\n",
       "      <td>Paslode 3 in. x 0.120-Gauge 30å¡ Galvanized Ri...</td>\n",
       "      <td>galvanized framing nails</td>\n",
       "      <td>2.67</td>\n",
       "    </tr>\n",
       "    <tr>\n",
       "      <th>324</th>\n",
       "      <td>1062</td>\n",
       "      <td>100179</td>\n",
       "      <td>Paslode 3 in. x 0.120-Gauge 30å¡ Galvanized Ri...</td>\n",
       "      <td>paslode framing nails</td>\n",
       "      <td>3.00</td>\n",
       "    </tr>\n",
       "    <tr>\n",
       "      <th>2304</th>\n",
       "      <td>7065</td>\n",
       "      <td>101205</td>\n",
       "      <td>Grip-Rite #8 x 3 in. 16å¡ Bright Steel Duplex ...</td>\n",
       "      <td>framing nails</td>\n",
       "      <td>2.33</td>\n",
       "    </tr>\n",
       "    <tr>\n",
       "      <th>2620</th>\n",
       "      <td>8092</td>\n",
       "      <td>101367</td>\n",
       "      <td>DEWALT 20-Volt Max XR Lithium-Ion Cordless Bru...</td>\n",
       "      <td>dewalt xr</td>\n",
       "      <td>3.00</td>\n",
       "    </tr>\n",
       "    <tr>\n",
       "      <th>2621</th>\n",
       "      <td>8094</td>\n",
       "      <td>101367</td>\n",
       "      <td>DEWALT 20-Volt Max XR Lithium-Ion Cordless Bru...</td>\n",
       "      <td>lithium 20 dewalt</td>\n",
       "      <td>2.67</td>\n",
       "    </tr>\n",
       "  </tbody>\n",
       "</table>\n",
       "</div>"
      ],
      "text/plain": [
       "        id  product_uid                                      product_title  \\\n",
       "323   1060       100179  Paslode 3 in. x 0.120-Gauge 30å¡ Galvanized Ri...   \n",
       "324   1062       100179  Paslode 3 in. x 0.120-Gauge 30å¡ Galvanized Ri...   \n",
       "2304  7065       101205  Grip-Rite #8 x 3 in. 16å¡ Bright Steel Duplex ...   \n",
       "2620  8092       101367  DEWALT 20-Volt Max XR Lithium-Ion Cordless Bru...   \n",
       "2621  8094       101367  DEWALT 20-Volt Max XR Lithium-Ion Cordless Bru...   \n",
       "\n",
       "                   search_term  relevance  \n",
       "323   galvanized framing nails       2.67  \n",
       "324      paslode framing nails       3.00  \n",
       "2304             framing nails       2.33  \n",
       "2620                 dewalt xr       3.00  \n",
       "2621         lithium 20 dewalt       2.67  "
      ]
     },
     "execution_count": 47,
     "metadata": {},
     "output_type": "execute_result"
    }
   ],
   "source": [
    "train.loc[train['product_title'].str.contains(\"å¡\")].head() # excuse me what the fuck"
   ]
  },
  {
   "cell_type": "markdown",
   "metadata": {
    "hidden": true
   },
   "source": [
    "## Attributes.csv\n",
    "### Observations:\n",
    "* Bullet*somenumber* is meaningless. It's value is what matters\n",
    "* If value is missing or is equal to \"No\", the row probaly should be ignored\n",
    "\n",
    "### Preprocessing summarization:\n",
    "1. Throw away rows with missing values or \"no\" in it\n",
    "2. Join attributes for each product into one like this: `first_attribute_name + \" \" + first_attribute_value + \" \" second_attribute_name + second_attribute_value + ` and so on (but be sure not to include `bullet*somenumber*`)\n",
    "3. Apply same tranformation as to train.csv\n"
   ]
  },
  {
   "cell_type": "markdown",
   "metadata": {
    "hidden": true
   },
   "source": [
    "## Product descriptions\n",
    "### Preprocessing summarization:\n",
    "1. Apply same transormations as to train.csv"
   ]
  },
  {
   "cell_type": "markdown",
   "metadata": {
    "heading_collapsed": true
   },
   "source": [
    "# TEXT PREPROCESSING"
   ]
  },
  {
   "cell_type": "markdown",
   "metadata": {
    "heading_collapsed": true,
    "hidden": true
   },
   "source": [
    "### Preprocessing helpers"
   ]
  },
  {
   "cell_type": "code",
   "execution_count": null,
   "metadata": {
    "ExecuteTime": {
     "end_time": "2019-08-15T12:57:17.134492Z",
     "start_time": "2019-08-15T12:57:16.786119Z"
    },
    "hidden": true
   },
   "outputs": [],
   "source": [
    "# create custom dictionary\n",
    "from collections import Counter\n",
    "\n",
    "# yeah, for preprocessing i need preprocessed titles\n",
    "# without stemmatization/lemmatization\n",
    "# please don't question my sanity\n",
    "\n",
    "def prepare_dict_dataset(dataset):    \n",
    "    # 1 Remove all in list: [',', '(', ')', '#', '&'], replace ['-', '+'] by whitespace\n",
    "    dataset = dataset.apply(punctuation_prep, axis=1)\n",
    "\n",
    "    # 2 Replace units\n",
    "    dataset = dataset.apply(replace_units, axis=1)\n",
    "    \n",
    "    # 3 Split by capitals and digits\n",
    "    dataset = dataset.apply(cap_dig_split, axis=1)\n",
    "    \n",
    "    # 4 Lower, remove whitespaces and by to x replacement\n",
    "    dataset = dataset.apply(other_preprocessing, axis=1)\n",
    "    \n",
    "    return dataset\n",
    "    \n",
    "prep_titles = parallelize(train[['product_title']], prepare_dict_dataset)\n",
    "\n",
    "#prepare_dict_dataset(train[['product_title']].head())\n",
    "#train[['product_title']].head()"
   ]
  },
  {
   "cell_type": "code",
   "execution_count": null,
   "metadata": {
    "ExecuteTime": {
     "end_time": "2019-08-15T12:57:17.144490Z",
     "start_time": "2019-08-15T12:57:02.830Z"
    },
    "hidden": true
   },
   "outputs": [],
   "source": [
    "titles_text = ''\n",
    "for index, row in prep_titles.iterrows():\n",
    "    titles_text += row[0] + ' '"
   ]
  },
  {
   "cell_type": "code",
   "execution_count": null,
   "metadata": {
    "ExecuteTime": {
     "end_time": "2019-08-15T12:57:17.150298Z",
     "start_time": "2019-08-15T12:57:03.477Z"
    },
    "hidden": true
   },
   "outputs": [],
   "source": [
    "titles_words = [word.replace('/','').replace(':','') for word in titles_text.split() if len(word) > 3 and not re.match('\\d+', word)]\n",
    "counts = Counter(titles_words)\n",
    "print(len(counts))"
   ]
  },
  {
   "cell_type": "code",
   "execution_count": 86,
   "metadata": {
    "ExecuteTime": {
     "end_time": "2019-08-15T12:40:33.322231Z",
     "start_time": "2019-08-15T12:40:33.307994Z"
    },
    "hidden": true
   },
   "outputs": [],
   "source": [
    "cust_dict = pd.DataFrame(list(counts.items()))"
   ]
  },
  {
   "cell_type": "code",
   "execution_count": 88,
   "metadata": {
    "ExecuteTime": {
     "end_time": "2019-08-15T12:40:46.274302Z",
     "start_time": "2019-08-15T12:40:46.267873Z"
    },
    "hidden": true
   },
   "outputs": [],
   "source": [
    "cust_dict = cust_dict.sort_values(1, ascending=False)"
   ]
  },
  {
   "cell_type": "code",
   "execution_count": 5,
   "metadata": {
    "ExecuteTime": {
     "end_time": "2019-08-15T12:58:20.871476Z",
     "start_time": "2019-08-15T12:58:20.868485Z"
    },
    "hidden": true
   },
   "outputs": [],
   "source": [
    "custom_dictionary_path = '/home/vladislav/Documents/home-depot/data/interim/custom_frequency_dictionary.txt'\n"
   ]
  },
  {
   "cell_type": "code",
   "execution_count": null,
   "metadata": {
    "hidden": true
   },
   "outputs": [],
   "source": [
    "cust_dict.to_csv(custom_dictionary_path, sep=' ', header=False, index=False)"
   ]
  },
  {
   "cell_type": "code",
   "execution_count": 6,
   "metadata": {
    "ExecuteTime": {
     "end_time": "2019-08-15T12:58:26.083656Z",
     "start_time": "2019-08-15T12:58:25.868554Z"
    },
    "hidden": true
   },
   "outputs": [
    {
     "name": "stdout",
     "output_type": "stream",
     "text": [
      "mower, 1, 469\n",
      "more, 1, 31\n",
      "mode, 1, 17\n",
      "mole, 1, 9\n",
      "move, 1, 2\n"
     ]
    }
   ],
   "source": [
    "# Fix words\n",
    "# SymSpell\n",
    "import os\n",
    "\n",
    "from symspellpy.symspellpy import SymSpell, Verbosity  \n",
    "\n",
    "\n",
    "# maximum edit distance per dictionary precalculation\n",
    "max_edit_distance_dictionary = 2\n",
    "prefix_length = 3\n",
    "\n",
    "# create object\n",
    "sym_spell = SymSpell(max_edit_distance_dictionary, prefix_length)\n",
    "\n",
    "# load dictionary      \n",
    "#dictionary_path = \"/home/vladislav/Documents/home-depot/data/interim/frequency_dictionary_en_82_765.txt\"\n",
    "term_index=0  # column of the term in the dictionary text file\n",
    "count_index=1  # column of the term frequency in the dictionary text file\n",
    "if not sym_spell.load_dictionary(custom_dictionary_path, term_index, count_index):\n",
    "    print(\"Dictionary file not found\")\n",
    "    raise ValueError\n",
    "\n",
    "# max edit distance per lookup\n",
    "# (max_edit_distance_lookup <= max_edit_distance_dictionary)\n",
    "max_edit_distance_lookup=2\n",
    "suggestion_verbosity=Verbosity.CLOSEST  # TOP, CLOSEST, ALL\n",
    "\n",
    "\n",
    "input_term = 'mowe'\n",
    "suggestions=sym_spell.lookup(input_term, suggestion_verbosity, max_edit_distance_lookup)\n",
    "# display suggestion term, term frequency, and edit distance\n",
    "for suggestion in suggestions:\n",
    "    print(\"{}, {}, {}\".format(suggestion.term, suggestion.distance,\n",
    "                              suggestion.count))\n",
    "\n",
    "def correct(word):\n",
    "    suggestions=sym_spell.lookup(word, suggestion_verbosity,\n",
    "                                   max_edit_distance_lookup)\n",
    "    return suggestions[0].term\n",
    "#correct('mowe')\n",
    "\n",
    "def correct_words(s):\n",
    "    sentence = []\n",
    "    for word in s.split():\n",
    "        if len(word) > 3:\n",
    "            try:\n",
    "                suggestion = correct(word)\n",
    "                sentence.append(suggestion)\n",
    "            except IndexError:\n",
    "                sentence.append(word)\n",
    "        else:\n",
    "            sentence.append(word)\n",
    "    return ' '.join(sentence)\n",
    "    \n",
    " "
   ]
  },
  {
   "cell_type": "code",
   "execution_count": 7,
   "metadata": {
    "ExecuteTime": {
     "end_time": "2019-08-15T13:57:45.579426Z",
     "start_time": "2019-08-15T13:57:45.569790Z"
    },
    "hidden": true
   },
   "outputs": [],
   "source": [
    "# remove and replace unnecessary chars\n",
    "\n",
    "chars_to_remove = [',', '\\(', '\\)', '#', '\\&', ';']\n",
    "chars_to_replace = ['-', '\\+']\n",
    "\n",
    "str_rem = \"|\".join(chars_to_remove)\n",
    "str_rep = \"|\".join(chars_to_replace)\n",
    "\n",
    "\n",
    "def remove_amp(s):\n",
    "    return s.replace('&amp;', ' ')\n",
    "\n",
    "\n",
    "def remove_chars(s):\n",
    "    return re.sub(str_rem, \"\", s)\n",
    "\n",
    "\n",
    "def replace_chars(s):\n",
    "    return re.sub(str_rep, \" \", s)\n",
    "\n",
    "\n",
    "def string_punctuation_prep(s):\n",
    "    s = remove_amp(s)\n",
    "    s = remove_chars(s)\n",
    "    s = replace_chars(s)\n",
    "    return s"
   ]
  },
  {
   "cell_type": "code",
   "execution_count": 8,
   "metadata": {
    "ExecuteTime": {
     "end_time": "2019-08-15T13:57:46.001671Z",
     "start_time": "2019-08-15T13:57:45.994635Z"
    },
    "hidden": true
   },
   "outputs": [],
   "source": [
    "# Split words by capital letter or/and digits (if they contain them inside)\n",
    "\n",
    "capitals_regex = re.compile('[A-Z]+[^A-Z]*|[^A-Z]+')\n",
    "digits_regex = re.compile('\\d+|\\D+')\n",
    "\n",
    "\n",
    "def split_by_capital(s):\n",
    "    if re.match(\"[A-Z]+\", s) is not None:  # If s contains capital letters\n",
    "        words = capitals_regex.findall(s)\n",
    "        words = map(str.strip, words)\n",
    "        s = \" \".join(words)\n",
    "    return s\n",
    "\n",
    "\n",
    "def split_by_digit(s):\n",
    "    if re.search(\"[0-9]+\", s) is not None:  # If s contains digits\n",
    "        words = digits_regex.findall(s)\n",
    "        words = map(str.strip, words)\n",
    "        s = \" \".join(words)\n",
    "    return s\n",
    "\n",
    "\n",
    "def string_cap_dig_split(s):\n",
    "    s = split_by_capital(s)\n",
    "    s = split_by_digit(s)\n",
    "    return s"
   ]
  },
  {
   "cell_type": "code",
   "execution_count": 9,
   "metadata": {
    "ExecuteTime": {
     "end_time": "2019-08-15T13:57:46.362939Z",
     "start_time": "2019-08-15T13:57:46.353118Z"
    },
    "hidden": true
   },
   "outputs": [],
   "source": [
    "def string_replace_units(s):\n",
    "    s = s.replace('\\'\\'',      ' _in')\n",
    "    s = s.replace(' in.',      ' _in')\n",
    "    s = s.replace(' inches',   ' _in')\n",
    "    \n",
    "    s = s.replace('\\'',     ' _ft')\n",
    "    s = s.replace(' ft.',   ' _ft')\n",
    "    s = s.replace(' feet',  ' _ft')\n",
    "    s = s.replace(' foot',  ' _ft')\n",
    "    \n",
    "    s = s.replace(' cm',  ' _cm')\n",
    "    s = s.replace(' centimeters',  ' _cm')\n",
    "    \n",
    "    s = s.replace(' mm',  ' _mm')\n",
    "    s = s.replace(' milimeters',  ' _mm')\n",
    "    \n",
    "    \n",
    "    s = s.replace(' lb.',  ' _lb')\n",
    "    s = s.replace(' lbs.', ' _lb')\n",
    "    s = s.replace(' lbs.', ' _lb')\n",
    "    \n",
    "    s = s.replace(' cu.', '   _cu')\n",
    "    s = s.replace(' cubic', ' _cu')\n",
    "    \n",
    "    s = s.replace(' gal.',    ' _gal')\n",
    "    s = s.replace(' gallons', ' _gal')\n",
    "    s = s.replace(' gallon',  ' _gal')\n",
    "        \n",
    "    s = s.replace(' oz',     ' _oz')\n",
    "    s = s.replace(' ounces', ' _oz')\n",
    "    s = s.replace(' ounce',  ' _oz')\n",
    "    \n",
    "    s = s.replace(' yds.', ' _yds')\n",
    "    s = s.replace(' yard', ' _yds')\n",
    "    \n",
    "    s = s.replace('å¡', ' one_ang')\n",
    "    s = s.replace('å', ' one_ang')\n",
    "\n",
    "    return s\n",
    "\n",
    "\n"
   ]
  },
  {
   "cell_type": "code",
   "execution_count": 10,
   "metadata": {
    "ExecuteTime": {
     "end_time": "2019-08-15T13:57:46.921152Z",
     "start_time": "2019-08-15T13:57:46.914512Z"
    },
    "hidden": true
   },
   "outputs": [],
   "source": [
    "# lower text\n",
    "def lower(s):\n",
    "    return s.lower()\n",
    "\n",
    "\n",
    "# remove text\n",
    "def remove_mult_spaces(s):\n",
    "    return re.sub(' +', ' ', s).strip()\n",
    "\n",
    "\n",
    "# replace 'by' by 'x'\n",
    "def by_to_x(s):\n",
    "    return s.replace(' by ', ' x ')\n",
    "\n",
    "def remove_at(i, s):\n",
    "    return s[:i] + s[i+1:]\n",
    "\n",
    "# remove dots on the end of the word\n",
    "def remove_dots(s):\n",
    "    if re.search(r'[a-zA-Z]\\.', s) is not None:\n",
    "        s = s.replace('.', '')\n",
    "    return s\n",
    "\n",
    "        \n",
    "def string_other_preprocessing(s):\n",
    "    s = lower(s)\n",
    "    s = remove_mult_spaces(s)\n",
    "    s = by_to_x(s)\n",
    "    s = remove_dots(s)\n",
    "    return s\n",
    "\n"
   ]
  },
  {
   "cell_type": "code",
   "execution_count": 11,
   "metadata": {
    "ExecuteTime": {
     "end_time": "2019-08-15T13:57:47.767768Z",
     "start_time": "2019-08-15T13:57:47.762005Z"
    },
    "hidden": true
   },
   "outputs": [],
   "source": [
    "import nltk\n",
    "from nltk.stem.wordnet import WordNetLemmatizer\n",
    "from nltk.tokenize import word_tokenize\n",
    "from nltk.stem import PorterStemmer\n",
    "#nltk.download('punkt')\n",
    "\n",
    "Lem = WordNetLemmatizer()\n",
    "\n",
    "def string_lemmatize(s):\n",
    "    words = [Lem.lemmatize(w) for w in word_tokenize(s)]\n",
    "    s = ' '.join(words)\n",
    "    return s\n",
    "\n",
    "Stemmer=PorterStemmer()\n",
    "\n",
    "def string_stem(s):\n",
    "    words = [Stemmer.stem(w) for w in word_tokenize(s)]\n",
    "    s = ' '.join(words)\n",
    "    return s\n",
    "\n",
    "\n",
    "#string_stem('mdf')"
   ]
  },
  {
   "cell_type": "markdown",
   "metadata": {
    "heading_collapsed": true,
    "hidden": true
   },
   "source": [
    "### Main helpers"
   ]
  },
  {
   "cell_type": "code",
   "execution_count": 12,
   "metadata": {
    "ExecuteTime": {
     "end_time": "2019-08-15T13:57:49.320625Z",
     "start_time": "2019-08-15T13:57:49.309928Z"
    },
    "hidden": true
   },
   "outputs": [],
   "source": [
    "# main helpers\n",
    "\n",
    "def process_row(row, func):\n",
    "    new_row = []\n",
    "    for s in row:\n",
    "        s = func(s)\n",
    "        new_row.append(s)\n",
    "    return pd.Series(new_row)\n",
    "\n",
    "def punctuation_prep(row):\n",
    "    return process_row(row, string_punctuation_prep)\n",
    "\n",
    "\n",
    "def replace_units(row):\n",
    "    return process_row(row, string_replace_units)\n",
    "\n",
    "\n",
    "def cap_dig_split(row):\n",
    "    return process_row(row, string_cap_dig_split)\n",
    "\n",
    "\n",
    "def other_preprocessing(row):\n",
    "    return process_row(row, string_other_preprocessing)\n",
    "\n",
    "\n",
    "def lemmatize(row):\n",
    "    return process_row(row, string_lemmatize)\n",
    "\n",
    "def stem(row):\n",
    "    return process_row(row, string_stem)\n"
   ]
  },
  {
   "cell_type": "code",
   "execution_count": 13,
   "metadata": {
    "ExecuteTime": {
     "end_time": "2019-08-15T13:57:51.709042Z",
     "start_time": "2019-08-15T13:57:51.702742Z"
    },
    "hidden": true,
    "scrolled": true
   },
   "outputs": [],
   "source": [
    "def prepare_dataset(dataset):    \n",
    "    #display(dataset.head())\n",
    "    is_train = False\n",
    "    if 'search_term' in dataset.columns:\n",
    "        is_train = True\n",
    "    \n",
    "    # 1 Remove all in list: [',', '(', ')', '#', '&'], replace ['-', '+'] by whitespace\n",
    "    dataset = dataset.apply(punctuation_prep, axis=1)\n",
    "\n",
    "    # 2 Replace units\n",
    "    dataset = dataset.apply(replace_units, axis=1)\n",
    "    \n",
    "    # 3 Split by capitals and digits\n",
    "    dataset = dataset.apply(cap_dig_split, axis=1)\n",
    "    \n",
    "    # 4 Lower, remove whitespaces and by to x replacement\n",
    "    dataset = dataset.apply(other_preprocessing, axis=1)\n",
    "    \n",
    " \n",
    "    \n",
    "    if is_train:\n",
    "        dataset.columns = ['product_title', 'search_term'] \n",
    "        dataset['search_term'] = dataset['search_term'].apply(lambda row: pd.Series([correct_words(row)]))\n",
    "    \n",
    "    # 5 Lemmatize\n",
    "    #dataset = dataset.apply(lemmatize, axis=1)\n",
    "    \n",
    "    #5 Stemmatize\n",
    "    dataset = dataset.apply(stem, axis=1)\n",
    "    \n",
    "    return(dataset)\n"
   ]
  },
  {
   "cell_type": "markdown",
   "metadata": {
    "heading_collapsed": true,
    "hidden": true
   },
   "source": [
    "### Train.csv"
   ]
  },
  {
   "cell_type": "code",
   "execution_count": 18,
   "metadata": {
    "ExecuteTime": {
     "end_time": "2019-08-15T13:00:43.177613Z",
     "start_time": "2019-08-15T12:59:18.656844Z"
    },
    "hidden": true
   },
   "outputs": [
    {
     "data": {
      "text/html": [
       "<div>\n",
       "<style scoped>\n",
       "    .dataframe tbody tr th:only-of-type {\n",
       "        vertical-align: middle;\n",
       "    }\n",
       "\n",
       "    .dataframe tbody tr th {\n",
       "        vertical-align: top;\n",
       "    }\n",
       "\n",
       "    .dataframe thead th {\n",
       "        text-align: right;\n",
       "    }\n",
       "</style>\n",
       "<table border=\"1\" class=\"dataframe\">\n",
       "  <thead>\n",
       "    <tr style=\"text-align: right;\">\n",
       "      <th></th>\n",
       "      <th>product_title</th>\n",
       "      <th>search_term</th>\n",
       "    </tr>\n",
       "  </thead>\n",
       "  <tbody>\n",
       "    <tr>\n",
       "      <th>0</th>\n",
       "      <td>simpson strong tie 12 gaug angl</td>\n",
       "      <td>angl bracket</td>\n",
       "    </tr>\n",
       "    <tr>\n",
       "      <th>1</th>\n",
       "      <td>simpson strong tie 12 gaug angl</td>\n",
       "      <td>l bracket</td>\n",
       "    </tr>\n",
       "    <tr>\n",
       "      <th>2</th>\n",
       "      <td>behr premium textur deck over 1 _gal sc 141 tu...</td>\n",
       "      <td>deck over</td>\n",
       "    </tr>\n",
       "    <tr>\n",
       "      <th>3</th>\n",
       "      <td>delta vero 1 handl shower onli faucet trim kit...</td>\n",
       "      <td>rain shower head</td>\n",
       "    </tr>\n",
       "    <tr>\n",
       "      <th>4</th>\n",
       "      <td>delta vero 1 handl shower onli faucet trim kit...</td>\n",
       "      <td>shower onli faucet</td>\n",
       "    </tr>\n",
       "    <tr>\n",
       "      <th>5</th>\n",
       "      <td>whirlpool 1 . 9 _cu _ft over the rang convect ...</td>\n",
       "      <td>convect otr</td>\n",
       "    </tr>\n",
       "    <tr>\n",
       "      <th>6</th>\n",
       "      <td>whirlpool 1 . 9 _cu _ft over the rang convect ...</td>\n",
       "      <td>microwav over stove</td>\n",
       "    </tr>\n",
       "    <tr>\n",
       "      <th>7</th>\n",
       "      <td>whirlpool 1 . 9 _cu _ft over the rang convect ...</td>\n",
       "      <td>microwav</td>\n",
       "    </tr>\n",
       "    <tr>\n",
       "      <th>8</th>\n",
       "      <td>lithonia light quantum 2 light black led emerg...</td>\n",
       "      <td>emerg light</td>\n",
       "    </tr>\n",
       "    <tr>\n",
       "      <th>9</th>\n",
       "      <td>hous of fara 3 / 4 _in x 3 _in x 8 _ft mdf flu...</td>\n",
       "      <td>mdf 3 / 4</td>\n",
       "    </tr>\n",
       "    <tr>\n",
       "      <th>10</th>\n",
       "      <td>valley view industri metal stake 4 pack</td>\n",
       "      <td>steel stake</td>\n",
       "    </tr>\n",
       "    <tr>\n",
       "      <th>11</th>\n",
       "      <td>toro person pace recycl 22 _in variabl speed s...</td>\n",
       "      <td>brigg and stratton lawn mower</td>\n",
       "    </tr>\n",
       "  </tbody>\n",
       "</table>\n",
       "</div>"
      ],
      "text/plain": [
       "                                        product_title                    search_term\n",
       "0                     simpson strong tie 12 gaug angl                   angl bracket\n",
       "1                     simpson strong tie 12 gaug angl                      l bracket\n",
       "2   behr premium textur deck over 1 _gal sc 141 tu...                      deck over\n",
       "3   delta vero 1 handl shower onli faucet trim kit...               rain shower head\n",
       "4   delta vero 1 handl shower onli faucet trim kit...             shower onli faucet\n",
       "5   whirlpool 1 . 9 _cu _ft over the rang convect ...                    convect otr\n",
       "6   whirlpool 1 . 9 _cu _ft over the rang convect ...            microwav over stove\n",
       "7   whirlpool 1 . 9 _cu _ft over the rang convect ...                       microwav\n",
       "8   lithonia light quantum 2 light black led emerg...                    emerg light\n",
       "9   hous of fara 3 / 4 _in x 3 _in x 8 _ft mdf flu...                      mdf 3 / 4\n",
       "10            valley view industri metal stake 4 pack                    steel stake\n",
       "11  toro person pace recycl 22 _in variabl speed s...  brigg and stratton lawn mower"
      ]
     },
     "metadata": {},
     "output_type": "display_data"
    },
    {
     "data": {
      "text/plain": [
       "(74067, 5)"
      ]
     },
     "metadata": {},
     "output_type": "display_data"
    }
   ],
   "source": [
    "prep_train = train.copy()\n",
    "\n",
    "\n",
    "dataset = prep_train[[\"product_title\", \"search_term\"]]\n",
    "\n",
    "prep_train[[\"product_title\", \"search_term\"]] = parallelize(dataset, prepare_dataset)\n",
    "#prep_train[[\"product_title\", \"search_term\"]] = prepare_dataset(dataset.head(12))\n",
    "\n",
    "\n",
    "\n",
    "prep_train.to_csv(preprocessed_data_path + \"train.csv\", index=False) \n",
    "display(prep_train[[\"product_title\", \"search_term\"]].head(12), prep_train.shape)"
   ]
  },
  {
   "cell_type": "markdown",
   "metadata": {
    "heading_collapsed": true,
    "hidden": true
   },
   "source": [
    "### Product_descriptions.csv"
   ]
  },
  {
   "cell_type": "code",
   "execution_count": 48,
   "metadata": {
    "ExecuteTime": {
     "end_time": "2019-08-15T13:23:53.032170Z",
     "start_time": "2019-08-15T13:23:53.023595Z"
    },
    "hidden": true,
    "scrolled": true
   },
   "outputs": [
    {
     "data": {
      "text/html": [
       "<div>\n",
       "<style scoped>\n",
       "    .dataframe tbody tr th:only-of-type {\n",
       "        vertical-align: middle;\n",
       "    }\n",
       "\n",
       "    .dataframe tbody tr th {\n",
       "        vertical-align: top;\n",
       "    }\n",
       "\n",
       "    .dataframe thead th {\n",
       "        text-align: right;\n",
       "    }\n",
       "</style>\n",
       "<table border=\"1\" class=\"dataframe\">\n",
       "  <thead>\n",
       "    <tr style=\"text-align: right;\">\n",
       "      <th></th>\n",
       "      <th>product_uid</th>\n",
       "      <th>product_description</th>\n",
       "    </tr>\n",
       "  </thead>\n",
       "  <tbody>\n",
       "    <tr>\n",
       "      <th>0</th>\n",
       "      <td>100001</td>\n",
       "      <td>angl make joint stronger also provid consist s...</td>\n",
       "    </tr>\n",
       "    <tr>\n",
       "      <th>1</th>\n",
       "      <td>100002</td>\n",
       "      <td>behr premium textur deckov innov solid color c...</td>\n",
       "    </tr>\n",
       "    <tr>\n",
       "      <th>2</th>\n",
       "      <td>100003</td>\n",
       "      <td>classic architectur meet contemporari design e...</td>\n",
       "    </tr>\n",
       "    <tr>\n",
       "      <th>3</th>\n",
       "      <td>100004</td>\n",
       "      <td>grape solar 265 watt polycrystallin pv solar p...</td>\n",
       "    </tr>\n",
       "    <tr>\n",
       "      <th>4</th>\n",
       "      <td>100005</td>\n",
       "      <td>updat bathroom delta vero singl handl shower f...</td>\n",
       "    </tr>\n",
       "  </tbody>\n",
       "</table>\n",
       "</div>"
      ],
      "text/plain": [
       "   product_uid                                product_description\n",
       "0       100001  angl make joint stronger also provid consist s...\n",
       "1       100002  behr premium textur deckov innov solid color c...\n",
       "2       100003  classic architectur meet contemporari design e...\n",
       "3       100004  grape solar 265 watt polycrystallin pv solar p...\n",
       "4       100005  updat bathroom delta vero singl handl shower f..."
      ]
     },
     "metadata": {},
     "output_type": "display_data"
    },
    {
     "data": {
      "text/plain": [
       "(124428, 2)"
      ]
     },
     "metadata": {},
     "output_type": "display_data"
    }
   ],
   "source": [
    "#from nltk.corpus import stopwords\n",
    "#nltk.download('stopwords')\n",
    "\n",
    "stop = stopwords.words('english')\n",
    "\n",
    "prep_desc = descriptions.copy()\n",
    "\n",
    "\n",
    "dataset = prep_desc[[\"product_description\"]]\n",
    "dataset[\"product_description\"] = dataset[\"product_description\"].apply(lambda x: ' '.join([word for word in x.split() if word.lower() not in stop]))\n",
    "\n",
    "prep_desc[[\"product_description\"]] = parallelize(dataset, prepare_dataset)\n",
    "prepare_dataset(dataset.head())\n",
    "\n",
    "prep_desc.to_csv(preprocessed_data_path + \"product_descriptions.csv\", index=False) \n",
    "display(prep_desc.head(), prep_desc.shape)"
   ]
  },
  {
   "cell_type": "markdown",
   "metadata": {
    "heading_collapsed": true,
    "hidden": true
   },
   "source": [
    "### Attributes.csv"
   ]
  },
  {
   "cell_type": "code",
   "execution_count": 14,
   "metadata": {
    "ExecuteTime": {
     "end_time": "2019-08-15T13:57:54.875557Z",
     "start_time": "2019-08-15T13:57:54.236976Z"
    },
    "hidden": true
   },
   "outputs": [
    {
     "data": {
      "text/plain": [
       "(2042519, 3)"
      ]
     },
     "execution_count": 14,
     "metadata": {},
     "output_type": "execute_result"
    }
   ],
   "source": [
    "prep_attr = attributes.copy()\n",
    "prep_attr = prep_attr.dropna()\n",
    "prep_attr.shape"
   ]
  },
  {
   "cell_type": "code",
   "execution_count": null,
   "metadata": {
    "ExecuteTime": {
     "start_time": "2019-08-15T13:58:34.216Z"
    },
    "hidden": true
   },
   "outputs": [],
   "source": [
    "# warning: wants additional ram, around 4 gb\n",
    "dataset = prep_attr[[\"name\", \"value\"]]\n",
    "prep_attr[[\"name\", \"value\"]] = parallelize(dataset, prepare_dataset, num_of_processes=7)\n",
    "prep_attr.to_csv(preprocessed_data_path + \"attributes.csv\") \n",
    "display(prep_attr.head(10), prep_attr.shape)\n",
    "\n",
    "prep_attr = prep_attr[prep_attr.value.str[0:2] != 'no']\n",
    "prep_attr.to_csv(preprocessed_data_path + \"attributes.csv\", index=False) \n",
    "display(prep_attr.head(10), prep_attr.shape)"
   ]
  },
  {
   "cell_type": "code",
   "execution_count": 20,
   "metadata": {
    "ExecuteTime": {
     "end_time": "2019-07-25T11:55:05.892363Z",
     "start_time": "2019-07-25T11:54:58.284557Z"
    },
    "hidden": true
   },
   "outputs": [
    {
     "data": {
      "text/html": [
       "<div>\n",
       "<style scoped>\n",
       "    .dataframe tbody tr th:only-of-type {\n",
       "        vertical-align: middle;\n",
       "    }\n",
       "\n",
       "    .dataframe tbody tr th {\n",
       "        vertical-align: top;\n",
       "    }\n",
       "\n",
       "    .dataframe thead th {\n",
       "        text-align: right;\n",
       "    }\n",
       "</style>\n",
       "<table border=\"1\" class=\"dataframe\">\n",
       "  <thead>\n",
       "    <tr style=\"text-align: right;\">\n",
       "      <th></th>\n",
       "      <th>product_uid</th>\n",
       "      <th>name</th>\n",
       "      <th>value</th>\n",
       "    </tr>\n",
       "  </thead>\n",
       "  <tbody>\n",
       "    <tr>\n",
       "      <th>0</th>\n",
       "      <td>100001.0</td>\n",
       "      <td>bullet 01</td>\n",
       "      <td>versatile connector for various 90 â° connecti...</td>\n",
       "    </tr>\n",
       "    <tr>\n",
       "      <th>1</th>\n",
       "      <td>100001.0</td>\n",
       "      <td>bullet 02</td>\n",
       "      <td>stronger than angled nailing or screw fastenin...</td>\n",
       "    </tr>\n",
       "    <tr>\n",
       "      <th>2</th>\n",
       "      <td>100001.0</td>\n",
       "      <td>bullet 03</td>\n",
       "      <td>help ensure joint are consistently straight an...</td>\n",
       "    </tr>\n",
       "    <tr>\n",
       "      <th>3</th>\n",
       "      <td>100001.0</td>\n",
       "      <td>bullet 04</td>\n",
       "      <td>dimensions: 3 inch x 3 inch x 1 1 / 2 inch</td>\n",
       "    </tr>\n",
       "    <tr>\n",
       "      <th>4</th>\n",
       "      <td>100001.0</td>\n",
       "      <td>bullet 05</td>\n",
       "      <td>made from 12 gauge steel</td>\n",
       "    </tr>\n",
       "    <tr>\n",
       "      <th>5</th>\n",
       "      <td>100001.0</td>\n",
       "      <td>bullet 06</td>\n",
       "      <td>galvanized for extra corrosion resistance</td>\n",
       "    </tr>\n",
       "    <tr>\n",
       "      <th>6</th>\n",
       "      <td>100001.0</td>\n",
       "      <td>bullet 07</td>\n",
       "      <td>install with 10 d common nail or 9 x 1 1 / 2 i...</td>\n",
       "    </tr>\n",
       "    <tr>\n",
       "      <th>7</th>\n",
       "      <td>100001.0</td>\n",
       "      <td>gauge</td>\n",
       "      <td>12</td>\n",
       "    </tr>\n",
       "    <tr>\n",
       "      <th>8</th>\n",
       "      <td>100001.0</td>\n",
       "      <td>material</td>\n",
       "      <td>galvanized steel</td>\n",
       "    </tr>\n",
       "    <tr>\n",
       "      <th>9</th>\n",
       "      <td>100001.0</td>\n",
       "      <td>mfg brand name</td>\n",
       "      <td>simpson strong tie</td>\n",
       "    </tr>\n",
       "    <tr>\n",
       "      <th>10</th>\n",
       "      <td>100001.0</td>\n",
       "      <td>number of piece</td>\n",
       "      <td>1</td>\n",
       "    </tr>\n",
       "    <tr>\n",
       "      <th>11</th>\n",
       "      <td>100001.0</td>\n",
       "      <td>product depth inch</td>\n",
       "      <td>1 . 5</td>\n",
       "    </tr>\n",
       "    <tr>\n",
       "      <th>12</th>\n",
       "      <td>100001.0</td>\n",
       "      <td>product height inch</td>\n",
       "      <td>3</td>\n",
       "    </tr>\n",
       "    <tr>\n",
       "      <th>13</th>\n",
       "      <td>100001.0</td>\n",
       "      <td>product weight pound</td>\n",
       "      <td>0 . 26</td>\n",
       "    </tr>\n",
       "    <tr>\n",
       "      <th>14</th>\n",
       "      <td>100001.0</td>\n",
       "      <td>product width inch</td>\n",
       "      <td>3</td>\n",
       "    </tr>\n",
       "    <tr>\n",
       "      <th>15</th>\n",
       "      <td>100002.0</td>\n",
       "      <td>application method</td>\n",
       "      <td>brush roller spray</td>\n",
       "    </tr>\n",
       "    <tr>\n",
       "      <th>16</th>\n",
       "      <td>100002.0</td>\n",
       "      <td>assembled depth inch</td>\n",
       "      <td>6 . 63 in</td>\n",
       "    </tr>\n",
       "    <tr>\n",
       "      <th>17</th>\n",
       "      <td>100002.0</td>\n",
       "      <td>assembled height inch</td>\n",
       "      <td>7 . 76 in</td>\n",
       "    </tr>\n",
       "    <tr>\n",
       "      <th>18</th>\n",
       "      <td>100002.0</td>\n",
       "      <td>assembled width inch</td>\n",
       "      <td>6 . 63 in</td>\n",
       "    </tr>\n",
       "    <tr>\n",
       "      <th>19</th>\n",
       "      <td>100002.0</td>\n",
       "      <td>bullet 01</td>\n",
       "      <td>revives wood and composite deck railing porch ...</td>\n",
       "    </tr>\n",
       "    <tr>\n",
       "      <th>20</th>\n",
       "      <td>100002.0</td>\n",
       "      <td>bullet 02</td>\n",
       "      <td>100 % acrylic solid color coating</td>\n",
       "    </tr>\n",
       "    <tr>\n",
       "      <th>21</th>\n",
       "      <td>100002.0</td>\n",
       "      <td>bullet 03</td>\n",
       "      <td>resists cracking and peeling and conceals spli...</td>\n",
       "    </tr>\n",
       "    <tr>\n",
       "      <th>22</th>\n",
       "      <td>100002.0</td>\n",
       "      <td>bullet 04</td>\n",
       "      <td>provides a durable mildew resistant finish</td>\n",
       "    </tr>\n",
       "    <tr>\n",
       "      <th>23</th>\n",
       "      <td>100002.0</td>\n",
       "      <td>bullet 05</td>\n",
       "      <td>cover up to 75 sq foot in 2 coat per gallon</td>\n",
       "    </tr>\n",
       "    <tr>\n",
       "      <th>24</th>\n",
       "      <td>100002.0</td>\n",
       "      <td>bullet 06</td>\n",
       "      <td>creates a textured slip resistant finish</td>\n",
       "    </tr>\n",
       "    <tr>\n",
       "      <th>25</th>\n",
       "      <td>100002.0</td>\n",
       "      <td>bullet 07</td>\n",
       "      <td>for best result prepare with the appropriate b...</td>\n",
       "    </tr>\n",
       "    <tr>\n",
       "      <th>26</th>\n",
       "      <td>100002.0</td>\n",
       "      <td>bullet 08</td>\n",
       "      <td>actual paint color may vary from on screen and...</td>\n",
       "    </tr>\n",
       "    <tr>\n",
       "      <th>27</th>\n",
       "      <td>100002.0</td>\n",
       "      <td>bullet 10</td>\n",
       "      <td>color available to be tinted in most store</td>\n",
       "    </tr>\n",
       "    <tr>\n",
       "      <th>28</th>\n",
       "      <td>100002.0</td>\n",
       "      <td>bullet 18</td>\n",
       "      <td>online price includes paint care fee in the fo...</td>\n",
       "    </tr>\n",
       "    <tr>\n",
       "      <th>29</th>\n",
       "      <td>100002.0</td>\n",
       "      <td>cleanup</td>\n",
       "      <td>soap and water</td>\n",
       "    </tr>\n",
       "    <tr>\n",
       "      <th>...</th>\n",
       "      <td>...</td>\n",
       "      <td>...</td>\n",
       "      <td>...</td>\n",
       "    </tr>\n",
       "    <tr>\n",
       "      <th>76</th>\n",
       "      <td>100003.0</td>\n",
       "      <td>tub depth inch</td>\n",
       "      <td>20</td>\n",
       "    </tr>\n",
       "    <tr>\n",
       "      <th>77</th>\n",
       "      <td>100003.0</td>\n",
       "      <td>tub height inch</td>\n",
       "      <td>18</td>\n",
       "    </tr>\n",
       "    <tr>\n",
       "      <th>78</th>\n",
       "      <td>100003.0</td>\n",
       "      <td>tub length inch</td>\n",
       "      <td>60</td>\n",
       "    </tr>\n",
       "    <tr>\n",
       "      <th>79</th>\n",
       "      <td>100003.0</td>\n",
       "      <td>tub width inch</td>\n",
       "      <td>33 . 25</td>\n",
       "    </tr>\n",
       "    <tr>\n",
       "      <th>80</th>\n",
       "      <td>100003.0</td>\n",
       "      <td>wall height inch</td>\n",
       "      <td>54</td>\n",
       "    </tr>\n",
       "    <tr>\n",
       "      <th>81</th>\n",
       "      <td>100003.0</td>\n",
       "      <td>water capacity gallon</td>\n",
       "      <td>55</td>\n",
       "    </tr>\n",
       "    <tr>\n",
       "      <th>82</th>\n",
       "      <td>100004.0</td>\n",
       "      <td>amperage amp</td>\n",
       "      <td>8 . 56</td>\n",
       "    </tr>\n",
       "    <tr>\n",
       "      <th>83</th>\n",
       "      <td>100004.0</td>\n",
       "      <td>bullet 01</td>\n",
       "      <td>positive power tolerance 0 to 5 watt</td>\n",
       "    </tr>\n",
       "    <tr>\n",
       "      <th>84</th>\n",
       "      <td>100004.0</td>\n",
       "      <td>bullet 02</td>\n",
       "      <td>anti reflective and anti soiling surface reduc...</td>\n",
       "    </tr>\n",
       "    <tr>\n",
       "      <th>85</th>\n",
       "      <td>100004.0</td>\n",
       "      <td>bullet 03</td>\n",
       "      <td>outstanding performance in low light irradianc...</td>\n",
       "    </tr>\n",
       "    <tr>\n",
       "      <th>86</th>\n",
       "      <td>100004.0</td>\n",
       "      <td>bullet 04</td>\n",
       "      <td>certified to withstand high wind and snow load</td>\n",
       "    </tr>\n",
       "    <tr>\n",
       "      <th>87</th>\n",
       "      <td>100004.0</td>\n",
       "      <td>bullet 05</td>\n",
       "      <td>100 % electroluminescence inspection ensures m...</td>\n",
       "    </tr>\n",
       "    <tr>\n",
       "      <th>88</th>\n",
       "      <td>100004.0</td>\n",
       "      <td>bullet 06</td>\n",
       "      <td>positive and negative lead quipped with mc 4 c...</td>\n",
       "    </tr>\n",
       "    <tr>\n",
       "      <th>90</th>\n",
       "      <td>100004.0</td>\n",
       "      <td>electrical product type</td>\n",
       "      <td>solar power panel</td>\n",
       "    </tr>\n",
       "    <tr>\n",
       "      <th>93</th>\n",
       "      <td>100004.0</td>\n",
       "      <td>mfg brand name</td>\n",
       "      <td>grape solar</td>\n",
       "    </tr>\n",
       "    <tr>\n",
       "      <th>95</th>\n",
       "      <td>100004.0</td>\n",
       "      <td>number of panel</td>\n",
       "      <td>4</td>\n",
       "    </tr>\n",
       "    <tr>\n",
       "      <th>96</th>\n",
       "      <td>100004.0</td>\n",
       "      <td>panel height inch</td>\n",
       "      <td>1 . 57</td>\n",
       "    </tr>\n",
       "    <tr>\n",
       "      <th>97</th>\n",
       "      <td>100004.0</td>\n",
       "      <td>panel length inch</td>\n",
       "      <td>64 . 96</td>\n",
       "    </tr>\n",
       "    <tr>\n",
       "      <th>98</th>\n",
       "      <td>100004.0</td>\n",
       "      <td>panel weight pound</td>\n",
       "      <td>40</td>\n",
       "    </tr>\n",
       "    <tr>\n",
       "      <th>99</th>\n",
       "      <td>100004.0</td>\n",
       "      <td>panel width inch</td>\n",
       "      <td>39</td>\n",
       "    </tr>\n",
       "    <tr>\n",
       "      <th>101</th>\n",
       "      <td>100004.0</td>\n",
       "      <td>product depth inch</td>\n",
       "      <td>64 . 96</td>\n",
       "    </tr>\n",
       "    <tr>\n",
       "      <th>102</th>\n",
       "      <td>100004.0</td>\n",
       "      <td>product height inch</td>\n",
       "      <td>1 . 57</td>\n",
       "    </tr>\n",
       "    <tr>\n",
       "      <th>103</th>\n",
       "      <td>100004.0</td>\n",
       "      <td>product width inch</td>\n",
       "      <td>39</td>\n",
       "    </tr>\n",
       "    <tr>\n",
       "      <th>104</th>\n",
       "      <td>100004.0</td>\n",
       "      <td>solar panel type</td>\n",
       "      <td>polycrystalline silicon panel</td>\n",
       "    </tr>\n",
       "    <tr>\n",
       "      <th>105</th>\n",
       "      <td>100004.0</td>\n",
       "      <td>voltage volt</td>\n",
       "      <td>30 . 96</td>\n",
       "    </tr>\n",
       "    <tr>\n",
       "      <th>106</th>\n",
       "      <td>100004.0</td>\n",
       "      <td>wattage watt</td>\n",
       "      <td>265</td>\n",
       "    </tr>\n",
       "    <tr>\n",
       "      <th>107</th>\n",
       "      <td>100005.0</td>\n",
       "      <td>bath faucet type</td>\n",
       "      <td>combo tub and shower</td>\n",
       "    </tr>\n",
       "    <tr>\n",
       "      <th>109</th>\n",
       "      <td>100005.0</td>\n",
       "      <td>bullet 01</td>\n",
       "      <td>includes the trim kit only the rough in kit r ...</td>\n",
       "    </tr>\n",
       "    <tr>\n",
       "      <th>110</th>\n",
       "      <td>100005.0</td>\n",
       "      <td>bullet 02</td>\n",
       "      <td>includes the handle</td>\n",
       "    </tr>\n",
       "    <tr>\n",
       "      <th>111</th>\n",
       "      <td>100005.0</td>\n",
       "      <td>bullet 03</td>\n",
       "      <td>maintains a balanced pressure of hot and cold ...</td>\n",
       "    </tr>\n",
       "  </tbody>\n",
       "</table>\n",
       "<p>100 rows × 3 columns</p>\n",
       "</div>"
      ],
      "text/plain": [
       "     product_uid                     name  \\\n",
       "0       100001.0                bullet 01   \n",
       "1       100001.0                bullet 02   \n",
       "2       100001.0                bullet 03   \n",
       "3       100001.0                bullet 04   \n",
       "4       100001.0                bullet 05   \n",
       "5       100001.0                bullet 06   \n",
       "6       100001.0                bullet 07   \n",
       "7       100001.0                    gauge   \n",
       "8       100001.0                 material   \n",
       "9       100001.0           mfg brand name   \n",
       "10      100001.0          number of piece   \n",
       "11      100001.0       product depth inch   \n",
       "12      100001.0      product height inch   \n",
       "13      100001.0     product weight pound   \n",
       "14      100001.0       product width inch   \n",
       "15      100002.0       application method   \n",
       "16      100002.0     assembled depth inch   \n",
       "17      100002.0    assembled height inch   \n",
       "18      100002.0     assembled width inch   \n",
       "19      100002.0                bullet 01   \n",
       "20      100002.0                bullet 02   \n",
       "21      100002.0                bullet 03   \n",
       "22      100002.0                bullet 04   \n",
       "23      100002.0                bullet 05   \n",
       "24      100002.0                bullet 06   \n",
       "25      100002.0                bullet 07   \n",
       "26      100002.0                bullet 08   \n",
       "27      100002.0                bullet 10   \n",
       "28      100002.0                bullet 18   \n",
       "29      100002.0                  cleanup   \n",
       "..           ...                      ...   \n",
       "76      100003.0           tub depth inch   \n",
       "77      100003.0          tub height inch   \n",
       "78      100003.0          tub length inch   \n",
       "79      100003.0           tub width inch   \n",
       "80      100003.0         wall height inch   \n",
       "81      100003.0    water capacity gallon   \n",
       "82      100004.0             amperage amp   \n",
       "83      100004.0                bullet 01   \n",
       "84      100004.0                bullet 02   \n",
       "85      100004.0                bullet 03   \n",
       "86      100004.0                bullet 04   \n",
       "87      100004.0                bullet 05   \n",
       "88      100004.0                bullet 06   \n",
       "90      100004.0  electrical product type   \n",
       "93      100004.0           mfg brand name   \n",
       "95      100004.0          number of panel   \n",
       "96      100004.0        panel height inch   \n",
       "97      100004.0        panel length inch   \n",
       "98      100004.0       panel weight pound   \n",
       "99      100004.0         panel width inch   \n",
       "101     100004.0       product depth inch   \n",
       "102     100004.0      product height inch   \n",
       "103     100004.0       product width inch   \n",
       "104     100004.0         solar panel type   \n",
       "105     100004.0             voltage volt   \n",
       "106     100004.0             wattage watt   \n",
       "107     100005.0         bath faucet type   \n",
       "109     100005.0                bullet 01   \n",
       "110     100005.0                bullet 02   \n",
       "111     100005.0                bullet 03   \n",
       "\n",
       "                                                 value  \n",
       "0    versatile connector for various 90 â° connecti...  \n",
       "1    stronger than angled nailing or screw fastenin...  \n",
       "2    help ensure joint are consistently straight an...  \n",
       "3           dimensions: 3 inch x 3 inch x 1 1 / 2 inch  \n",
       "4                             made from 12 gauge steel  \n",
       "5            galvanized for extra corrosion resistance  \n",
       "6    install with 10 d common nail or 9 x 1 1 / 2 i...  \n",
       "7                                                   12  \n",
       "8                                     galvanized steel  \n",
       "9                                   simpson strong tie  \n",
       "10                                                   1  \n",
       "11                                               1 . 5  \n",
       "12                                                   3  \n",
       "13                                              0 . 26  \n",
       "14                                                   3  \n",
       "15                                  brush roller spray  \n",
       "16                                           6 . 63 in  \n",
       "17                                           7 . 76 in  \n",
       "18                                           6 . 63 in  \n",
       "19   revives wood and composite deck railing porch ...  \n",
       "20                   100 % acrylic solid color coating  \n",
       "21   resists cracking and peeling and conceals spli...  \n",
       "22          provides a durable mildew resistant finish  \n",
       "23         cover up to 75 sq foot in 2 coat per gallon  \n",
       "24            creates a textured slip resistant finish  \n",
       "25   for best result prepare with the appropriate b...  \n",
       "26   actual paint color may vary from on screen and...  \n",
       "27          color available to be tinted in most store  \n",
       "28   online price includes paint care fee in the fo...  \n",
       "29                                      soap and water  \n",
       "..                                                 ...  \n",
       "76                                                  20  \n",
       "77                                                  18  \n",
       "78                                                  60  \n",
       "79                                             33 . 25  \n",
       "80                                                  54  \n",
       "81                                                  55  \n",
       "82                                              8 . 56  \n",
       "83                positive power tolerance 0 to 5 watt  \n",
       "84   anti reflective and anti soiling surface reduc...  \n",
       "85   outstanding performance in low light irradianc...  \n",
       "86      certified to withstand high wind and snow load  \n",
       "87   100 % electroluminescence inspection ensures m...  \n",
       "88   positive and negative lead quipped with mc 4 c...  \n",
       "90                                   solar power panel  \n",
       "93                                         grape solar  \n",
       "95                                                   4  \n",
       "96                                              1 . 57  \n",
       "97                                             64 . 96  \n",
       "98                                                  40  \n",
       "99                                                  39  \n",
       "101                                            64 . 96  \n",
       "102                                             1 . 57  \n",
       "103                                                 39  \n",
       "104                      polycrystalline silicon panel  \n",
       "105                                            30 . 96  \n",
       "106                                                265  \n",
       "107                               combo tub and shower  \n",
       "109  includes the trim kit only the rough in kit r ...  \n",
       "110                                includes the handle  \n",
       "111  maintains a balanced pressure of hot and cold ...  \n",
       "\n",
       "[100 rows x 3 columns]"
      ]
     },
     "metadata": {},
     "output_type": "display_data"
    },
    {
     "data": {
      "text/plain": [
       "(1906911, 3)"
      ]
     },
     "metadata": {},
     "output_type": "display_data"
    }
   ],
   "source": [
    "#prep_attr = prep_attr[prep_attr.value.str[0:2] != 'no']\n",
    "#prep_attr.to_csv(preprocessed_data_path + \"attributes.csv\", index=False) \n",
    "#display(prep_attr.head(100), prep_attr.shape)"
   ]
  },
  {
   "cell_type": "code",
   "execution_count": 16,
   "metadata": {
    "ExecuteTime": {
     "end_time": "2019-07-25T10:04:10.532197Z",
     "start_time": "2019-07-25T10:04:10.461119Z"
    },
    "hidden": true
   },
   "outputs": [
    {
     "data": {
      "text/plain": [
       "115"
      ]
     },
     "execution_count": 16,
     "metadata": {},
     "output_type": "execute_result"
    }
   ],
   "source": [
    "import gc\n",
    "gc.collect()"
   ]
  },
  {
   "cell_type": "code",
   "execution_count": 64,
   "metadata": {
    "ExecuteTime": {
     "end_time": "2019-07-25T09:46:20.627968Z",
     "start_time": "2019-07-25T09:46:20.624647Z"
    },
    "hidden": true
   },
   "outputs": [],
   "source": [
    " "
   ]
  },
  {
   "cell_type": "markdown",
   "metadata": {},
   "source": [
    "# HELPERS"
   ]
  },
  {
   "cell_type": "code",
   "execution_count": 5,
   "metadata": {
    "ExecuteTime": {
     "end_time": "2019-08-20T08:05:45.837430Z",
     "start_time": "2019-08-20T08:05:45.833672Z"
    }
   },
   "outputs": [],
   "source": [
    "# LONGEST COMMON SUBSTRING\n",
    "def longest_common_substring(m, n):\n",
    "    seqMatch = SequenceMatcher(None, m, n)\n",
    "    match = seqMatch.find_longest_match(0, len(m), 0, len(n))\n",
    "    return m[match.a: match.a + match.size]"
   ]
  },
  {
   "cell_type": "code",
   "execution_count": 6,
   "metadata": {
    "ExecuteTime": {
     "end_time": "2019-08-20T08:05:46.438024Z",
     "start_time": "2019-08-20T08:05:46.432275Z"
    }
   },
   "outputs": [],
   "source": [
    "from multiprocessing import Pool\n",
    "from functools import partial\n",
    "\n",
    "\n",
    "def parallelize(data, func, num_of_processes=8):\n",
    "    data_split = np.array_split(data, num_of_processes)\n",
    "    pool = Pool(num_of_processes)\n",
    "    data = pd.concat(pool.map(func, data_split))\n",
    "    pool.close()\n",
    "    pool.join()\n",
    "    return data\n"
   ]
  },
  {
   "cell_type": "markdown",
   "metadata": {},
   "source": [
    "# LOAD PREPROCESSED DATA"
   ]
  },
  {
   "cell_type": "code",
   "execution_count": 9,
   "metadata": {
    "ExecuteTime": {
     "end_time": "2019-08-20T08:06:01.421364Z",
     "start_time": "2019-08-20T08:05:57.060885Z"
    },
    "scrolled": true
   },
   "outputs": [
    {
     "data": {
      "text/plain": [
       "'Train:'"
      ]
     },
     "metadata": {},
     "output_type": "display_data"
    },
    {
     "data": {
      "text/html": [
       "<div>\n",
       "<style scoped>\n",
       "    .dataframe tbody tr th:only-of-type {\n",
       "        vertical-align: middle;\n",
       "    }\n",
       "\n",
       "    .dataframe tbody tr th {\n",
       "        vertical-align: top;\n",
       "    }\n",
       "\n",
       "    .dataframe thead th {\n",
       "        text-align: right;\n",
       "    }\n",
       "</style>\n",
       "<table border=\"1\" class=\"dataframe\">\n",
       "  <thead>\n",
       "    <tr style=\"text-align: right;\">\n",
       "      <th></th>\n",
       "      <th>id</th>\n",
       "      <th>product_uid</th>\n",
       "      <th>product_title</th>\n",
       "      <th>search_term</th>\n",
       "      <th>relevance</th>\n",
       "    </tr>\n",
       "  </thead>\n",
       "  <tbody>\n",
       "    <tr>\n",
       "      <th>0</th>\n",
       "      <td>2</td>\n",
       "      <td>100001</td>\n",
       "      <td>simpson strong tie 12 gaug angl</td>\n",
       "      <td>angl bracket</td>\n",
       "      <td>3.00</td>\n",
       "    </tr>\n",
       "    <tr>\n",
       "      <th>1</th>\n",
       "      <td>3</td>\n",
       "      <td>100001</td>\n",
       "      <td>simpson strong tie 12 gaug angl</td>\n",
       "      <td>l bracket</td>\n",
       "      <td>2.50</td>\n",
       "    </tr>\n",
       "    <tr>\n",
       "      <th>2</th>\n",
       "      <td>9</td>\n",
       "      <td>100002</td>\n",
       "      <td>behr premium textur deck over 1 _gal sc 141 tu...</td>\n",
       "      <td>deck over</td>\n",
       "      <td>3.00</td>\n",
       "    </tr>\n",
       "    <tr>\n",
       "      <th>3</th>\n",
       "      <td>16</td>\n",
       "      <td>100005</td>\n",
       "      <td>delta vero 1 handl shower onli faucet trim kit...</td>\n",
       "      <td>rain shower head</td>\n",
       "      <td>2.33</td>\n",
       "    </tr>\n",
       "    <tr>\n",
       "      <th>4</th>\n",
       "      <td>17</td>\n",
       "      <td>100005</td>\n",
       "      <td>delta vero 1 handl shower onli faucet trim kit...</td>\n",
       "      <td>shower onli faucet</td>\n",
       "      <td>2.67</td>\n",
       "    </tr>\n",
       "    <tr>\n",
       "      <th>5</th>\n",
       "      <td>18</td>\n",
       "      <td>100006</td>\n",
       "      <td>whirlpool 1 . 9 _cu _ft over the rang convect ...</td>\n",
       "      <td>convect otr</td>\n",
       "      <td>3.00</td>\n",
       "    </tr>\n",
       "    <tr>\n",
       "      <th>6</th>\n",
       "      <td>20</td>\n",
       "      <td>100006</td>\n",
       "      <td>whirlpool 1 . 9 _cu _ft over the rang convect ...</td>\n",
       "      <td>microwav over stove</td>\n",
       "      <td>2.67</td>\n",
       "    </tr>\n",
       "    <tr>\n",
       "      <th>7</th>\n",
       "      <td>21</td>\n",
       "      <td>100006</td>\n",
       "      <td>whirlpool 1 . 9 _cu _ft over the rang convect ...</td>\n",
       "      <td>microwav</td>\n",
       "      <td>3.00</td>\n",
       "    </tr>\n",
       "    <tr>\n",
       "      <th>8</th>\n",
       "      <td>23</td>\n",
       "      <td>100007</td>\n",
       "      <td>lithonia light quantum 2 light black led emerg...</td>\n",
       "      <td>emerg light</td>\n",
       "      <td>2.67</td>\n",
       "    </tr>\n",
       "    <tr>\n",
       "      <th>9</th>\n",
       "      <td>27</td>\n",
       "      <td>100009</td>\n",
       "      <td>hous of fara 3 / 4 _in x 3 _in x 8 _ft mdf flu...</td>\n",
       "      <td>mdf 3 / 4</td>\n",
       "      <td>3.00</td>\n",
       "    </tr>\n",
       "  </tbody>\n",
       "</table>\n",
       "</div>"
      ],
      "text/plain": [
       "   id  product_uid                                      product_title          search_term  relevance\n",
       "0   2       100001                    simpson strong tie 12 gaug angl         angl bracket       3.00\n",
       "1   3       100001                    simpson strong tie 12 gaug angl            l bracket       2.50\n",
       "2   9       100002  behr premium textur deck over 1 _gal sc 141 tu...            deck over       3.00\n",
       "3  16       100005  delta vero 1 handl shower onli faucet trim kit...     rain shower head       2.33\n",
       "4  17       100005  delta vero 1 handl shower onli faucet trim kit...   shower onli faucet       2.67\n",
       "5  18       100006  whirlpool 1 . 9 _cu _ft over the rang convect ...          convect otr       3.00\n",
       "6  20       100006  whirlpool 1 . 9 _cu _ft over the rang convect ...  microwav over stove       2.67\n",
       "7  21       100006  whirlpool 1 . 9 _cu _ft over the rang convect ...             microwav       3.00\n",
       "8  23       100007  lithonia light quantum 2 light black led emerg...          emerg light       2.67\n",
       "9  27       100009  hous of fara 3 / 4 _in x 3 _in x 8 _ft mdf flu...            mdf 3 / 4       3.00"
      ]
     },
     "metadata": {},
     "output_type": "display_data"
    },
    {
     "data": {
      "text/plain": [
       "(74067, 5)"
      ]
     },
     "metadata": {},
     "output_type": "display_data"
    },
    {
     "data": {
      "text/plain": [
       "'Attributes:'"
      ]
     },
     "metadata": {},
     "output_type": "display_data"
    },
    {
     "data": {
      "text/html": [
       "<div>\n",
       "<style scoped>\n",
       "    .dataframe tbody tr th:only-of-type {\n",
       "        vertical-align: middle;\n",
       "    }\n",
       "\n",
       "    .dataframe tbody tr th {\n",
       "        vertical-align: top;\n",
       "    }\n",
       "\n",
       "    .dataframe thead th {\n",
       "        text-align: right;\n",
       "    }\n",
       "</style>\n",
       "<table border=\"1\" class=\"dataframe\">\n",
       "  <thead>\n",
       "    <tr style=\"text-align: right;\">\n",
       "      <th></th>\n",
       "      <th>product_uid</th>\n",
       "      <th>name</th>\n",
       "      <th>value</th>\n",
       "    </tr>\n",
       "  </thead>\n",
       "  <tbody>\n",
       "    <tr>\n",
       "      <th>0</th>\n",
       "      <td>100001.0</td>\n",
       "      <td>bullet 01</td>\n",
       "      <td>versatil connector for variou 90 Ã¢Â° connect ...</td>\n",
       "    </tr>\n",
       "    <tr>\n",
       "      <th>1</th>\n",
       "      <td>100001.0</td>\n",
       "      <td>bullet 02</td>\n",
       "      <td>stronger than angl nail or screw fasten alon</td>\n",
       "    </tr>\n",
       "    <tr>\n",
       "      <th>2</th>\n",
       "      <td>100001.0</td>\n",
       "      <td>bullet 03</td>\n",
       "      <td>help ensur joint are consist straight and strong</td>\n",
       "    </tr>\n",
       "    <tr>\n",
       "      <th>3</th>\n",
       "      <td>100001.0</td>\n",
       "      <td>bullet 04</td>\n",
       "      <td>dimens : 3 _in x 3 _in x 1 1 / 2 _in</td>\n",
       "    </tr>\n",
       "    <tr>\n",
       "      <th>4</th>\n",
       "      <td>100001.0</td>\n",
       "      <td>bullet 05</td>\n",
       "      <td>made from 12 gaug steel</td>\n",
       "    </tr>\n",
       "  </tbody>\n",
       "</table>\n",
       "</div>"
      ],
      "text/plain": [
       "   product_uid       name                                              value\n",
       "0     100001.0  bullet 01  versatil connector for variou 90 Ã¢Â° connect ...\n",
       "1     100001.0  bullet 02       stronger than angl nail or screw fasten alon\n",
       "2     100001.0  bullet 03   help ensur joint are consist straight and strong\n",
       "3     100001.0  bullet 04               dimens : 3 _in x 3 _in x 1 1 / 2 _in\n",
       "4     100001.0  bullet 05                            made from 12 gaug steel"
      ]
     },
     "metadata": {},
     "output_type": "display_data"
    },
    {
     "data": {
      "text/plain": [
       "(1906911, 3)"
      ]
     },
     "metadata": {},
     "output_type": "display_data"
    },
    {
     "data": {
      "text/plain": [
       "'Product descriptions:'"
      ]
     },
     "metadata": {},
     "output_type": "display_data"
    },
    {
     "data": {
      "text/html": [
       "<div>\n",
       "<style scoped>\n",
       "    .dataframe tbody tr th:only-of-type {\n",
       "        vertical-align: middle;\n",
       "    }\n",
       "\n",
       "    .dataframe tbody tr th {\n",
       "        vertical-align: top;\n",
       "    }\n",
       "\n",
       "    .dataframe thead th {\n",
       "        text-align: right;\n",
       "    }\n",
       "</style>\n",
       "<table border=\"1\" class=\"dataframe\">\n",
       "  <thead>\n",
       "    <tr style=\"text-align: right;\">\n",
       "      <th></th>\n",
       "      <th>product_uid</th>\n",
       "      <th>product_description</th>\n",
       "    </tr>\n",
       "  </thead>\n",
       "  <tbody>\n",
       "    <tr>\n",
       "      <th>0</th>\n",
       "      <td>100001</td>\n",
       "      <td>angl make joint stronger also provid consist s...</td>\n",
       "    </tr>\n",
       "    <tr>\n",
       "      <th>1</th>\n",
       "      <td>100002</td>\n",
       "      <td>behr premium textur deckov innov solid color c...</td>\n",
       "    </tr>\n",
       "    <tr>\n",
       "      <th>2</th>\n",
       "      <td>100003</td>\n",
       "      <td>classic architectur meet contemporari design e...</td>\n",
       "    </tr>\n",
       "    <tr>\n",
       "      <th>3</th>\n",
       "      <td>100004</td>\n",
       "      <td>grape solar 265 watt polycrystallin pv solar p...</td>\n",
       "    </tr>\n",
       "    <tr>\n",
       "      <th>4</th>\n",
       "      <td>100005</td>\n",
       "      <td>updat bathroom delta vero singl handl shower f...</td>\n",
       "    </tr>\n",
       "  </tbody>\n",
       "</table>\n",
       "</div>"
      ],
      "text/plain": [
       "   product_uid                                product_description\n",
       "0       100001  angl make joint stronger also provid consist s...\n",
       "1       100002  behr premium textur deckov innov solid color c...\n",
       "2       100003  classic architectur meet contemporari design e...\n",
       "3       100004  grape solar 265 watt polycrystallin pv solar p...\n",
       "4       100005  updat bathroom delta vero singl handl shower f..."
      ]
     },
     "metadata": {},
     "output_type": "display_data"
    },
    {
     "data": {
      "text/plain": [
       "(124428, 2)"
      ]
     },
     "metadata": {},
     "output_type": "display_data"
    }
   ],
   "source": [
    "prep_train = pd.read_csv(preprocessed_data_path +\n",
    "                    \"train.csv\", encoding=\"ISO-8859-1\")\n",
    "prep_attributes = pd.read_csv(\n",
    "    preprocessed_data_path + \"attributes.csv\", encoding=\"ISO-8859-1\")\n",
    "prep_descriptions = pd.read_csv(\n",
    "    preprocessed_data_path + \"product_descriptions.csv\", encoding=\"ISO-8859-1\")\n",
    "\n",
    "display(\"Train:\", prep_train.head(10), prep_train.shape)\n",
    "display(\"Attributes:\", prep_attributes.head(), prep_attributes.shape)\n",
    "display(\"Product descriptions:\", prep_descriptions.head(), prep_descriptions.shape)"
   ]
  },
  {
   "cell_type": "markdown",
   "metadata": {},
   "source": [
    "# FEATURE ENGINEERING"
   ]
  },
  {
   "cell_type": "markdown",
   "metadata": {
    "heading_collapsed": true
   },
   "source": [
    "## Plan for feature engineering\n",
    "1. Merge attributes by uid\n",
    "1. Create new dataset, that comprises:\n",
    "    * Train\n",
    "    * Merged attributes\n",
    "    * Product descriptions\n",
    "1. Create new bool feature: 1 when `train['product_title']` has same `*number* inch/feet x *number* inch/feet`  with `train['search_term']` (will also try lcs with it)\n",
    "1. Create new bool feature: 1 when `train['product_title']` and `train['search_term']` have common number `*digit* [./] *digit*`\n",
    "1. Create new int feature: Popularity for each product\n",
    "1. Create new features: brand, brand popularity and color\n",
    "1. Create new features - edit/jaccard distance, \n",
    "1. Length of title, attributes, descriptions, brand\n",
    "1. Tokenize and vectorize each text feature\n"
   ]
  },
  {
   "cell_type": "markdown",
   "metadata": {},
   "source": [
    "## Merge attributes by its product"
   ]
  },
  {
   "cell_type": "code",
   "execution_count": 10,
   "metadata": {
    "ExecuteTime": {
     "end_time": "2019-08-20T09:33:41.139495Z",
     "start_time": "2019-08-20T09:32:08.343035Z"
    },
    "scrolled": false
   },
   "outputs": [
    {
     "data": {
      "text/html": [
       "<div>\n",
       "<style scoped>\n",
       "    .dataframe tbody tr th:only-of-type {\n",
       "        vertical-align: middle;\n",
       "    }\n",
       "\n",
       "    .dataframe tbody tr th {\n",
       "        vertical-align: top;\n",
       "    }\n",
       "\n",
       "    .dataframe thead th {\n",
       "        text-align: right;\n",
       "    }\n",
       "</style>\n",
       "<table border=\"1\" class=\"dataframe\">\n",
       "  <thead>\n",
       "    <tr style=\"text-align: right;\">\n",
       "      <th></th>\n",
       "      <th>product_uid</th>\n",
       "      <th>value</th>\n",
       "    </tr>\n",
       "  </thead>\n",
       "  <tbody>\n",
       "    <tr>\n",
       "      <th>0</th>\n",
       "      <td>100001.0</td>\n",
       "      <td>versatil connector for variou 90 Ã¢Â° connect ...</td>\n",
       "    </tr>\n",
       "    <tr>\n",
       "      <th>1</th>\n",
       "      <td>100002.0</td>\n",
       "      <td>applic method brush roller spray assembl depth...</td>\n",
       "    </tr>\n",
       "    <tr>\n",
       "      <th>2</th>\n",
       "      <td>100003.0</td>\n",
       "      <td>built in flang ye slightli narrow for tighter ...</td>\n",
       "    </tr>\n",
       "    <tr>\n",
       "      <th>3</th>\n",
       "      <td>100004.0</td>\n",
       "      <td>amperag amp 8 . 56 posit power toler 0 to 5 wa...</td>\n",
       "    </tr>\n",
       "    <tr>\n",
       "      <th>4</th>\n",
       "      <td>100005.0</td>\n",
       "      <td>bath faucet type combo tub and shower includ t...</td>\n",
       "    </tr>\n",
       "    <tr>\n",
       "      <th>5</th>\n",
       "      <td>100006.0</td>\n",
       "      <td>applianc type over the rang microwav assembl d...</td>\n",
       "    </tr>\n",
       "    <tr>\n",
       "      <th>6</th>\n",
       "      <td>100007.0</td>\n",
       "      <td>batteri power type ni cad batteri size .built ...</td>\n",
       "    </tr>\n",
       "    <tr>\n",
       "      <th>7</th>\n",
       "      <td>100008.0</td>\n",
       "      <td>assembl depth _in . 375 in assembl height _in ...</td>\n",
       "    </tr>\n",
       "    <tr>\n",
       "      <th>8</th>\n",
       "      <td>100009.0</td>\n",
       "      <td>applic door window made of prime mdf can be pa...</td>\n",
       "    </tr>\n",
       "    <tr>\n",
       "      <th>9</th>\n",
       "      <td>100010.0</td>\n",
       "      <td>can be use with all valley view lawn edg and b...</td>\n",
       "    </tr>\n",
       "  </tbody>\n",
       "</table>\n",
       "</div>"
      ],
      "text/plain": [
       "   product_uid                                              value\n",
       "0     100001.0  versatil connector for variou 90 Ã¢Â° connect ...\n",
       "1     100002.0  applic method brush roller spray assembl depth...\n",
       "2     100003.0  built in flang ye slightli narrow for tighter ...\n",
       "3     100004.0  amperag amp 8 . 56 posit power toler 0 to 5 wa...\n",
       "4     100005.0  bath faucet type combo tub and shower includ t...\n",
       "5     100006.0  applianc type over the rang microwav assembl d...\n",
       "6     100007.0  batteri power type ni cad batteri size .built ...\n",
       "7     100008.0  assembl depth _in . 375 in assembl height _in ...\n",
       "8     100009.0  applic door window made of prime mdf can be pa...\n",
       "9     100010.0  can be use with all valley view lawn edg and b..."
      ]
     },
     "metadata": {},
     "output_type": "display_data"
    }
   ],
   "source": [
    "# join attributes\n",
    "prep_attributes.columns = ['product_uid', 'name', 'value'] \n",
    "prep_attributes.sort_values(by=['product_uid'], inplace=True)\n",
    "\n",
    "dataset = []\n",
    "prev_uid = None\n",
    "result_attr = ''\n",
    "for i in range(prep_attributes.shape[0]):\n",
    "\n",
    "    cur_uid = prep_attributes['product_uid'][i]\n",
    "    name = prep_attributes['name'][i]\n",
    "    value = prep_attributes['value'][i]\n",
    "    \n",
    "    if prev_uid is not None:\n",
    "        if prev_uid != cur_uid:\n",
    "            dataset.append([prev_uid, result_attr.strip()])\n",
    "            result_attr = ''\n",
    "    \n",
    "    if not 'bullet' in name:\n",
    "        result_attr += name + ' '\n",
    "    result_attr += value + ' '\n",
    "    \n",
    "    prev_uid = cur_uid\n",
    "    \n",
    "if result_attr is not '':\n",
    "    dataset.append([cur_uid, result_attr.strip()])\n",
    "    \n",
    "merged_attributes = pd.DataFrame(dataset, columns=['product_uid', 'value'])\n",
    "merged_attributes.to_csv(preprocessed_data_path + \"merged_attributes.csv\") \n",
    "display(merged_attributes.head(10))"
   ]
  },
  {
   "cell_type": "code",
   "execution_count": 11,
   "metadata": {
    "ExecuteTime": {
     "end_time": "2019-08-20T11:24:23.926184Z",
     "start_time": "2019-08-20T11:24:23.898165Z"
    },
    "scrolled": false
   },
   "outputs": [
    {
     "data": {
      "text/html": [
       "<div>\n",
       "<style scoped>\n",
       "    .dataframe tbody tr th:only-of-type {\n",
       "        vertical-align: middle;\n",
       "    }\n",
       "\n",
       "    .dataframe tbody tr th {\n",
       "        vertical-align: top;\n",
       "    }\n",
       "\n",
       "    .dataframe thead th {\n",
       "        text-align: right;\n",
       "    }\n",
       "</style>\n",
       "<table border=\"1\" class=\"dataframe\">\n",
       "  <thead>\n",
       "    <tr style=\"text-align: right;\">\n",
       "      <th></th>\n",
       "      <th>value</th>\n",
       "    </tr>\n",
       "    <tr>\n",
       "      <th>product_uid</th>\n",
       "      <th></th>\n",
       "    </tr>\n",
       "  </thead>\n",
       "  <tbody>\n",
       "    <tr>\n",
       "      <th>100001</th>\n",
       "      <td>versatil connector for variou 90 Ã¢Â° connect ...</td>\n",
       "    </tr>\n",
       "    <tr>\n",
       "      <th>100002</th>\n",
       "      <td>applic method brush roller spray assembl depth...</td>\n",
       "    </tr>\n",
       "  </tbody>\n",
       "</table>\n",
       "</div>"
      ],
      "text/plain": [
       "                                                         value\n",
       "product_uid                                                   \n",
       "100001       versatil connector for variou 90 Ã¢Â° connect ...\n",
       "100002       applic method brush roller spray assembl depth..."
      ]
     },
     "metadata": {},
     "output_type": "display_data"
    },
    {
     "data": {
      "text/html": [
       "<div>\n",
       "<style scoped>\n",
       "    .dataframe tbody tr th:only-of-type {\n",
       "        vertical-align: middle;\n",
       "    }\n",
       "\n",
       "    .dataframe tbody tr th {\n",
       "        vertical-align: top;\n",
       "    }\n",
       "\n",
       "    .dataframe thead th {\n",
       "        text-align: right;\n",
       "    }\n",
       "</style>\n",
       "<table border=\"1\" class=\"dataframe\">\n",
       "  <thead>\n",
       "    <tr style=\"text-align: right;\">\n",
       "      <th></th>\n",
       "      <th>product_description</th>\n",
       "    </tr>\n",
       "    <tr>\n",
       "      <th>product_uid</th>\n",
       "      <th></th>\n",
       "    </tr>\n",
       "  </thead>\n",
       "  <tbody>\n",
       "    <tr>\n",
       "      <th>100001</th>\n",
       "      <td>angl make joint stronger also provid consist s...</td>\n",
       "    </tr>\n",
       "    <tr>\n",
       "      <th>100002</th>\n",
       "      <td>behr premium textur deckov innov solid color c...</td>\n",
       "    </tr>\n",
       "  </tbody>\n",
       "</table>\n",
       "</div>"
      ],
      "text/plain": [
       "                                           product_description\n",
       "product_uid                                                   \n",
       "100001       angl make joint stronger also provid consist s...\n",
       "100002       behr premium textur deckov innov solid color c..."
      ]
     },
     "metadata": {},
     "output_type": "display_data"
    }
   ],
   "source": [
    "# set indicies\n",
    "merged_attributes = merged_attributes.set_index('product_uid')\n",
    "merged_attributes.index = merged_attributes.index.astype(int)\n",
    "prep_descriptions = prep_descriptions.set_index('product_uid')\n",
    "display(merged_attributes.head(2))\n",
    "display(prep_descriptions.head(2))"
   ]
  },
  {
   "cell_type": "markdown",
   "metadata": {},
   "source": [
    "## Popularity score"
   ]
  },
  {
   "cell_type": "code",
   "execution_count": 12,
   "metadata": {
    "ExecuteTime": {
     "end_time": "2019-08-20T11:24:34.026161Z",
     "start_time": "2019-08-20T11:24:29.188827Z"
    }
   },
   "outputs": [],
   "source": [
    "unique, counts = np.unique(prep_train['product_uid'].values, return_counts=True)\n",
    "\n",
    "popularity = pd.DataFrame([unique, counts]).transpose()\n",
    "popularity.columns = columns=['prod_uid', 'count']\n",
    "popularity = popularity.set_index('prod_uid')\n",
    "popularity['count'] = popularity['count'].apply(lambda x: 3 if x > 2 else x)"
   ]
  },
  {
   "cell_type": "code",
   "execution_count": 13,
   "metadata": {
    "ExecuteTime": {
     "end_time": "2019-08-20T11:24:35.019607Z",
     "start_time": "2019-08-20T11:24:34.984071Z"
    },
    "scrolled": true
   },
   "outputs": [
    {
     "data": {
      "text/plain": [
       "1    42765\n",
       "2     7824\n",
       "3     4078\n",
       "Name: count, dtype: int64"
      ]
     },
     "execution_count": 13,
     "metadata": {},
     "output_type": "execute_result"
    }
   ],
   "source": [
    "popularity['count'].value_counts()"
   ]
  },
  {
   "cell_type": "markdown",
   "metadata": {},
   "source": [
    "## Create new features: brand and color"
   ]
  },
  {
   "cell_type": "code",
   "execution_count": 14,
   "metadata": {
    "ExecuteTime": {
     "end_time": "2019-08-20T11:24:44.595940Z",
     "start_time": "2019-08-20T11:24:43.705805Z"
    }
   },
   "outputs": [
    {
     "data": {
      "text/plain": [
       "mfg brand name        85943\n",
       "product width _in     61137\n",
       "product height _in    54698\n",
       "product depth _in     53652\n",
       "product weight _lb    45175\n",
       "color famili          41508\n",
       "materi                31617\n",
       "color/ finish         28507\n",
       "assembl height _in    18299\n",
       "assembl width _in     18263\n",
       "Name: name, dtype: int64"
      ]
     },
     "execution_count": 14,
     "metadata": {},
     "output_type": "execute_result"
    }
   ],
   "source": [
    "prep_attributes['name'][~prep_attributes['name'].str.contains('bullet', na=False)].value_counts().head(10)"
   ]
  },
  {
   "cell_type": "code",
   "execution_count": 15,
   "metadata": {
    "ExecuteTime": {
     "end_time": "2019-08-20T11:24:46.849896Z",
     "start_time": "2019-08-20T11:24:46.629269Z"
    }
   },
   "outputs": [
    {
     "data": {
      "text/html": [
       "<div>\n",
       "<style scoped>\n",
       "    .dataframe tbody tr th:only-of-type {\n",
       "        vertical-align: middle;\n",
       "    }\n",
       "\n",
       "    .dataframe tbody tr th {\n",
       "        vertical-align: top;\n",
       "    }\n",
       "\n",
       "    .dataframe thead th {\n",
       "        text-align: right;\n",
       "    }\n",
       "</style>\n",
       "<table border=\"1\" class=\"dataframe\">\n",
       "  <thead>\n",
       "    <tr style=\"text-align: right;\">\n",
       "      <th></th>\n",
       "      <th>value</th>\n",
       "    </tr>\n",
       "    <tr>\n",
       "      <th>product_uid</th>\n",
       "      <th></th>\n",
       "    </tr>\n",
       "  </thead>\n",
       "  <tbody>\n",
       "    <tr>\n",
       "      <th>100001</th>\n",
       "      <td>simpson strong tie</td>\n",
       "    </tr>\n",
       "    <tr>\n",
       "      <th>100002</th>\n",
       "      <td>behr premium textur deck over</td>\n",
       "    </tr>\n",
       "    <tr>\n",
       "      <th>100003</th>\n",
       "      <td>sterl</td>\n",
       "    </tr>\n",
       "    <tr>\n",
       "      <th>100004</th>\n",
       "      <td>grape solar</td>\n",
       "    </tr>\n",
       "    <tr>\n",
       "      <th>100005</th>\n",
       "      <td>delta</td>\n",
       "    </tr>\n",
       "  </tbody>\n",
       "</table>\n",
       "</div>"
      ],
      "text/plain": [
       "                                     value\n",
       "product_uid                               \n",
       "100001                  simpson strong tie\n",
       "100002       behr premium textur deck over\n",
       "100003                               sterl\n",
       "100004                         grape solar\n",
       "100005                               delta"
      ]
     },
     "metadata": {},
     "output_type": "display_data"
    }
   ],
   "source": [
    "# Brands\n",
    "brands = prep_attributes[prep_attributes['name'] == 'mfg brand name'][['product_uid', 'value']]\n",
    "brands = brands.set_index('product_uid')\n",
    "brands.index = brands.index.astype(int)\n",
    "display(brands.head())"
   ]
  },
  {
   "cell_type": "code",
   "execution_count": 17,
   "metadata": {
    "ExecuteTime": {
     "end_time": "2019-08-20T11:25:03.262093Z",
     "start_time": "2019-08-20T11:25:03.240496Z"
    }
   },
   "outputs": [],
   "source": [
    "brands_popularity = brands['value'].value_counts().to_dict()"
   ]
  },
  {
   "cell_type": "code",
   "execution_count": 16,
   "metadata": {
    "ExecuteTime": {
     "end_time": "2019-08-20T11:25:02.215471Z",
     "start_time": "2019-08-20T11:24:53.747521Z"
    }
   },
   "outputs": [
    {
     "data": {
      "text/html": [
       "<div>\n",
       "<style scoped>\n",
       "    .dataframe tbody tr th:only-of-type {\n",
       "        vertical-align: middle;\n",
       "    }\n",
       "\n",
       "    .dataframe tbody tr th {\n",
       "        vertical-align: top;\n",
       "    }\n",
       "\n",
       "    .dataframe thead th {\n",
       "        text-align: right;\n",
       "    }\n",
       "</style>\n",
       "<table border=\"1\" class=\"dataframe\">\n",
       "  <thead>\n",
       "    <tr style=\"text-align: right;\">\n",
       "      <th></th>\n",
       "      <th>value</th>\n",
       "    </tr>\n",
       "    <tr>\n",
       "      <th>product_uid</th>\n",
       "      <th></th>\n",
       "    </tr>\n",
       "  </thead>\n",
       "  <tbody>\n",
       "    <tr>\n",
       "      <th>100002</th>\n",
       "      <td>tugboat brown  tan</td>\n",
       "    </tr>\n",
       "    <tr>\n",
       "      <th>100003</th>\n",
       "      <td>white white</td>\n",
       "    </tr>\n",
       "    <tr>\n",
       "      <th>100005</th>\n",
       "      <td>chrome chrome</td>\n",
       "    </tr>\n",
       "    <tr>\n",
       "      <th>100006</th>\n",
       "      <td>stainless stainless steel</td>\n",
       "    </tr>\n",
       "    <tr>\n",
       "      <th>100007</th>\n",
       "      <td>black black</td>\n",
       "    </tr>\n",
       "    <tr>\n",
       "      <th>100009</th>\n",
       "      <td>white</td>\n",
       "    </tr>\n",
       "    <tr>\n",
       "      <th>100010</th>\n",
       "      <td>metal silver gray</td>\n",
       "    </tr>\n",
       "    <tr>\n",
       "      <th>100012</th>\n",
       "      <td>fruitwood tan caramel browns tan</td>\n",
       "    </tr>\n",
       "    <tr>\n",
       "      <th>100013</th>\n",
       "      <td>black black</td>\n",
       "    </tr>\n",
       "    <tr>\n",
       "      <th>100015</th>\n",
       "      <td>tan bamboo tan</td>\n",
       "    </tr>\n",
       "  </tbody>\n",
       "</table>\n",
       "</div>"
      ],
      "text/plain": [
       "                                        value\n",
       "product_uid                                  \n",
       "100002                     tugboat brown  tan\n",
       "100003                            white white\n",
       "100005                          chrome chrome\n",
       "100006              stainless stainless steel\n",
       "100007                            black black\n",
       "100009                                  white\n",
       "100010                      metal silver gray\n",
       "100012       fruitwood tan caramel browns tan\n",
       "100013                            black black\n",
       "100015                         tan bamboo tan"
      ]
     },
     "metadata": {},
     "output_type": "display_data"
    }
   ],
   "source": [
    "#colors\n",
    "colors = prep_attributes[prep_attributes['name'].str.contains('color')][['product_uid', 'value']]\n",
    "colors['product_uid'] = colors['product_uid'].astype(int)\n",
    "colors['value'] = colors['value'] + ' '\n",
    "#colors = brands.set_index('product_uid')\n",
    "colors = colors.groupby('product_uid').sum()\n",
    "colors['value'] = colors['value'].apply(str.strip).apply(lambda s: s.replace('/', '')) #govnocode, need custom aggregator\n",
    "display(colors.head(10))"
   ]
  },
  {
   "cell_type": "markdown",
   "metadata": {},
   "source": [
    "## Collect 3 datasets into one and engineer some features"
   ]
  },
  {
   "cell_type": "code",
   "execution_count": 18,
   "metadata": {
    "ExecuteTime": {
     "end_time": "2019-08-20T11:27:49.327449Z",
     "start_time": "2019-08-20T11:25:25.996076Z"
    },
    "scrolled": true
   },
   "outputs": [
    {
     "data": {
      "text/html": [
       "<div>\n",
       "<style scoped>\n",
       "    .dataframe tbody tr th:only-of-type {\n",
       "        vertical-align: middle;\n",
       "    }\n",
       "\n",
       "    .dataframe tbody tr th {\n",
       "        vertical-align: top;\n",
       "    }\n",
       "\n",
       "    .dataframe thead th {\n",
       "        text-align: right;\n",
       "    }\n",
       "</style>\n",
       "<table border=\"1\" class=\"dataframe\">\n",
       "  <thead>\n",
       "    <tr style=\"text-align: right;\">\n",
       "      <th></th>\n",
       "      <th>prod_uid</th>\n",
       "      <th>title</th>\n",
       "      <th>search_term</th>\n",
       "      <th>attributes</th>\n",
       "      <th>description</th>\n",
       "      <th>lcs</th>\n",
       "      <th>edit_dist</th>\n",
       "      <th>jacc_dist</th>\n",
       "      <th>title_search_proportion</th>\n",
       "      <th>title_len</th>\n",
       "      <th>search_len</th>\n",
       "      <th>description_len</th>\n",
       "      <th>brand_len</th>\n",
       "      <th>popularity</th>\n",
       "      <th>brand_popularity</th>\n",
       "      <th>brand_match</th>\n",
       "      <th>color_match</th>\n",
       "      <th>relevance</th>\n",
       "    </tr>\n",
       "  </thead>\n",
       "  <tbody>\n",
       "    <tr>\n",
       "      <th>0</th>\n",
       "      <td>100001</td>\n",
       "      <td>simpson strong tie 12 gaug angl</td>\n",
       "      <td>angl bracket</td>\n",
       "      <td>versatil connector for variou 90 Ã¢Â° connect ...</td>\n",
       "      <td>angl make joint stronger also provid consist s...</td>\n",
       "      <td>4</td>\n",
       "      <td>27</td>\n",
       "      <td>0.578947</td>\n",
       "      <td>3.000000</td>\n",
       "      <td>6</td>\n",
       "      <td>2</td>\n",
       "      <td>101</td>\n",
       "      <td>3</td>\n",
       "      <td>2</td>\n",
       "      <td>362</td>\n",
       "      <td>0</td>\n",
       "      <td>0</td>\n",
       "      <td>3.00</td>\n",
       "    </tr>\n",
       "    <tr>\n",
       "      <th>1</th>\n",
       "      <td>100001</td>\n",
       "      <td>simpson strong tie 12 gaug angl</td>\n",
       "      <td>l bracket</td>\n",
       "      <td>versatil connector for variou 90 Ã¢Â° connect ...</td>\n",
       "      <td>angl make joint stronger also provid consist s...</td>\n",
       "      <td>1</td>\n",
       "      <td>28</td>\n",
       "      <td>0.684211</td>\n",
       "      <td>3.000000</td>\n",
       "      <td>6</td>\n",
       "      <td>2</td>\n",
       "      <td>101</td>\n",
       "      <td>3</td>\n",
       "      <td>2</td>\n",
       "      <td>362</td>\n",
       "      <td>0</td>\n",
       "      <td>0</td>\n",
       "      <td>2.50</td>\n",
       "    </tr>\n",
       "    <tr>\n",
       "      <th>2</th>\n",
       "      <td>100002</td>\n",
       "      <td>behr premium textur deck over 1 _gal sc 141 tu...</td>\n",
       "      <td>deck over</td>\n",
       "      <td>applic method brush roller spray assembl depth...</td>\n",
       "      <td>behr premium textur deckov innov solid color c...</td>\n",
       "      <td>9</td>\n",
       "      <td>64</td>\n",
       "      <td>0.680000</td>\n",
       "      <td>7.000000</td>\n",
       "      <td>14</td>\n",
       "      <td>2</td>\n",
       "      <td>139</td>\n",
       "      <td>5</td>\n",
       "      <td>1</td>\n",
       "      <td>8</td>\n",
       "      <td>0</td>\n",
       "      <td>0</td>\n",
       "      <td>3.00</td>\n",
       "    </tr>\n",
       "    <tr>\n",
       "      <th>3</th>\n",
       "      <td>100005</td>\n",
       "      <td>delta vero 1 handl shower onli faucet trim kit...</td>\n",
       "      <td>rain shower head</td>\n",
       "      <td>bath faucet type combo tub and shower includ t...</td>\n",
       "      <td>updat bathroom delta vero singl handl shower f...</td>\n",
       "      <td>8</td>\n",
       "      <td>58</td>\n",
       "      <td>0.450000</td>\n",
       "      <td>4.666667</td>\n",
       "      <td>14</td>\n",
       "      <td>3</td>\n",
       "      <td>81</td>\n",
       "      <td>1</td>\n",
       "      <td>2</td>\n",
       "      <td>853</td>\n",
       "      <td>0</td>\n",
       "      <td>0</td>\n",
       "      <td>2.33</td>\n",
       "    </tr>\n",
       "    <tr>\n",
       "      <th>4</th>\n",
       "      <td>100005</td>\n",
       "      <td>delta vero 1 handl shower onli faucet trim kit...</td>\n",
       "      <td>shower onli faucet</td>\n",
       "      <td>bath faucet type combo tub and shower includ t...</td>\n",
       "      <td>updat bathroom delta vero singl handl shower f...</td>\n",
       "      <td>18</td>\n",
       "      <td>54</td>\n",
       "      <td>0.250000</td>\n",
       "      <td>4.666667</td>\n",
       "      <td>14</td>\n",
       "      <td>3</td>\n",
       "      <td>81</td>\n",
       "      <td>1</td>\n",
       "      <td>2</td>\n",
       "      <td>853</td>\n",
       "      <td>0</td>\n",
       "      <td>0</td>\n",
       "      <td>2.67</td>\n",
       "    </tr>\n",
       "    <tr>\n",
       "      <th>5</th>\n",
       "      <td>100006</td>\n",
       "      <td>whirlpool 1 . 9 _cu _ft over the rang convect ...</td>\n",
       "      <td>convect otr</td>\n",
       "      <td>applianc type over the rang microwav assembl d...</td>\n",
       "      <td>achiev delici result almost effortless whirlpo...</td>\n",
       "      <td>8</td>\n",
       "      <td>79</td>\n",
       "      <td>0.666667</td>\n",
       "      <td>8.500000</td>\n",
       "      <td>17</td>\n",
       "      <td>2</td>\n",
       "      <td>368</td>\n",
       "      <td>1</td>\n",
       "      <td>3</td>\n",
       "      <td>317</td>\n",
       "      <td>0</td>\n",
       "      <td>0</td>\n",
       "      <td>3.00</td>\n",
       "    </tr>\n",
       "    <tr>\n",
       "      <th>6</th>\n",
       "      <td>100006</td>\n",
       "      <td>whirlpool 1 . 9 _cu _ft over the rang convect ...</td>\n",
       "      <td>microwav over stove</td>\n",
       "      <td>applianc type over the rang microwav assembl d...</td>\n",
       "      <td>achiev delici result almost effortless whirlpo...</td>\n",
       "      <td>9</td>\n",
       "      <td>76</td>\n",
       "      <td>0.500000</td>\n",
       "      <td>5.666667</td>\n",
       "      <td>17</td>\n",
       "      <td>3</td>\n",
       "      <td>368</td>\n",
       "      <td>1</td>\n",
       "      <td>3</td>\n",
       "      <td>317</td>\n",
       "      <td>0</td>\n",
       "      <td>0</td>\n",
       "      <td>2.67</td>\n",
       "    </tr>\n",
       "    <tr>\n",
       "      <th>7</th>\n",
       "      <td>100006</td>\n",
       "      <td>whirlpool 1 . 9 _cu _ft over the rang convect ...</td>\n",
       "      <td>microwav</td>\n",
       "      <td>applianc type over the rang microwav assembl d...</td>\n",
       "      <td>achiev delici result almost effortless whirlpo...</td>\n",
       "      <td>8</td>\n",
       "      <td>82</td>\n",
       "      <td>0.666667</td>\n",
       "      <td>17.000000</td>\n",
       "      <td>17</td>\n",
       "      <td>1</td>\n",
       "      <td>368</td>\n",
       "      <td>1</td>\n",
       "      <td>3</td>\n",
       "      <td>317</td>\n",
       "      <td>0</td>\n",
       "      <td>0</td>\n",
       "      <td>3.00</td>\n",
       "    </tr>\n",
       "    <tr>\n",
       "      <th>8</th>\n",
       "      <td>100007</td>\n",
       "      <td>lithonia light quantum 2 light black led emerg...</td>\n",
       "      <td>emerg light</td>\n",
       "      <td>batteri power type ni cad batteri size .built ...</td>\n",
       "      <td>quantum adjust 2 light led black emerg light u...</td>\n",
       "      <td>6</td>\n",
       "      <td>50</td>\n",
       "      <td>0.571429</td>\n",
       "      <td>5.000000</td>\n",
       "      <td>10</td>\n",
       "      <td>2</td>\n",
       "      <td>106</td>\n",
       "      <td>2</td>\n",
       "      <td>1</td>\n",
       "      <td>397</td>\n",
       "      <td>0</td>\n",
       "      <td>0</td>\n",
       "      <td>2.67</td>\n",
       "    </tr>\n",
       "    <tr>\n",
       "      <th>9</th>\n",
       "      <td>100009</td>\n",
       "      <td>hous of fara 3 / 4 _in x 3 _in x 8 _ft mdf flu...</td>\n",
       "      <td>mdf 3 / 4</td>\n",
       "      <td>applic door window made of prime mdf can be pa...</td>\n",
       "      <td>get hous fara 3 / 4 _in x 3 _in x 8 _ft mdf fl...</td>\n",
       "      <td>6</td>\n",
       "      <td>46</td>\n",
       "      <td>0.681818</td>\n",
       "      <td>4.000000</td>\n",
       "      <td>16</td>\n",
       "      <td>4</td>\n",
       "      <td>63</td>\n",
       "      <td>3</td>\n",
       "      <td>1</td>\n",
       "      <td>130</td>\n",
       "      <td>0</td>\n",
       "      <td>0</td>\n",
       "      <td>3.00</td>\n",
       "    </tr>\n",
       "  </tbody>\n",
       "</table>\n",
       "</div>"
      ],
      "text/plain": [
       "   prod_uid                                              title          search_term                                         attributes                                        description  lcs  edit_dist  jacc_dist  title_search_proportion  title_len  search_len  description_len  brand_len  popularity  brand_popularity  brand_match  color_match  relevance\n",
       "0    100001                    simpson strong tie 12 gaug angl         angl bracket  versatil connector for variou 90 Ã¢Â° connect ...  angl make joint stronger also provid consist s...    4         27   0.578947                 3.000000          6           2              101          3           2               362            0            0       3.00\n",
       "1    100001                    simpson strong tie 12 gaug angl            l bracket  versatil connector for variou 90 Ã¢Â° connect ...  angl make joint stronger also provid consist s...    1         28   0.684211                 3.000000          6           2              101          3           2               362            0            0       2.50\n",
       "2    100002  behr premium textur deck over 1 _gal sc 141 tu...            deck over  applic method brush roller spray assembl depth...  behr premium textur deckov innov solid color c...    9         64   0.680000                 7.000000         14           2              139          5           1                 8            0            0       3.00\n",
       "3    100005  delta vero 1 handl shower onli faucet trim kit...     rain shower head  bath faucet type combo tub and shower includ t...  updat bathroom delta vero singl handl shower f...    8         58   0.450000                 4.666667         14           3               81          1           2               853            0            0       2.33\n",
       "4    100005  delta vero 1 handl shower onli faucet trim kit...   shower onli faucet  bath faucet type combo tub and shower includ t...  updat bathroom delta vero singl handl shower f...   18         54   0.250000                 4.666667         14           3               81          1           2               853            0            0       2.67\n",
       "5    100006  whirlpool 1 . 9 _cu _ft over the rang convect ...          convect otr  applianc type over the rang microwav assembl d...  achiev delici result almost effortless whirlpo...    8         79   0.666667                 8.500000         17           2              368          1           3               317            0            0       3.00\n",
       "6    100006  whirlpool 1 . 9 _cu _ft over the rang convect ...  microwav over stove  applianc type over the rang microwav assembl d...  achiev delici result almost effortless whirlpo...    9         76   0.500000                 5.666667         17           3              368          1           3               317            0            0       2.67\n",
       "7    100006  whirlpool 1 . 9 _cu _ft over the rang convect ...             microwav  applianc type over the rang microwav assembl d...  achiev delici result almost effortless whirlpo...    8         82   0.666667                17.000000         17           1              368          1           3               317            0            0       3.00\n",
       "8    100007  lithonia light quantum 2 light black led emerg...          emerg light  batteri power type ni cad batteri size .built ...  quantum adjust 2 light led black emerg light u...    6         50   0.571429                 5.000000         10           2              106          2           1               397            0            0       2.67\n",
       "9    100009  hous of fara 3 / 4 _in x 3 _in x 8 _ft mdf flu...            mdf 3 / 4  applic door window made of prime mdf can be pa...  get hous fara 3 / 4 _in x 3 _in x 8 _ft mdf fl...    6         46   0.681818                 4.000000         16           4               63          3           1               130            0            0       3.00"
      ]
     },
     "execution_count": 18,
     "metadata": {},
     "output_type": "execute_result"
    }
   ],
   "source": [
    "#Join all datasets into one\n",
    "\n",
    "dataset = []\n",
    "for i in range(prep_train.shape[0]):\n",
    "    prod_uid = prep_train['product_uid'][i]    \n",
    "    title = prep_train['product_title'][i]\n",
    "    search_term = prep_train['search_term'][i]\n",
    "    score = prep_train['relevance'][i]\n",
    "    \n",
    "    try:\n",
    "        description = prep_descriptions.loc[prod_uid][0] # careful here, 1 is because of unnamed column, will fix later\n",
    "        description_len = len(description.split())\n",
    "    except KeyError:\n",
    "        description = ''\n",
    "        description_len = 0\n",
    "        \n",
    "    try:\n",
    "        attribute = merged_attributes.loc[prod_uid][0]\n",
    "    except KeyError:\n",
    "        attribute = ''\n",
    "    \n",
    "    \n",
    "    lcs = len(longest_common_substring(title, search_term))\n",
    "    \n",
    "    edit_dist = nltk.edit_distance(title, search_term)\n",
    "    jacc_dist = nltk.jaccard_distance(set(title), set(search_term))\n",
    "    \n",
    "    popular = popularity.loc[prod_uid][0]\n",
    "    search_len = len(search_term.split(' '))\n",
    "    title_len = len(title.split(' '))\n",
    "    title_search_proportion = title_len/search_len\n",
    "    \n",
    "    try:\n",
    "        brand = brands['value'].loc[prod_uid]\n",
    "    except KeyError:\n",
    "        brand = None\n",
    "     \n",
    "    if brand is not None:\n",
    "        brand_popularity = brands_popularity[brand]\n",
    "        brand_len = len(brand.split())\n",
    "        if brand in search_term:        \n",
    "            brand_match = 1\n",
    "        else:    \n",
    "            brand_match = 0\n",
    "    else:\n",
    "        brand_len = 0\n",
    "        brand_popularity = 0\n",
    "        \n",
    "        \n",
    "    try:\n",
    "        color = set(colors['value'].loc[prod_uid].split())\n",
    "        search_set = set(search_term.split())\n",
    "        color_match = len(search_set.intersection(color))\n",
    "    except KeyError:\n",
    "        color_match = 0\n",
    "    \n",
    "    \n",
    "    \n",
    "    dataset.append([prod_uid, title, search_term, \n",
    "                    attribute, description, \n",
    "                    lcs, edit_dist, jacc_dist, \n",
    "                    title_search_proportion, \n",
    "                    title_len, search_len, description_len, brand_len,\n",
    "                    popular, brand_popularity, brand_match,\n",
    "                    color_match, score])\n",
    "joined_train = pd.DataFrame(dataset, columns=['prod_uid', 'title', 'search_term',\n",
    "                                              'attributes', 'description',\n",
    "                                              'lcs', 'edit_dist', 'jacc_dist', 'title_search_proportion',\n",
    "                                              'title_len', 'search_len', 'description_len', 'brand_len', \n",
    "                                              'popularity', 'brand_popularity', 'brand_match',\n",
    "                                              'color_match', 'relevance'])\n",
    "\n",
    "joined_train.head(10)\n"
   ]
  },
  {
   "cell_type": "markdown",
   "metadata": {},
   "source": [
    "## Craft new features: numbers overlap"
   ]
  },
  {
   "cell_type": "code",
   "execution_count": 25,
   "metadata": {
    "ExecuteTime": {
     "end_time": "2019-08-20T11:34:25.131873Z",
     "start_time": "2019-08-20T11:34:25.118210Z"
    }
   },
   "outputs": [
    {
     "name": "stdout",
     "output_type": "stream",
     "text": [
      "Regex: (?:\\d+ [/\\.] )?\\d+(?: _in| _ft| _yds| _cm| _mm)?(?: [wh])? x (?:\\d+ [/\\.] )?\\d+(?: _in| _ft| _yds| _cm| _mm)?(?: [wh])?(?: x (?:\\d+ [/\\.] )?\\d+(?: _in| _ft| _yds| _cm| _mm)?(?: [wh])?)?\n"
     ]
    },
    {
     "data": {
      "text/plain": [
       "1"
      ]
     },
     "execution_count": 25,
     "metadata": {},
     "output_type": "execute_result"
    }
   ],
   "source": [
    "def search_fractions(s):\n",
    "    return re.findall('\\d+ [/\\.] \\d+', s)\n",
    "\n",
    "\n",
    "def fractions_overlap(s1, s2):\n",
    "    frac1 = set(search_fractions(s1))\n",
    "    frac2 = set(search_fractions(s2))\n",
    "    overlap = frac1.intersection(frac2)\n",
    "    if len(overlap) > 0:\n",
    "        return 1\n",
    "    else:\n",
    "        return 0\n",
    "\n",
    "\n",
    "\n",
    "num = '(?:\\d+ [/\\.] )?\\d+' # match numbers like ['8', '3 . 5', '4 / 9']\n",
    "unit = '(?: _in| _ft| _yds| _cm| _mm)?(?: [wh])?' #match optional units\n",
    "regex = num + unit + ' x ' + num + unit + '(?:' + ' x ' + num + unit + ')?'\n",
    "#regex = num + any_word + ' x ' + num + any_word + '(?:' + ' x ' + num + any_word + ')?'\n",
    "\n",
    "print('Regex: ' + regex)\n",
    "\n",
    "def search_dimensions(s):\n",
    "    return list(map(remove_units, map(str.strip, (re.findall(regex, s)))))\n",
    "\n",
    "def remove_units(s):\n",
    "    return re.sub(' _in| _ft| _yds| _cm| _mm', '', s)\n",
    "\n",
    "def dimensions_overlap(s1, s2):\n",
    "    dim1 = set(search_dimensions(s1))\n",
    "    dim2 = set(search_dimensions(s2))\n",
    "    overlap = dim1.intersection(dim2) # how many exact matches\n",
    "\n",
    "    return len(overlap)\n",
    "\n",
    "#s1 = '3 / 4 x 2 . 3 ft x 2 . 3'\n",
    "#s2 = '3 / 4 x 2 . 3 in'\n",
    "\n",
    "s1 = 'marazzi montagna gunstock 6 _in x 24 _in glazed porcelain floor and wall tile 14 53 sq ft / case'\n",
    "s2 = 'porcelin floor tile 6 x 24'\n",
    "dimensions_overlap(s1, s2)\n",
    "#search_dimensions(s1)"
   ]
  },
  {
   "cell_type": "code",
   "execution_count": 26,
   "metadata": {
    "ExecuteTime": {
     "end_time": "2019-08-20T11:34:39.423848Z",
     "start_time": "2019-08-20T11:34:34.779163Z"
    }
   },
   "outputs": [
    {
     "name": "stdout",
     "output_type": "stream",
     "text": [
      "(array([0, 1]), array([71866,  2201]))\n",
      "(array([0, 1]), array([73354,   713]))\n"
     ]
    }
   ],
   "source": [
    "# frac and dim overlap\n",
    "def craft_frac_dim_features(joined_train):\n",
    "\n",
    "    frac_overlap = []\n",
    "    dim_overlap = []\n",
    "    for i in range(joined_train.shape[0]):\n",
    "        search = joined_train['search_term'][i]\n",
    "        title = joined_train['title'][i]\n",
    "        frac_overlap.append(fractions_overlap(search, title))\n",
    "        dim_overlap.append(dimensions_overlap(search, title))\n",
    "        \n",
    "    return [pd.Series(frac_overlap), pd.Series(dim_overlap)]   \n",
    "        \n",
    "        \n",
    "#\n",
    "frac_overlap, dim_overlap = craft_frac_dim_features(joined_train)\n",
    "\n",
    "print(np.unique(frac_overlap, return_counts=True))\n",
    "print(np.unique(dim_overlap, return_counts=True))"
   ]
  },
  {
   "cell_type": "markdown",
   "metadata": {},
   "source": [
    "## Vectorization"
   ]
  },
  {
   "cell_type": "code",
   "execution_count": 21,
   "metadata": {
    "ExecuteTime": {
     "end_time": "2019-08-20T11:29:18.381191Z",
     "start_time": "2019-08-20T11:29:04.832262Z"
    }
   },
   "outputs": [
    {
     "data": {
      "text/plain": [
       "CountVectorizer(analyzer='word', binary=False, decode_error='strict',\n",
       "        dtype=<class 'numpy.int64'>, encoding='utf-8', input='content',\n",
       "        lowercase=True, max_df=1.0, max_features=50000, min_df=1,\n",
       "        ngram_range=(1, 1), preprocessor=None, stop_words=None,\n",
       "        strip_accents=None, token_pattern='(?u)\\\\b\\\\w\\\\w+\\\\b',\n",
       "        tokenizer=None, vocabulary=None)"
      ]
     },
     "execution_count": 21,
     "metadata": {},
     "output_type": "execute_result"
    }
   ],
   "source": [
    "from sklearn.feature_extraction.text import CountVectorizer\n",
    "\n",
    "# Initialize the \"CountVectorizer\" object, which is scikit-learn's\n",
    "# bag of words tool.  \n",
    "vectorizer = CountVectorizer(analyzer = \"word\",   \\\n",
    "                             tokenizer = None,    \\\n",
    "                             preprocessor = None, \\\n",
    "                             stop_words = None,   \\\n",
    "                             max_features = 50000) \n",
    "\n",
    "\n",
    "all_text = [joined_train['title'], joined_train['search_term'],\n",
    "            joined_train['attributes'], joined_train['description']]\n",
    "vectorizer.fit(pd.concat(all_text))"
   ]
  },
  {
   "cell_type": "code",
   "execution_count": 27,
   "metadata": {
    "ExecuteTime": {
     "end_time": "2019-08-20T11:35:09.246144Z",
     "start_time": "2019-08-20T11:34:52.824127Z"
    }
   },
   "outputs": [],
   "source": [
    "# vectorize columns\n",
    "titles_vector       = vectorizer.transform(joined_train['title'])\n",
    "search_terms_vector = vectorizer.transform(joined_train['search_term'])\n",
    "attributes_vector    = vectorizer.transform(joined_train['attributes'])\n",
    "descriptions_vector = vectorizer.transform(joined_train['description'])"
   ]
  },
  {
   "cell_type": "markdown",
   "metadata": {},
   "source": [
    "## Craft new features: overlap of grams between product data and query"
   ]
  },
  {
   "cell_type": "code",
   "execution_count": 28,
   "metadata": {
    "ExecuteTime": {
     "end_time": "2019-08-20T11:35:11.896548Z",
     "start_time": "2019-08-20T11:35:11.760160Z"
    }
   },
   "outputs": [],
   "source": [
    "titles_search_overlap = titles_vector.multiply(search_terms_vector).sum(axis=1)\n",
    "descriptions_search_overlap = descriptions_vector.multiply(search_terms_vector).sum(axis=1)\n",
    "attributes_search_overlap = attributes_vector.multiply(search_terms_vector).sum(axis=1)"
   ]
  },
  {
   "cell_type": "markdown",
   "metadata": {},
   "source": [
    "## Concatenate features into one dataset"
   ]
  },
  {
   "cell_type": "code",
   "execution_count": 29,
   "metadata": {
    "ExecuteTime": {
     "end_time": "2019-08-20T11:35:16.276527Z",
     "start_time": "2019-08-20T11:35:16.189287Z"
    }
   },
   "outputs": [
    {
     "data": {
      "text/html": [
       "<div>\n",
       "<style scoped>\n",
       "    .dataframe tbody tr th:only-of-type {\n",
       "        vertical-align: middle;\n",
       "    }\n",
       "\n",
       "    .dataframe tbody tr th {\n",
       "        vertical-align: top;\n",
       "    }\n",
       "\n",
       "    .dataframe thead th {\n",
       "        text-align: right;\n",
       "    }\n",
       "</style>\n",
       "<table border=\"1\" class=\"dataframe\">\n",
       "  <thead>\n",
       "    <tr style=\"text-align: right;\">\n",
       "      <th></th>\n",
       "      <th>titles_search_overlap</th>\n",
       "      <th>descriptions_search_overlap</th>\n",
       "      <th>attributes_search_overlap</th>\n",
       "      <th>frac_overlap</th>\n",
       "      <th>dim_overlap</th>\n",
       "      <th>lcs</th>\n",
       "      <th>edit_dist</th>\n",
       "      <th>jacc_dist</th>\n",
       "      <th>popularity</th>\n",
       "      <th>search_len</th>\n",
       "      <th>brand_len</th>\n",
       "      <th>brand_match</th>\n",
       "      <th>color_match</th>\n",
       "      <th>relevance</th>\n",
       "    </tr>\n",
       "  </thead>\n",
       "  <tbody>\n",
       "    <tr>\n",
       "      <th>0</th>\n",
       "      <td>1</td>\n",
       "      <td>3.0</td>\n",
       "      <td>1.0</td>\n",
       "      <td>0.0</td>\n",
       "      <td>0.0</td>\n",
       "      <td>4.0</td>\n",
       "      <td>27.0</td>\n",
       "      <td>0.578947</td>\n",
       "      <td>2.0</td>\n",
       "      <td>2.0</td>\n",
       "      <td>3.0</td>\n",
       "      <td>0.0</td>\n",
       "      <td>0.0</td>\n",
       "      <td>3.00</td>\n",
       "    </tr>\n",
       "    <tr>\n",
       "      <th>1</th>\n",
       "      <td>0</td>\n",
       "      <td>0.0</td>\n",
       "      <td>0.0</td>\n",
       "      <td>0.0</td>\n",
       "      <td>0.0</td>\n",
       "      <td>1.0</td>\n",
       "      <td>28.0</td>\n",
       "      <td>0.684211</td>\n",
       "      <td>2.0</td>\n",
       "      <td>2.0</td>\n",
       "      <td>3.0</td>\n",
       "      <td>0.0</td>\n",
       "      <td>0.0</td>\n",
       "      <td>2.50</td>\n",
       "    </tr>\n",
       "    <tr>\n",
       "      <th>2</th>\n",
       "      <td>2</td>\n",
       "      <td>3.0</td>\n",
       "      <td>5.0</td>\n",
       "      <td>0.0</td>\n",
       "      <td>0.0</td>\n",
       "      <td>9.0</td>\n",
       "      <td>64.0</td>\n",
       "      <td>0.680000</td>\n",
       "      <td>1.0</td>\n",
       "      <td>2.0</td>\n",
       "      <td>5.0</td>\n",
       "      <td>0.0</td>\n",
       "      <td>0.0</td>\n",
       "      <td>3.00</td>\n",
       "    </tr>\n",
       "    <tr>\n",
       "      <th>3</th>\n",
       "      <td>1</td>\n",
       "      <td>1.0</td>\n",
       "      <td>2.0</td>\n",
       "      <td>0.0</td>\n",
       "      <td>0.0</td>\n",
       "      <td>8.0</td>\n",
       "      <td>58.0</td>\n",
       "      <td>0.450000</td>\n",
       "      <td>2.0</td>\n",
       "      <td>3.0</td>\n",
       "      <td>1.0</td>\n",
       "      <td>0.0</td>\n",
       "      <td>0.0</td>\n",
       "      <td>2.33</td>\n",
       "    </tr>\n",
       "    <tr>\n",
       "      <th>4</th>\n",
       "      <td>3</td>\n",
       "      <td>3.0</td>\n",
       "      <td>7.0</td>\n",
       "      <td>0.0</td>\n",
       "      <td>0.0</td>\n",
       "      <td>18.0</td>\n",
       "      <td>54.0</td>\n",
       "      <td>0.250000</td>\n",
       "      <td>2.0</td>\n",
       "      <td>3.0</td>\n",
       "      <td>1.0</td>\n",
       "      <td>0.0</td>\n",
       "      <td>0.0</td>\n",
       "      <td>2.67</td>\n",
       "    </tr>\n",
       "  </tbody>\n",
       "</table>\n",
       "</div>"
      ],
      "text/plain": [
       "   titles_search_overlap  descriptions_search_overlap  attributes_search_overlap  frac_overlap  dim_overlap   lcs  edit_dist  jacc_dist  popularity  search_len  brand_len  brand_match  color_match  relevance\n",
       "0                      1                          3.0                        1.0           0.0          0.0   4.0       27.0   0.578947         2.0         2.0        3.0          0.0          0.0       3.00\n",
       "1                      0                          0.0                        0.0           0.0          0.0   1.0       28.0   0.684211         2.0         2.0        3.0          0.0          0.0       2.50\n",
       "2                      2                          3.0                        5.0           0.0          0.0   9.0       64.0   0.680000         1.0         2.0        5.0          0.0          0.0       3.00\n",
       "3                      1                          1.0                        2.0           0.0          0.0   8.0       58.0   0.450000         2.0         3.0        1.0          0.0          0.0       2.33\n",
       "4                      3                          3.0                        7.0           0.0          0.0  18.0       54.0   0.250000         2.0         3.0        1.0          0.0          0.0       2.67"
      ]
     },
     "execution_count": 29,
     "metadata": {},
     "output_type": "execute_result"
    }
   ],
   "source": [
    "dataset = pd.DataFrame(np.concatenate(\n",
    "                      [#joined_train['prod_uid'].values.reshape((-1, 1)),\n",
    "                       titles_search_overlap, \n",
    "                       descriptions_search_overlap, \n",
    "                       attributes_search_overlap, \n",
    "                       frac_overlap.values.reshape((-1, 1)),\n",
    "                       dim_overlap.values.reshape((-1, 1)),   #'edit_dist', 'jacc_dist'\n",
    "                       joined_train['lcs'].values.reshape((-1, 1)),    \n",
    "                       joined_train['edit_dist'].values.reshape((-1, 1)),    \n",
    "                       joined_train['jacc_dist'].values.reshape((-1, 1)),    \n",
    "                       joined_train['popularity'].values.reshape((-1, 1)),\n",
    "                       #joined_train['title_len'].values.reshape((-1, 1)),\n",
    "                       #joined_train['title_search_proportion'].values.reshape((-1, 1)),\n",
    "                       joined_train['search_len'].values.reshape((-1, 1)),\n",
    "                       #joined_train['description_len'].values.reshape((-1, 1)),\n",
    "                       joined_train['brand_len'].values.reshape((-1, 1)),   \n",
    "                       #joined_train['brand_popularity'].values.reshape((-1, 1)),   \n",
    "                       joined_train['brand_match'].values.reshape((-1, 1)),   \n",
    "                       joined_train['color_match'].values.reshape((-1, 1)),   \n",
    "                       joined_train['relevance'].values.reshape((-1, 1))],\n",
    "                       axis=1))\n",
    "\n",
    "dataset[0] = dataset[0].astype(int)\n",
    "dataset.columns = ['titles_search_overlap',\n",
    "                   'descriptions_search_overlap',\n",
    "                   'attributes_search_overlap',\n",
    "                   'frac_overlap',\n",
    "                   'dim_overlap',\n",
    "                   'lcs',\n",
    "                   'edit_dist', \n",
    "                   'jacc_dist',\n",
    "                   'popularity', \n",
    "                   #'title_len',\n",
    "                   #'title_search_proportion',\n",
    "                   'search_len',\n",
    "                   #'description_len',\n",
    "                   'brand_len',\n",
    "                   #'brand_popularity',\n",
    "                   'brand_match',\n",
    "                   'color_match',\n",
    "                   'relevance']\n",
    "dataset.head()"
   ]
  },
  {
   "cell_type": "markdown",
   "metadata": {},
   "source": [
    "# MODEL"
   ]
  },
  {
   "cell_type": "code",
   "execution_count": 30,
   "metadata": {
    "ExecuteTime": {
     "end_time": "2019-08-20T11:35:24.533787Z",
     "start_time": "2019-08-20T11:35:24.132631Z"
    }
   },
   "outputs": [],
   "source": [
    "import xgboost as xgb\n",
    "model = xgb.XGBRegressor(learning_rate=0.2, objective='reg:squarederror')"
   ]
  },
  {
   "cell_type": "code",
   "execution_count": 31,
   "metadata": {
    "ExecuteTime": {
     "end_time": "2019-08-20T11:35:26.077444Z",
     "start_time": "2019-08-20T11:35:26.073147Z"
    }
   },
   "outputs": [],
   "source": [
    "#RMSE\n",
    "def RMSE(y_preds, y_test):\n",
    "    return np.sqrt(mean_squared_error(y_preds, y_test))\n"
   ]
  },
  {
   "cell_type": "code",
   "execution_count": 32,
   "metadata": {
    "ExecuteTime": {
     "end_time": "2019-08-20T11:35:36.089658Z",
     "start_time": "2019-08-20T11:35:27.225689Z"
    },
    "scrolled": true
   },
   "outputs": [
    {
     "name": "stdout",
     "output_type": "stream",
     "text": [
      "(74067, 13) (74067,) (74067, 14) \n",
      "\n"
     ]
    },
    {
     "name": "stderr",
     "output_type": "stream",
     "text": [
      "/home/vladislav/anaconda3/envs/homedepot/lib/python3.7/site-packages/xgboost/core.py:587: FutureWarning: Series.base is deprecated and will be removed in a future version\n",
      "  if getattr(data, 'base', None) is not None and \\\n"
     ]
    },
    {
     "name": "stdout",
     "output_type": "stream",
     "text": [
      "Train score:  0.47486431359530834\n",
      "Predictions:\n"
     ]
    },
    {
     "data": {
      "text/plain": [
       "<matplotlib.axes._subplots.AxesSubplot at 0x7ff42e217e48>"
      ]
     },
     "execution_count": 32,
     "metadata": {},
     "output_type": "execute_result"
    },
    {
     "data": {
      "image/png": "[encoded data removed]",
      "text/plain": [
       "<Figure size 432x288 with 1 Axes>"
      ]
     },
     "metadata": {
      "needs_background": "light"
     },
     "output_type": "display_data"
    }
   ],
   "source": [
    "X, y = [dataset.iloc[:, 0:-1], dataset.iloc[:, -1]]\n",
    "print(X.shape, y.shape, dataset.shape, '\\n')\n",
    "\n",
    "X_train, X_test, y_train, y_test = train_test_split(X, y, test_size=0.2, random_state=42)\n",
    "\n",
    "y_train = np.ravel(y_train)\n",
    "\n",
    "eval_set = [(X_train, y_train), (X_test, y_test)]\n",
    "eval_metric = [\"rmse\"]\n",
    "\n",
    "model.fit(X_train, y_train, eval_metric=eval_metric, eval_set=eval_set, verbose=False)\n",
    "model.fit(X_train, y_train, eval_metric=eval_metric, eval_set=eval_set, verbose=False)\n",
    "\n",
    "\n",
    "\n",
    "print('Train score: ', RMSE(model.predict(X_train), y_train))\n",
    "\n",
    "y_preds = model.predict(X_test)\n",
    "y_preds[y_preds<1] = 1\n",
    "y_preds[y_preds>3] = 3\n",
    "values = pd.Series(y_preds.reshape((-1))).value_counts() \n",
    "print('Predictions:')\n",
    "values.sort_index().plot(kind='line')\n"
   ]
  },
  {
   "cell_type": "code",
   "execution_count": 33,
   "metadata": {
    "ExecuteTime": {
     "end_time": "2019-08-20T11:35:39.200679Z",
     "start_time": "2019-08-20T11:35:39.007346Z"
    }
   },
   "outputs": [
    {
     "data": {
      "image/png": "[encoded data removed]",
      "text/plain": [
       "<Figure size 432x288 with 1 Axes>"
      ]
     },
     "metadata": {
      "needs_background": "light"
     },
     "output_type": "display_data"
    }
   ],
   "source": [
    "#plot learning curves\n",
    "results = model.evals_result()\n",
    "#print(results)\n",
    "epochs = len(results['validation_0']['rmse'])\n",
    "x_axis = range(0, epochs)\n",
    "# plot log loss\n",
    "fig, ax = plt.subplots()\n",
    "ax.plot(x_axis, results['validation_0']['rmse'], label='Train')\n",
    "ax.plot(x_axis, results['validation_1']['rmse'], label='Test')\n",
    "ax.legend()\n",
    "plt.ylabel('RMSE')\n",
    "plt.xlabel('epochs')\n",
    "plt.title('XGBRegressor rmse')\n",
    "axes = plt.gca()\n",
    "axes.set_xlim([10,100])\n",
    "axes.set_ylim([0.47,0.5])\n",
    "plt.show()\n"
   ]
  },
  {
   "cell_type": "code",
   "execution_count": null,
   "metadata": {},
   "outputs": [],
   "source": []
  },
  {
   "cell_type": "markdown",
   "metadata": {},
   "source": [
    "# EVALUATION"
   ]
  },
  {
   "cell_type": "code",
   "execution_count": 34,
   "metadata": {
    "ExecuteTime": {
     "end_time": "2019-08-20T11:36:17.055166Z",
     "start_time": "2019-08-20T11:35:44.328427Z"
    },
    "scrolled": false
   },
   "outputs": [
    {
     "name": "stdout",
     "output_type": "stream",
     "text": [
      "0.4786434961876364\n"
     ]
    },
    {
     "data": {
      "text/html": [
       "<div>\n",
       "<style scoped>\n",
       "    .dataframe tbody tr th:only-of-type {\n",
       "        vertical-align: middle;\n",
       "    }\n",
       "\n",
       "    .dataframe tbody tr th {\n",
       "        vertical-align: top;\n",
       "    }\n",
       "\n",
       "    .dataframe thead th {\n",
       "        text-align: right;\n",
       "    }\n",
       "</style>\n",
       "<table border=\"1\" class=\"dataframe\">\n",
       "  <thead>\n",
       "    <tr style=\"text-align: right;\">\n",
       "      <th></th>\n",
       "      <th>Score</th>\n",
       "    </tr>\n",
       "  </thead>\n",
       "  <tbody>\n",
       "    <tr>\n",
       "      <th>0</th>\n",
       "      <td>0.478279</td>\n",
       "    </tr>\n",
       "    <tr>\n",
       "      <th>1</th>\n",
       "      <td>0.476096</td>\n",
       "    </tr>\n",
       "    <tr>\n",
       "      <th>2</th>\n",
       "      <td>0.477657</td>\n",
       "    </tr>\n",
       "    <tr>\n",
       "      <th>3</th>\n",
       "      <td>0.481772</td>\n",
       "    </tr>\n",
       "    <tr>\n",
       "      <th>4</th>\n",
       "      <td>0.481329</td>\n",
       "    </tr>\n",
       "    <tr>\n",
       "      <th>5</th>\n",
       "      <td>0.479486</td>\n",
       "    </tr>\n",
       "    <tr>\n",
       "      <th>6</th>\n",
       "      <td>0.480137</td>\n",
       "    </tr>\n",
       "    <tr>\n",
       "      <th>7</th>\n",
       "      <td>0.477672</td>\n",
       "    </tr>\n",
       "    <tr>\n",
       "      <th>8</th>\n",
       "      <td>0.478091</td>\n",
       "    </tr>\n",
       "    <tr>\n",
       "      <th>9</th>\n",
       "      <td>0.475917</td>\n",
       "    </tr>\n",
       "  </tbody>\n",
       "</table>\n",
       "</div>"
      ],
      "text/plain": [
       "      Score\n",
       "0  0.478279\n",
       "1  0.476096\n",
       "2  0.477657\n",
       "3  0.481772\n",
       "4  0.481329\n",
       "5  0.479486\n",
       "6  0.480137\n",
       "7  0.477672\n",
       "8  0.478091\n",
       "9  0.475917"
      ]
     },
     "metadata": {},
     "output_type": "display_data"
    }
   ],
   "source": [
    "# K-FOLD validation\n",
    "\n",
    "\n",
    "scores = []\n",
    "cv = KFold(n_splits=10, shuffle=True, random_state=42)\n",
    "#X = X.values\n",
    "for train_index, test_index in cv.split(X):\n",
    "    #print(\"Train Index: \", train_index, \"\\n\")\n",
    "    #print(\"Test Index: \", test_index)\n",
    "\n",
    "    X_train, X_test, y_train, y_test = X.iloc[train_index], X.iloc[test_index], y.iloc[train_index], y.iloc[test_index]\n",
    "    model.fit(X_train, np.ravel(y_train))\n",
    "    y_preds = model.predict(X_test)\n",
    "    y_preds[y_preds<1] = 1\n",
    "    y_preds[y_preds>3] = 3\n",
    "    scores.append(RMSE(y_preds, y_test))\n",
    "\n",
    "print(np.mean(scores))\n",
    "display(pd.DataFrame(scores, columns=['Score']))\n",
    "\n"
   ]
  },
  {
   "cell_type": "code",
   "execution_count": 35,
   "metadata": {
    "ExecuteTime": {
     "end_time": "2019-08-20T11:36:19.068430Z",
     "start_time": "2019-08-20T11:36:19.052962Z"
    }
   },
   "outputs": [
    {
     "data": {
      "text/html": [
       "<div>\n",
       "<style scoped>\n",
       "    .dataframe tbody tr th:only-of-type {\n",
       "        vertical-align: middle;\n",
       "    }\n",
       "\n",
       "    .dataframe tbody tr th {\n",
       "        vertical-align: top;\n",
       "    }\n",
       "\n",
       "    .dataframe thead th {\n",
       "        text-align: right;\n",
       "    }\n",
       "</style>\n",
       "<table border=\"1\" class=\"dataframe\">\n",
       "  <thead>\n",
       "    <tr style=\"text-align: right;\">\n",
       "      <th></th>\n",
       "      <th>0</th>\n",
       "    </tr>\n",
       "  </thead>\n",
       "  <tbody>\n",
       "    <tr>\n",
       "      <th>lcs</th>\n",
       "      <td>31.620639</td>\n",
       "    </tr>\n",
       "    <tr>\n",
       "      <th>titles_search_overlap</th>\n",
       "      <td>31.453140</td>\n",
       "    </tr>\n",
       "    <tr>\n",
       "      <th>search_len</th>\n",
       "      <td>24.681723</td>\n",
       "    </tr>\n",
       "    <tr>\n",
       "      <th>descriptions_search_overlap</th>\n",
       "      <td>14.324863</td>\n",
       "    </tr>\n",
       "    <tr>\n",
       "      <th>brand_len</th>\n",
       "      <td>14.271543</td>\n",
       "    </tr>\n",
       "    <tr>\n",
       "      <th>frac_overlap</th>\n",
       "      <td>8.910724</td>\n",
       "    </tr>\n",
       "    <tr>\n",
       "      <th>brand_match</th>\n",
       "      <td>7.194048</td>\n",
       "    </tr>\n",
       "    <tr>\n",
       "      <th>popularity</th>\n",
       "      <td>6.675997</td>\n",
       "    </tr>\n",
       "    <tr>\n",
       "      <th>dim_overlap</th>\n",
       "      <td>6.427645</td>\n",
       "    </tr>\n",
       "    <tr>\n",
       "      <th>attributes_search_overlap</th>\n",
       "      <td>5.090720</td>\n",
       "    </tr>\n",
       "    <tr>\n",
       "      <th>edit_dist</th>\n",
       "      <td>4.783791</td>\n",
       "    </tr>\n",
       "    <tr>\n",
       "      <th>jacc_dist</th>\n",
       "      <td>2.771540</td>\n",
       "    </tr>\n",
       "    <tr>\n",
       "      <th>color_match</th>\n",
       "      <td>2.646730</td>\n",
       "    </tr>\n",
       "  </tbody>\n",
       "</table>\n",
       "</div>"
      ],
      "text/plain": [
       "                                     0\n",
       "lcs                          31.620639\n",
       "titles_search_overlap        31.453140\n",
       "search_len                   24.681723\n",
       "descriptions_search_overlap  14.324863\n",
       "brand_len                    14.271543\n",
       "frac_overlap                  8.910724\n",
       "brand_match                   7.194048\n",
       "popularity                    6.675997\n",
       "dim_overlap                   6.427645\n",
       "attributes_search_overlap     5.090720\n",
       "edit_dist                     4.783791\n",
       "jacc_dist                     2.771540\n",
       "color_match                   2.646730"
      ]
     },
     "execution_count": 35,
     "metadata": {},
     "output_type": "execute_result"
    }
   ],
   "source": [
    "pd.DataFrame.from_dict(model.get_booster().get_score(importance_type='gain'), orient='index').sort_values(0,ascending=False)"
   ]
  },
  {
   "cell_type": "code",
   "execution_count": 36,
   "metadata": {
    "ExecuteTime": {
     "end_time": "2019-08-20T11:36:21.082023Z",
     "start_time": "2019-08-20T11:36:21.073042Z"
    }
   },
   "outputs": [],
   "source": [
    "import numpy as np\n",
    "import matplotlib.pyplot as plt\n",
    "from scipy.interpolate import interpn\n",
    "def density_scatter( x , y, ax = None, sort = True, bins = 20, **kwargs )   :\n",
    "    \"\"\"\n",
    "    Scatter plot colored by 2d histogram\n",
    "    \"\"\"\n",
    "    if ax is None :\n",
    "        fig , ax = plt.subplots()\n",
    "    data , x_e, y_e = np.histogram2d( x, y, bins = bins)\n",
    "    z = interpn( ( 0.5*(x_e[1:] + x_e[:-1]) , 0.5*(y_e[1:]+y_e[:-1]) ) , data , np.vstack([x,y]).T , method = \"splinef2d\", bounds_error = False )\n",
    "\n",
    "    # Sort the points by density, so that the densest points are plotted last\n",
    "    if sort :\n",
    "        idx = z.argsort()\n",
    "        x, y, z = x[idx], y[idx], z[idx]\n",
    "\n",
    "    ax.scatter( x, y, c=z, **kwargs )\n",
    "    return ax\n"
   ]
  },
  {
   "cell_type": "code",
   "execution_count": null,
   "metadata": {
    "ExecuteTime": {
     "start_time": "2019-08-20T11:36:03.146Z"
    }
   },
   "outputs": [
    {
     "data": {
      "image/png": "[encoded data removed]",
      "text/plain": [
       "<Figure size 432x288 with 1 Axes>"
      ]
     },
     "metadata": {
      "needs_background": "light"
     },
     "output_type": "display_data"
    },
    {
     "data": {
      "image/png": "[encoded data removed]",
      "text/plain": [
       "<Figure size 432x288 with 1 Axes>"
      ]
     },
     "metadata": {
      "needs_background": "light"
     },
     "output_type": "display_data"
    },
    {
     "data": {
      "image/png": "[encoded data removed]",
      "text/plain": [
       "<Figure size 432x288 with 1 Axes>"
      ]
     },
     "metadata": {
      "needs_background": "light"
     },
     "output_type": "display_data"
    },
    {
     "data": {
      "image/png": "[encoded data removed]",
      "text/plain": [
       "<Figure size 432x288 with 1 Axes>"
      ]
     },
     "metadata": {
      "needs_background": "light"
     },
     "output_type": "display_data"
    },
    {
     "data": {
      "image/png": "[encoded data removed]",
      "text/plain": [
       "<Figure size 432x288 with 1 Axes>"
      ]
     },
     "metadata": {
      "needs_background": "light"
     },
     "output_type": "display_data"
    },
    {
     "data": {
      "image/png": "[encoded data removed]",
      "text/plain": [
       "<Figure size 432x288 with 1 Axes>"
      ]
     },
     "metadata": {
      "needs_background": "light"
     },
     "output_type": "display_data"
    }
   ],
   "source": [
    "from scipy.stats import gaussian_kde\n",
    "y = dataset['relevance']\n",
    "for feature in dataset.columns:\n",
    "    if feature is not 'relevance':\n",
    "        x = dataset[feature]\n",
    "        \n",
    "        fig, ax = plt.subplots()\n",
    "        density_scatter( x , y, ax, bins=50)\n",
    "        \n",
    "        \n",
    "        \n",
    "        plt.ylabel('relevance')\n",
    "        plt.xlabel(feature)\n",
    "        plt.show()"
   ]
  },
  {
   "cell_type": "markdown",
   "metadata": {},
   "source": [
    "# Error analysis"
   ]
  },
  {
   "cell_type": "code",
   "execution_count": null,
   "metadata": {
    "ExecuteTime": {
     "start_time": "2019-08-20T11:36:06.848Z"
    },
    "scrolled": true
   },
   "outputs": [],
   "source": [
    "pd.set_option('display.max_rows', 500)\n",
    "pd.set_option('display.max_columns', 500)\n",
    "pd.set_option('display.width', 1000)\n",
    "\n",
    "diffs = y_test-y_preds\n",
    "worst_mistakes = np.abs(diffs).sort_values(ascending = False)\n",
    "display(worst_mistakes.head(5))\n",
    "df = []\n",
    "pred_rel = []\n",
    "gram_overlap = []\n",
    "\n",
    "for index in worst_mistakes.head(5).index.values:\n",
    "    row = joined_train.loc[index] \n",
    "    pred_rel.append(dataset['relevance'].loc[index] - diffs.loc[index])                       \n",
    "    #gram_overlap.append(dataset[0].loc[index].astype(int))\n",
    "    df.append(row)\n",
    "\n",
    "df = pd.DataFrame(df)\n",
    "\n",
    "df['predicted'] = pred_rel \n",
    "#df['gram_overlap'] = gram_overlap\n",
    "display(df)\n",
    "    \n"
   ]
  },
  {
   "cell_type": "markdown",
   "metadata": {},
   "source": [
    "### Baseline (train - search longest common substring), RMSE - 0.518, while: \n",
    "* best score on lb: 0.431\n",
    "* all 1 submission score: 1.481\n",
    "* all 2 submission score: 0.655\n",
    "* all 3 submission score: 0.815\n",
    "* Relevance mean score - 0.5356\n",
    "### Best score so far:\n",
    "* XGB regressor  0.47911"
   ]
  },
  {
   "cell_type": "markdown",
   "metadata": {
    "heading_collapsed": true
   },
   "source": [
    "# INFERENCE DATA LOAD"
   ]
  },
  {
   "cell_type": "code",
   "execution_count": 28,
   "metadata": {
    "hidden": true
   },
   "outputs": [
    {
     "data": {
      "text/plain": [
       "(166693, 1)"
      ]
     },
     "execution_count": 28,
     "metadata": {},
     "output_type": "execute_result"
    }
   ],
   "source": [
    "submission = pd.read_csv(input_path + \"test.csv\", engine=\"python\")\n",
    "dataset = []\n",
    "for i in range(submission.shape[0]):\n",
    "    desc =  submission.iloc[i, 2]\n",
    "    query = submission.iloc[i, 3]\n",
    "    lcs = matchsubstring(desc.lower(), query.lower()) # longest common substring\n",
    "    overlap = len(lcs)\n",
    "    dataset.append([overlap])\n",
    "dataset = np.array(dataset)\n",
    "dataset.shape"
   ]
  },
  {
   "cell_type": "markdown",
   "metadata": {
    "heading_collapsed": true
   },
   "source": [
    "# INFERENCE"
   ]
  },
  {
   "cell_type": "code",
   "execution_count": 29,
   "metadata": {
    "hidden": true
   },
   "outputs": [
    {
     "data": {
      "text/plain": [
       "2.309699    20207\n",
       "2.366322    19982\n",
       "2.405317    16358\n",
       "2.300432    14843\n",
       "2.440167    12511\n",
       "2.451519    10876\n",
       "2.453807    10558\n",
       "2.462379     9938\n",
       "2.208040     7820\n",
       "2.502626     7213\n",
       "2.001926     7108\n",
       "2.517936     5316\n",
       "2.521558     4793\n",
       "2.080039     4397\n",
       "2.530338     3152\n",
       "2.549126     2385\n",
       "2.540354     2096\n",
       "1.880398     1874\n",
       "2.602454     1293\n",
       "2.600461      914\n",
       "2.661237      745\n",
       "2.558575      555\n",
       "2.620296      368\n",
       "2.653108      286\n",
       "2.679566      262\n",
       "2.614865      163\n",
       "2.511387      156\n",
       "2.677061       92\n",
       "2.631297       81\n",
       "2.446669       60\n",
       "2.577074       46\n",
       "2.242688       42\n",
       "1.863927       30\n",
       "2.506648       24\n",
       "2.704338       21\n",
       "2.741713       21\n",
       "2.751972       19\n",
       "2.683192       13\n",
       "2.620749       12\n",
       "2.786805       12\n",
       "2.773557        9\n",
       "2.687377        9\n",
       "2.791877        7\n",
       "2.452969        4\n",
       "2.340735        4\n",
       "2.378362        4\n",
       "2.712363        4\n",
       "2.725701        4\n",
       "2.337368        2\n",
       "2.542676        2\n",
       "2.623326        2\n",
       "dtype: int64"
      ]
     },
     "execution_count": 29,
     "metadata": {},
     "output_type": "execute_result"
    }
   ],
   "source": [
    "res = model.predict(dataset)\n",
    "pd.Series(res).value_counts() "
   ]
  },
  {
   "cell_type": "markdown",
   "metadata": {
    "heading_collapsed": true
   },
   "source": [
    "# OUTPUT"
   ]
  },
  {
   "cell_type": "code",
   "execution_count": 30,
   "metadata": {
    "hidden": true
   },
   "outputs": [
    {
     "data": {
      "text/html": [
       "<div>\n",
       "<style scoped>\n",
       "    .dataframe tbody tr th:only-of-type {\n",
       "        vertical-align: middle;\n",
       "    }\n",
       "\n",
       "    .dataframe tbody tr th {\n",
       "        vertical-align: top;\n",
       "    }\n",
       "\n",
       "    .dataframe thead th {\n",
       "        text-align: right;\n",
       "    }\n",
       "</style>\n",
       "<table border=\"1\" class=\"dataframe\">\n",
       "  <thead>\n",
       "    <tr style=\"text-align: right;\">\n",
       "      <th></th>\n",
       "      <th>id</th>\n",
       "      <th>relevance</th>\n",
       "    </tr>\n",
       "  </thead>\n",
       "  <tbody>\n",
       "    <tr>\n",
       "      <th>0</th>\n",
       "      <td>1</td>\n",
       "      <td>2.001926</td>\n",
       "    </tr>\n",
       "    <tr>\n",
       "      <th>1</th>\n",
       "      <td>4</td>\n",
       "      <td>1.880398</td>\n",
       "    </tr>\n",
       "    <tr>\n",
       "      <th>2</th>\n",
       "      <td>5</td>\n",
       "      <td>2.440167</td>\n",
       "    </tr>\n",
       "    <tr>\n",
       "      <th>3</th>\n",
       "      <td>6</td>\n",
       "      <td>2.517936</td>\n",
       "    </tr>\n",
       "    <tr>\n",
       "      <th>4</th>\n",
       "      <td>7</td>\n",
       "      <td>2.517936</td>\n",
       "    </tr>\n",
       "  </tbody>\n",
       "</table>\n",
       "</div>"
      ],
      "text/plain": [
       "   id  relevance\n",
       "0   1   2.001926\n",
       "1   4   1.880398\n",
       "2   5   2.440167\n",
       "3   6   2.517936\n",
       "4   7   2.517936"
      ]
     },
     "execution_count": 30,
     "metadata": {},
     "output_type": "execute_result"
    }
   ],
   "source": [
    "res[res>3] = 3\n",
    "res = pd.DataFrame(res, columns=['relevance'])\n",
    "res['id'] = submission['id']\n",
    "res = res[['id', 'relevance']]\n",
    "res.head()"
   ]
  },
  {
   "cell_type": "code",
   "execution_count": 31,
   "metadata": {
    "hidden": true
   },
   "outputs": [
    {
     "data": {
      "text/html": [
       "<div>\n",
       "<style scoped>\n",
       "    .dataframe tbody tr th:only-of-type {\n",
       "        vertical-align: middle;\n",
       "    }\n",
       "\n",
       "    .dataframe tbody tr th {\n",
       "        vertical-align: top;\n",
       "    }\n",
       "\n",
       "    .dataframe thead th {\n",
       "        text-align: right;\n",
       "    }\n",
       "</style>\n",
       "<table border=\"1\" class=\"dataframe\">\n",
       "  <thead>\n",
       "    <tr style=\"text-align: right;\">\n",
       "      <th></th>\n",
       "      <th>id</th>\n",
       "      <th>relevance</th>\n",
       "    </tr>\n",
       "  </thead>\n",
       "  <tbody>\n",
       "  </tbody>\n",
       "</table>\n",
       "</div>"
      ],
      "text/plain": [
       "Empty DataFrame\n",
       "Columns: [id, relevance]\n",
       "Index: []"
      ]
     },
     "execution_count": 31,
     "metadata": {},
     "output_type": "execute_result"
    }
   ],
   "source": [
    "res.loc[res['relevance']>=3]"
   ]
  },
  {
   "cell_type": "code",
   "execution_count": 32,
   "metadata": {
    "hidden": true
   },
   "outputs": [],
   "source": [
    "res.to_csv('output.csv', index=False)"
   ]
  },
  {
   "cell_type": "code",
   "execution_count": 33,
   "metadata": {
    "hidden": true
   },
   "outputs": [
    {
     "data": {
      "text/html": [
       "<div>\n",
       "<style scoped>\n",
       "    .dataframe tbody tr th:only-of-type {\n",
       "        vertical-align: middle;\n",
       "    }\n",
       "\n",
       "    .dataframe tbody tr th {\n",
       "        vertical-align: top;\n",
       "    }\n",
       "\n",
       "    .dataframe thead th {\n",
       "        text-align: right;\n",
       "    }\n",
       "</style>\n",
       "<table border=\"1\" class=\"dataframe\">\n",
       "  <thead>\n",
       "    <tr style=\"text-align: right;\">\n",
       "      <th></th>\n",
       "      <th>id</th>\n",
       "      <th>relevance</th>\n",
       "    </tr>\n",
       "  </thead>\n",
       "  <tbody>\n",
       "  </tbody>\n",
       "</table>\n",
       "</div>"
      ],
      "text/plain": [
       "Empty DataFrame\n",
       "Columns: [id, relevance]\n",
       "Index: []"
      ]
     },
     "execution_count": 33,
     "metadata": {},
     "output_type": "execute_result"
    }
   ],
   "source": [
    "tmp = pd.read_csv(\"output.csv\")\n",
    "tmp.loc[tmp['relevance']>3]"
   ]
  },
  {
   "cell_type": "code",
   "execution_count": 34,
   "metadata": {
    "hidden": true
   },
   "outputs": [
    {
     "name": "stdout",
     "output_type": "stream",
     "text": [
      "<class 'pandas.core.frame.DataFrame'>\n",
      "RangeIndex: 166693 entries, 0 to 166692\n",
      "Data columns (total 2 columns):\n",
      "id           166693 non-null int64\n",
      "relevance    166693 non-null float64\n",
      "dtypes: float64(1), int64(1)\n",
      "memory usage: 2.5 MB\n"
     ]
    }
   ],
   "source": [
    "tmp.info()"
   ]
  },
  {
   "cell_type": "code",
   "execution_count": 35,
   "metadata": {
    "hidden": true
   },
   "outputs": [
    {
     "name": "stdout",
     "output_type": "stream",
     "text": [
      "id,relevance\r\n",
      "1,2.001926138644444\r\n",
      "4,1.880398441318938\r\n",
      "5,2.4401667969070053\r\n",
      "6,2.517935886475066\r\n",
      "7,2.517935886475066\r\n",
      "8,2.001926138644444\r\n",
      "10,2.6024539827454927\r\n",
      "11,2.366322356378352\r\n",
      "12,2.366322356378352\r\n"
     ]
    }
   ],
   "source": [
    "!head output.csv "
   ]
  },
  {
   "cell_type": "code",
   "execution_count": null,
   "metadata": {
    "hidden": true
   },
   "outputs": [],
   "source": []
  }
 ],
 "metadata": {
  "kernelspec": {
   "display_name": "Python 3",
   "language": "python",
   "name": "python3"
  },
  "language_info": {
   "codemirror_mode": {
    "name": "ipython",
    "version": 3
   },
   "file_extension": ".py",
   "mimetype": "text/x-python",
   "name": "python",
   "nbconvert_exporter": "python",
   "pygments_lexer": "ipython3",
   "version": "3.7.3"
  },
  "varInspector": {
   "cols": {
    "lenName": 16,
    "lenType": 16,
    "lenVar": 40
   },
   "kernels_config": {
    "python": {
     "delete_cmd_postfix": "",
     "delete_cmd_prefix": "del ",
     "library": "var_list.py",
     "varRefreshCmd": "print(var_dic_list())"
    },
    "r": {
     "delete_cmd_postfix": ") ",
     "delete_cmd_prefix": "rm(",
     "library": "var_list.r",
     "varRefreshCmd": "cat(var_dic_list()) "
    }
   },
   "position": {
    "height": "359px",
    "left": "598px",
    "right": "20px",
    "top": "100px",
    "width": "547px"
   },
   "types_to_exclude": [
    "module",
    "function",
    "builtin_function_or_method",
    "instance",
    "_Feature"
   ],
   "window_display": false
  }
 },
 "nbformat": 4,
 "nbformat_minor": 1
}
